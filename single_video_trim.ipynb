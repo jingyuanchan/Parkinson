{
 "cells": [
  {
   "cell_type": "code",
   "execution_count": 3,
   "metadata": {},
   "outputs": [],
   "source": [
    "import numpy as np\n",
    "import cv2\n",
    "import math\n",
    "\n",
    "vid_path = r\"C:\\Users\\jingy\\Parkinson\\NIHPV063ETJTZ\\Month 12\\GAIT control.MTS\""
   ]
  },
  {
   "cell_type": "code",
   "execution_count": 5,
   "metadata": {},
   "outputs": [
    {
     "name": "stdout",
     "output_type": "stream",
     "text": [
      "29.97002997002997\n",
      "269\n",
      "780\n"
     ]
    }
   ],
   "source": [
    "# define some video property \n",
    "cap = cv2.VideoCapture(vid_path)\n",
    "fps = cap.get(cv2.CAP_PROP_FPS)\n",
    "frame_width = int(cap.get(3))\n",
    "frame_height = int(cap.get(4))\n",
    "frame_num = int(cap.get(7))\n",
    "\n",
    "# calculate the frame to start and end \n",
    "print(fps)\n",
    "start = 26\n",
    "end = 35\n",
    "start_frame = math.ceil(start* fps)\n",
    "end_frame = math.ceil(end * fps)\n",
    "\n",
    "print(end_frame-start_frame)\n",
    "# define out put video\n",
    "\n",
    "output_path = 'outpy.avi'\n",
    "out = cv2.VideoWriter(output_path,cv2.VideoWriter_fourcc(*'MJPG'), 30,\n",
    " (frame_width,frame_height))\n",
    "\n",
    "# set the video to start frame\n",
    "cap.set(1,start_frame)\n",
    "print(start_frame)\n",
    "# load and save the frames\n",
    "for i in range(end_frame-start_frame):\n",
    "\n",
    "  ret, frame = cap.read()\n",
    "  \n",
    "  if ret == True: \n",
    "    out.write(frame)\n",
    "\n",
    "  #   cv2.imshow('frame',frame)\n",
    "\n",
    "  #   if cv2.waitKey(1) & 0xFF == ord('q'):\n",
    "  #     break\n",
    "\n",
    "  # else:\n",
    "  #   break  \n",
    "\n",
    "cap.release()\n",
    "out.release()\n",
    "\n",
    "\n",
    "cv2.destroyAllWindows()"
   ]
  },
  {
   "cell_type": "code",
   "execution_count": null,
   "metadata": {},
   "outputs": [],
   "source": []
  }
 ],
 "metadata": {
  "kernelspec": {
   "display_name": "simhrnet",
   "language": "python",
   "name": "python3"
  },
  "language_info": {
   "codemirror_mode": {
    "name": "ipython",
    "version": 3
   },
   "file_extension": ".py",
   "mimetype": "text/x-python",
   "name": "python",
   "nbconvert_exporter": "python",
   "pygments_lexer": "ipython3",
   "version": "3.8.11"
  },
  "orig_nbformat": 4,
  "vscode": {
   "interpreter": {
    "hash": "278c0a692909be935b2722507d6e4b89ee85d70589a1d7d6b9099b75c6b3e353"
   }
  }
 },
 "nbformat": 4,
 "nbformat_minor": 2
}
