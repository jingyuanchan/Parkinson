{
 "cells": [
  {
   "cell_type": "code",
   "execution_count": 3,
   "metadata": {},
   "outputs": [],
   "source": [
    "import numpy as np\n",
    "import cv2\n",
    "import pandas as pd\n",
    "import os\n",
    "from tqdm import tqdm\n",
    "trim_csv =r\"C:\\Users\\jingy\\Parkinson\\Codes\\data_trim.csv\"\n",
    "df= pd.read_csv(trim_csv)"
   ]
  },
  {
   "cell_type": "code",
   "execution_count": 4,
   "metadata": {},
   "outputs": [
    {
     "data": {
      "text/html": [
       "<div>\n",
       "<style scoped>\n",
       "    .dataframe tbody tr th:only-of-type {\n",
       "        vertical-align: middle;\n",
       "    }\n",
       "\n",
       "    .dataframe tbody tr th {\n",
       "        vertical-align: top;\n",
       "    }\n",
       "\n",
       "    .dataframe thead th {\n",
       "        text-align: right;\n",
       "    }\n",
       "</style>\n",
       "<table border=\"1\" class=\"dataframe\">\n",
       "  <thead>\n",
       "    <tr style=\"text-align: right;\">\n",
       "      <th></th>\n",
       "      <th>Video_Path</th>\n",
       "      <th>Time</th>\n",
       "      <th>ON or OFF</th>\n",
       "      <th>R1 or R2</th>\n",
       "      <th>Halfway or Wholeway</th>\n",
       "      <th>FW_Start</th>\n",
       "      <th>FW_End</th>\n",
       "      <th>BW_Start</th>\n",
       "      <th>BW_End</th>\n",
       "      <th>Video Condition</th>\n",
       "    </tr>\n",
       "  </thead>\n",
       "  <tbody>\n",
       "    <tr>\n",
       "      <th>0</th>\n",
       "      <td>\"C:\\Users\\jingy\\Parkinson\\NIHFX695VBHFM\\Baseli...</td>\n",
       "      <td>Baseline</td>\n",
       "      <td>OFF</td>\n",
       "      <td>R1</td>\n",
       "      <td>Whole</td>\n",
       "      <td>12.00</td>\n",
       "      <td>18.44</td>\n",
       "      <td>20.68</td>\n",
       "      <td>25.08</td>\n",
       "      <td>NaN</td>\n",
       "    </tr>\n",
       "    <tr>\n",
       "      <th>1</th>\n",
       "      <td>\"C:\\Users\\jingy\\Parkinson\\NIHFX695VBHFM\\Baseli...</td>\n",
       "      <td>Baseline</td>\n",
       "      <td>OFF</td>\n",
       "      <td>R2</td>\n",
       "      <td>Whole</td>\n",
       "      <td>168.64</td>\n",
       "      <td>180.00</td>\n",
       "      <td>189.52</td>\n",
       "      <td>199.08</td>\n",
       "      <td>NaN</td>\n",
       "    </tr>\n",
       "    <tr>\n",
       "      <th>2</th>\n",
       "      <td>\"C:\\Users\\jingy\\Parkinson\\NIHFX695VBHFM\\Month ...</td>\n",
       "      <td>M12</td>\n",
       "      <td>OFF</td>\n",
       "      <td>R1</td>\n",
       "      <td>Half</td>\n",
       "      <td>NaN</td>\n",
       "      <td>NaN</td>\n",
       "      <td>25.92</td>\n",
       "      <td>31.60</td>\n",
       "      <td>NaN</td>\n",
       "    </tr>\n",
       "    <tr>\n",
       "      <th>3</th>\n",
       "      <td>\"C:\\Users\\jingy\\Parkinson\\NIHFX695VBHFM\\Month ...</td>\n",
       "      <td>M12</td>\n",
       "      <td>OFF</td>\n",
       "      <td>R2</td>\n",
       "      <td>Whole</td>\n",
       "      <td>150.52</td>\n",
       "      <td>161.48</td>\n",
       "      <td>174.32</td>\n",
       "      <td>184.72</td>\n",
       "      <td>NaN</td>\n",
       "    </tr>\n",
       "    <tr>\n",
       "      <th>4</th>\n",
       "      <td>\"C:\\Users\\jingy\\Parkinson\\NIHFX695VBHFM\\Month ...</td>\n",
       "      <td>M12</td>\n",
       "      <td>ON</td>\n",
       "      <td>R1</td>\n",
       "      <td>Half</td>\n",
       "      <td>15.96</td>\n",
       "      <td>21.20</td>\n",
       "      <td>23.56</td>\n",
       "      <td>29.04</td>\n",
       "      <td>NaN</td>\n",
       "    </tr>\n",
       "    <tr>\n",
       "      <th>...</th>\n",
       "      <td>...</td>\n",
       "      <td>...</td>\n",
       "      <td>...</td>\n",
       "      <td>...</td>\n",
       "      <td>...</td>\n",
       "      <td>...</td>\n",
       "      <td>...</td>\n",
       "      <td>...</td>\n",
       "      <td>...</td>\n",
       "      <td>...</td>\n",
       "    </tr>\n",
       "    <tr>\n",
       "      <th>464</th>\n",
       "      <td>\"C:\\Users\\jingy\\Parkinson\\NIHYW345FJFDF\\Baseli...</td>\n",
       "      <td>Baseline</td>\n",
       "      <td>ON</td>\n",
       "      <td>R2</td>\n",
       "      <td>Half</td>\n",
       "      <td>90.00</td>\n",
       "      <td>96.00</td>\n",
       "      <td>NaN</td>\n",
       "      <td>NaN</td>\n",
       "      <td>NaN</td>\n",
       "    </tr>\n",
       "    <tr>\n",
       "      <th>465</th>\n",
       "      <td>\"C:\\Users\\jingy\\Parkinson\\NIHZB051YHETP\\Baseli...</td>\n",
       "      <td>Baseline</td>\n",
       "      <td>OFF</td>\n",
       "      <td>R1</td>\n",
       "      <td>Whole</td>\n",
       "      <td>148.00</td>\n",
       "      <td>157.00</td>\n",
       "      <td>172.00</td>\n",
       "      <td>178.50</td>\n",
       "      <td>NaN</td>\n",
       "    </tr>\n",
       "    <tr>\n",
       "      <th>466</th>\n",
       "      <td>\"C:\\Users\\jingy\\Parkinson\\NIHZB051YHETP\\Baseli...</td>\n",
       "      <td>Baseline</td>\n",
       "      <td>OFF</td>\n",
       "      <td>R2</td>\n",
       "      <td>Half</td>\n",
       "      <td>183.00</td>\n",
       "      <td>192.00</td>\n",
       "      <td>NaN</td>\n",
       "      <td>NaN</td>\n",
       "      <td>NaN</td>\n",
       "    </tr>\n",
       "    <tr>\n",
       "      <th>467</th>\n",
       "      <td>\"C:\\Users\\jingy\\Parkinson\\NIHZB051YHETP\\Baseli...</td>\n",
       "      <td>Baseline</td>\n",
       "      <td>ON</td>\n",
       "      <td>R1</td>\n",
       "      <td>Whole</td>\n",
       "      <td>76.00</td>\n",
       "      <td>84.00</td>\n",
       "      <td>99.00</td>\n",
       "      <td>105.50</td>\n",
       "      <td>NaN</td>\n",
       "    </tr>\n",
       "    <tr>\n",
       "      <th>468</th>\n",
       "      <td>\"C:\\Users\\jingy\\Parkinson\\NIHZB051YHETP\\Baseli...</td>\n",
       "      <td>Baseline</td>\n",
       "      <td>ON</td>\n",
       "      <td>R2</td>\n",
       "      <td>Half</td>\n",
       "      <td>110.00</td>\n",
       "      <td>118.50</td>\n",
       "      <td>NaN</td>\n",
       "      <td>NaN</td>\n",
       "      <td>NaN</td>\n",
       "    </tr>\n",
       "  </tbody>\n",
       "</table>\n",
       "<p>469 rows × 10 columns</p>\n",
       "</div>"
      ],
      "text/plain": [
       "                                            Video_Path      Time ON or OFF  \\\n",
       "0    \"C:\\Users\\jingy\\Parkinson\\NIHFX695VBHFM\\Baseli...  Baseline       OFF   \n",
       "1    \"C:\\Users\\jingy\\Parkinson\\NIHFX695VBHFM\\Baseli...  Baseline       OFF   \n",
       "2    \"C:\\Users\\jingy\\Parkinson\\NIHFX695VBHFM\\Month ...       M12       OFF   \n",
       "3    \"C:\\Users\\jingy\\Parkinson\\NIHFX695VBHFM\\Month ...       M12       OFF   \n",
       "4    \"C:\\Users\\jingy\\Parkinson\\NIHFX695VBHFM\\Month ...       M12        ON   \n",
       "..                                                 ...       ...       ...   \n",
       "464  \"C:\\Users\\jingy\\Parkinson\\NIHYW345FJFDF\\Baseli...  Baseline        ON   \n",
       "465  \"C:\\Users\\jingy\\Parkinson\\NIHZB051YHETP\\Baseli...  Baseline       OFF   \n",
       "466  \"C:\\Users\\jingy\\Parkinson\\NIHZB051YHETP\\Baseli...  Baseline       OFF   \n",
       "467  \"C:\\Users\\jingy\\Parkinson\\NIHZB051YHETP\\Baseli...  Baseline        ON   \n",
       "468  \"C:\\Users\\jingy\\Parkinson\\NIHZB051YHETP\\Baseli...  Baseline        ON   \n",
       "\n",
       "    R1 or R2 Halfway or Wholeway  FW_Start  FW_End  BW_Start  BW_End  \\\n",
       "0         R1               Whole     12.00   18.44     20.68   25.08   \n",
       "1         R2               Whole    168.64  180.00    189.52  199.08   \n",
       "2         R1                Half       NaN     NaN     25.92   31.60   \n",
       "3         R2               Whole    150.52  161.48    174.32  184.72   \n",
       "4         R1                Half     15.96   21.20     23.56   29.04   \n",
       "..       ...                 ...       ...     ...       ...     ...   \n",
       "464       R2                Half     90.00   96.00       NaN     NaN   \n",
       "465       R1               Whole    148.00  157.00    172.00  178.50   \n",
       "466       R2                Half    183.00  192.00       NaN     NaN   \n",
       "467       R1               Whole     76.00   84.00     99.00  105.50   \n",
       "468       R2                Half    110.00  118.50       NaN     NaN   \n",
       "\n",
       "    Video Condition  \n",
       "0               NaN  \n",
       "1               NaN  \n",
       "2               NaN  \n",
       "3               NaN  \n",
       "4               NaN  \n",
       "..              ...  \n",
       "464             NaN  \n",
       "465             NaN  \n",
       "466             NaN  \n",
       "467             NaN  \n",
       "468             NaN  \n",
       "\n",
       "[469 rows x 10 columns]"
      ]
     },
     "execution_count": 4,
     "metadata": {},
     "output_type": "execute_result"
    }
   ],
   "source": [
    "df"
   ]
  },
  {
   "cell_type": "code",
   "execution_count": 5,
   "metadata": {},
   "outputs": [],
   "source": [
    "def check_trim_csv(df):\n",
    "    for index, row in df.iterrows():\n",
    "        # make sure column name is corrects(without extra space)\n",
    "        vid_path = row.get(\"Video_Path\")\n",
    "        FW_Start, FW_End = row.get(\"FW_Start\"), row.get(\"FW_End\")\n",
    "        BW_Start, BW_End = row.get(\"BW_Start\"), row.get(\"BW_End\")\n",
    "        vid_path = vid_path.replace('\"','')\n",
    "        #check if video exist\n",
    "        try:\n",
    "            os.path.exists(vid_path)\n",
    "        except:\n",
    "            print(\"File not exists:\", vid_path)\n",
    "        #check if the label is correct\n",
    "        if not pd.isnull(FW_Start) and not pd.isnull(FW_End):\n",
    "            try:\n",
    "                assert FW_Start< FW_End\n",
    "                assert FW_End-FW_Start < 20\n",
    "            except:\n",
    "                print(\"Incorrect Time\", index)\n",
    "                \n",
    "        if not pd.isnull(BW_Start) and not pd.isnull(BW_End):\n",
    "            try:\n",
    "                assert BW_Start< BW_End\n",
    "                assert BW_End-BW_Start < 20\n",
    "            except:\n",
    "                print(\"Incorrect Time\", index)\n",
    "check_trim_csv(df)"
   ]
  },
  {
   "cell_type": "code",
   "execution_count": null,
   "metadata": {},
   "outputs": [],
   "source": []
  },
  {
   "cell_type": "code",
   "execution_count": null,
   "metadata": {},
   "outputs": [],
   "source": [
    "def trim_videos(df):\n",
    "    for index, row in tqdm(df.iterrows()):\n",
    "        # make sure column name is corrects(without extra space)\n",
    "        vid_path = row.get(\"Video_Path\")\n",
    "        vid_path = vid_path.replace('\"','')\n",
    "        FW_Start, FW_End = row.get(\"FW_Start\"), row.get(\"FW_End\")\n",
    "        BW_Start, BW_End = row.get(\"BW_Start\"), row.get(\"BW_End\")\n",
    "        # define some output directories and video_name\n",
    "        data_dir = os.path.join(os.getcwd(),\"dataset\")\n",
    "        subject_dir = os.path.join(data_dir,vid_path.split(\"\\\\\")[4])\n",
    "        # make folder\n",
    "        try:\n",
    "            os.makedirs(subject_dir)\n",
    "        except:\n",
    "            pass\n",
    "        \n",
    "        if not pd.isnull(FW_Start) and not pd.isnull(FW_End):\n",
    "            output_vid = os.path.join(subject_dir, row[\"Time\"]+\"_\"+\"FW_\"+row[\"R1 or R2\"]+\"_\"+str(FW_Start)+\"_.avi\")\n",
    "            if not os.path.exists(output_vid):\n",
    "                trim_vid(vid_path,output_vid,FW_Start,FW_End)\n",
    "        \n",
    "        if not pd.isnull(BW_Start) and not pd.isnull(BW_End):\n",
    "            output_vid = os.path.join(subject_dir, row[\"Time\"]+\"_\"+\"BW_\"+row[\"R1 or R2\"]+\"_\"+str(BW_Start)+\"_.avi\")\n",
    "            if not os.path.exists(output_vid):\n",
    "                trim_vid(vid_path,output_vid,BW_Start,BW_End)\n",
    "\n",
    "\n",
    "\n",
    "trim_videos(df)\n"
   ]
  },
  {
   "cell_type": "code",
   "execution_count": 6,
   "metadata": {},
   "outputs": [],
   "source": [
    "def check_vid(vid_path,start,end):\n",
    "    # define some video property \n",
    "    cap = cv2.VideoCapture(vid_path)\n",
    "    fps = int(cap.get(cv2.CAP_PROP_FPS))\n",
    "    # frame_width = int(cap.get(3))\n",
    "    # frame_height = int(cap.get(4))\n",
    "    # frame_num = int(cap.get(7))\n",
    "\n",
    "    # calculate the frame to start and end \n",
    "    start_frame = int(start * fps)\n",
    "    end_frame = int(end * fps)\n",
    "\n",
    "    # define out put video\n",
    "\n",
    "    # out = cv2.VideoWriter(output_vid,cv2.VideoWriter_fourcc(*'MJPG'), 30,\n",
    "    # (frame_width,frame_height))\n",
    "\n",
    "    # set the video to start frame\n",
    "    cap.set(1,start_frame)\n",
    "    ret, frame = cap.read()\n",
    "\n",
    "    if ret != True:\n",
    "        print(\"unreadable: \"+vid_path)\n",
    "    if int(fps) == 0:\n",
    "        print(\"fps equals 0: \"+vid_path)\n",
    "    \n",
    "\n",
    "    cap.release()\n"
   ]
  },
  {
   "cell_type": "code",
   "execution_count": 7,
   "metadata": {},
   "outputs": [
    {
     "name": "stderr",
     "output_type": "stream",
     "text": [
      "87it [00:31,  3.05it/s]"
     ]
    },
    {
     "name": "stdout",
     "output_type": "stream",
     "text": [
      "unreadable: C:\\Users\\jingy\\Parkinson\\NIHDB604WURZN\\Month 12\\Gait.MTS\n"
     ]
    },
    {
     "name": "stderr",
     "output_type": "stream",
     "text": [
      "88it [00:36,  1.52s/it]"
     ]
    },
    {
     "name": "stdout",
     "output_type": "stream",
     "text": [
      "unreadable: C:\\Users\\jingy\\Parkinson\\NIHDB604WURZN\\Month 12\\Gait.MTS\n"
     ]
    },
    {
     "name": "stderr",
     "output_type": "stream",
     "text": [
      "89it [00:37,  1.40s/it]"
     ]
    },
    {
     "name": "stdout",
     "output_type": "stream",
     "text": [
      "unreadable: C:\\Users\\jingy\\Parkinson\\NIHDB604WURZN\\Month 12\\Gait.MTS\n"
     ]
    },
    {
     "name": "stderr",
     "output_type": "stream",
     "text": [
      "469it [02:59,  2.61it/s]\n"
     ]
    }
   ],
   "source": [
    "def check_videos(df):\n",
    "    # check input videos\n",
    "    for index, row in tqdm(df.iterrows()):\n",
    "        # make sure column name is corrects(without extra space)\n",
    "        vid_path = row.get(\"Video_Path\")\n",
    "        vid_path = vid_path.replace('\"','')\n",
    "        FW_Start, FW_End = row.get(\"FW_Start\"), row.get(\"FW_End\")\n",
    "        BW_Start, BW_End = row.get(\"BW_Start\"), row.get(\"BW_End\")\n",
    "        # define some output directories and video_name\n",
    "        data_dir = os.path.join(os.getcwd(),\"dataset\")\n",
    "        subject_dir = os.path.join(data_dir,vid_path.split(\"\\\\\")[4])\n",
    "        # make folder\n",
    "\n",
    "        \n",
    "        if not pd.isnull(FW_Start) and not pd.isnull(FW_End):\n",
    "            check_vid(vid_path,FW_Start,FW_End)\n",
    "        \n",
    "        if not pd.isnull(BW_Start) and not pd.isnull(BW_End):\n",
    "\n",
    "            check_vid(vid_path,BW_Start,BW_End)\n",
    "\n",
    "\n",
    "\n",
    "check_videos(df)\n"
   ]
  },
  {
   "cell_type": "code",
   "execution_count": 9,
   "metadata": {},
   "outputs": [
    {
     "name": "stderr",
     "output_type": "stream",
     "text": [
      "100it [00:01, 63.15it/s]"
     ]
    },
    {
     "name": "stdout",
     "output_type": "stream",
     "text": [
      "unreadable: c:\\Users\\jingy\\Parkinson\\Codes\\dataset\\NIHDB604WURZN\\M12_FW_R1_55.0_.avi\n",
      "unreadable: c:\\Users\\jingy\\Parkinson\\Codes\\dataset\\NIHDB604WURZN\\M12_BW_R1_80.0_.avi\n",
      "unreadable: c:\\Users\\jingy\\Parkinson\\Codes\\dataset\\NIHDB604WURZN\\M12_FW_R2_90.0_.avi\n"
     ]
    },
    {
     "name": "stderr",
     "output_type": "stream",
     "text": [
      "469it [00:08, 56.50it/s]\n"
     ]
    }
   ],
   "source": [
    "def check_ouput_vid(df):\n",
    "    for index, row in tqdm(df.iterrows()):\n",
    "        # make sure column name is corrects(without extra space)\n",
    "        vid_path = row.get(\"Video_Path\")\n",
    "        vid_path = vid_path.replace('\"','')\n",
    "        FW_Start, FW_End = row.get(\"FW_Start\"), row.get(\"FW_End\")\n",
    "        BW_Start, BW_End = row.get(\"BW_Start\"), row.get(\"BW_End\")\n",
    "        # define some output directories and video_name\n",
    "        data_dir = os.path.join(os.getcwd(),\"dataset\")\n",
    "        subject_dir = os.path.join(data_dir,vid_path.split(\"\\\\\")[4])\n",
    "        # make folder\n",
    "        \n",
    "        if not pd.isnull(FW_Start) and not pd.isnull(FW_End):\n",
    "            output_vid = os.path.join(subject_dir, row[\"Time\"]+\"_\"+\"FW_\"+row[\"R1 or R2\"]+\"_\"+str(FW_Start)+\"_.avi\")\n",
    "            cap = cv2.VideoCapture(output_vid)\n",
    "            fps = int(cap.get(cv2.CAP_PROP_FPS))\n",
    "            ret, frame = cap.read()\n",
    "\n",
    "            if ret != True:\n",
    "                print(\"unreadable: \"+output_vid)\n",
    "            if int(fps) == 0:\n",
    "                print(\"fps equals 0: \"+output_vid)\n",
    "        \n",
    "        if not pd.isnull(BW_Start) and not pd.isnull(BW_End):\n",
    "            output_vid = os.path.join(subject_dir, row[\"Time\"]+\"_\"+\"BW_\"+row[\"R1 or R2\"]+\"_\"+str(BW_Start)+\"_.avi\")\n",
    "            cap = cv2.VideoCapture(output_vid)\n",
    "            fps = int(cap.get(cv2.CAP_PROP_FPS))\n",
    "            ret, frame = cap.read()\n",
    "\n",
    "            if ret != True:\n",
    "                print(\"unreadable: \"+output_vid)\n",
    "            if int(fps) == 0:\n",
    "                print(\"fps equals 0: \"+output_vid)\n",
    "check_ouput_vid(df)"
   ]
  },
  {
   "cell_type": "code",
   "execution_count": 8,
   "metadata": {},
   "outputs": [
    {
     "name": "stderr",
     "output_type": "stream",
     "text": [
      "1it [00:00,  4.75it/s]"
     ]
    },
    {
     "name": "stdout",
     "output_type": "stream",
     "text": [
      "FPS: 29 C:\\Users\\jingy\\Parkinson\\NIHFX695VBHFM\\Baseline (No ON assessment - forgot meds)\\OFF Gait.MP4\n",
      "FPS: 29 C:\\Users\\jingy\\Parkinson\\NIHFX695VBHFM\\Baseline (No ON assessment - forgot meds)\\OFF Gait.MP4\n",
      "FPS:"
     ]
    },
    {
     "name": "stderr",
     "output_type": "stream",
     "text": [
      "2it [00:00,  4.74it/s]"
     ]
    },
    {
     "name": "stdout",
     "output_type": "stream",
     "text": [
      " 29 C:\\Users\\jingy\\Parkinson\\NIHFX695VBHFM\\Baseline (No ON assessment - forgot meds)\\OFF Gait.MP4\n",
      "FPS: 29 C:\\Users\\jingy\\Parkinson\\NIHFX695VBHFM\\Baseline (No ON assessment - forgot meds)\\OFF Gait.MP4\n"
     ]
    },
    {
     "name": "stderr",
     "output_type": "stream",
     "text": [
      "3it [00:00,  6.15it/s]"
     ]
    },
    {
     "name": "stdout",
     "output_type": "stream",
     "text": [
      "FPS: 29 C:\\Users\\jingy\\Parkinson\\NIHFX695VBHFM\\Month 12\\NIHFX695VBHFM OFF pt2.MP4\n",
      "FPS: 29 C:\\Users\\jingy\\Parkinson\\NIHFX695VBHFM\\Month 12\\NIHFX695VBHFM OFF pt2.MP4\n",
      "FPS:"
     ]
    },
    {
     "name": "stderr",
     "output_type": "stream",
     "text": [
      "4it [00:00,  5.65it/s]"
     ]
    },
    {
     "name": "stdout",
     "output_type": "stream",
     "text": [
      " 29 C:\\Users\\jingy\\Parkinson\\NIHFX695VBHFM\\Month 12\\NIHFX695VBHFM OFF pt2.MP4\n",
      "FPS: 29 C:\\Users\\jingy\\Parkinson\\NIHFX695VBHFM\\Month 12\\NIHFX695VBHFM ON pt2.MP4\n",
      "FPS: 29 C:\\Users\\jingy\\Parkinson\\NIHFX695VBHFM\\Month 12\\NIHFX695VBHFM ON pt2.MP4\n"
     ]
    },
    {
     "name": "stderr",
     "output_type": "stream",
     "text": [
      "5it [00:00,  5.44it/s]"
     ]
    },
    {
     "name": "stdout",
     "output_type": "stream",
     "text": [
      "FPS: 29 C:\\Users\\jingy\\Parkinson\\NIHFX695VBHFM\\Month 12\\NIHFX695VBHFM ON pt2.MP4\n"
     ]
    },
    {
     "name": "stderr",
     "output_type": "stream",
     "text": [
      "6it [00:01,  5.27it/s]"
     ]
    },
    {
     "name": "stdout",
     "output_type": "stream",
     "text": [
      "FPS: 29 C:\\Users\\jingy\\Parkinson\\NIHFX695VBHFM\\Month 12\\NIHFX695VBHFM ON pt2.MP4\n",
      "FPS: 29 C:\\Users\\jingy\\Parkinson\\NIHFX695VBHFM\\Month 24\\OFF\\ NIHFX695VBHFM_M24_GAIT_OFF.MP4\n",
      "FPS:"
     ]
    },
    {
     "name": "stderr",
     "output_type": "stream",
     "text": [
      "7it [00:01,  5.17it/s]"
     ]
    },
    {
     "name": "stdout",
     "output_type": "stream",
     "text": [
      " 29 C:\\Users\\jingy\\Parkinson\\NIHFX695VBHFM\\Month 24\\OFF\\ NIHFX695VBHFM_M24_GAIT_OFF.MP4\n",
      "FPS: 29 C:\\Users\\jingy\\Parkinson\\NIHFX695VBHFM\\Month 24\\OFF\\ NIHFX695VBHFM_M24_GAIT_OFF.MP4\n",
      "FPS:"
     ]
    },
    {
     "name": "stderr",
     "output_type": "stream",
     "text": [
      "8it [00:01,  5.09it/s]"
     ]
    },
    {
     "name": "stdout",
     "output_type": "stream",
     "text": [
      " 29 C:\\Users\\jingy\\Parkinson\\NIHFX695VBHFM\\Month 24\\OFF\\ NIHFX695VBHFM_M24_GAIT_OFF.MP4\n",
      "FPS: 29 C:\\Users\\jingy\\Parkinson\\NIHFX695VBHFM\\Month 24\\OFF\\ NIHFX695VBHFM_M24_GAIT_OFF.MP4\n",
      "FPS: 29 C:\\Users\\jingy\\Parkinson\\NIHFX695VBHFM\\Month 24\\ON\\ NIHFX695VBHFM_M24_GAIT_ON.MP4\n"
     ]
    },
    {
     "name": "stderr",
     "output_type": "stream",
     "text": [
      "11it [00:01,  6.15it/s]"
     ]
    },
    {
     "name": "stdout",
     "output_type": "stream",
     "text": [
      "FPS: 29 C:\\Users\\jingy\\Parkinson\\NIHFX695VBHFM\\Month 24\\ON\\ NIHFX695VBHFM_M24_GAIT_ON.MP4\n",
      "FPS: 29 C:\\Users\\jingy\\Parkinson\\NIHFX695VBHFM\\Month 24\\ON\\ NIHFX695VBHFM_M24_GAIT_ON.MP4\n"
     ]
    },
    {
     "name": "stderr",
     "output_type": "stream",
     "text": [
      "12it [00:02,  5.90it/s]"
     ]
    },
    {
     "name": "stdout",
     "output_type": "stream",
     "text": [
      "FPS: 29 C:\\Users\\jingy\\Parkinson\\NIHAF261TBMPV\\Baseline\\OFF Gait.MP4\n",
      "FPS: 29 C:\\Users\\jingy\\Parkinson\\NIHAF261TBMPV\\Baseline\\OFF Gait.MP4\n",
      "FPS:"
     ]
    },
    {
     "name": "stderr",
     "output_type": "stream",
     "text": [
      "13it [00:02,  5.61it/s]"
     ]
    },
    {
     "name": "stdout",
     "output_type": "stream",
     "text": [
      " 29 C:\\Users\\jingy\\Parkinson\\NIHAF261TBMPV\\Baseline\\OFF Gait.MP4\n",
      "FPS: 29 C:\\Users\\jingy\\Parkinson\\NIHAF261TBMPV\\Baseline\\OFF Gait.MP4\n"
     ]
    },
    {
     "name": "stderr",
     "output_type": "stream",
     "text": [
      "14it [00:02,  5.50it/s]"
     ]
    },
    {
     "name": "stdout",
     "output_type": "stream",
     "text": [
      "FPS: 29 C:\\Users\\jingy\\Parkinson\\NIHAF261TBMPV\\Baseline\\ON Gait.MP4\n",
      "FPS: 29 C:\\Users\\jingy\\Parkinson\\NIHAF261TBMPV\\Baseline\\ON Gait.MP4\n",
      "FPS:"
     ]
    },
    {
     "name": "stderr",
     "output_type": "stream",
     "text": [
      "15it [00:02,  5.27it/s]"
     ]
    },
    {
     "name": "stdout",
     "output_type": "stream",
     "text": [
      " 29 C:\\Users\\jingy\\Parkinson\\NIHAF261TBMPV\\Baseline\\ON Gait.MP4\n",
      "FPS: 29 C:\\Users\\jingy\\Parkinson\\NIHAF261TBMPV\\Baseline\\ON Gait.MP4\n",
      "FPS: 29 C:\\Users\\jingy\\Parkinson\\NIHAF261TBMPV\\Baseline\\ON Gait.MP4\n"
     ]
    },
    {
     "name": "stderr",
     "output_type": "stream",
     "text": [
      "16it [00:02,  5.11it/s]"
     ]
    },
    {
     "name": "stdout",
     "output_type": "stream",
     "text": [
      "FPS: 29 C:\\Users\\jingy\\Parkinson\\NIHAF261TBMPV\\Baseline\\ON Gait.MP4\n",
      "FPS: 29 C:\\Users\\jingy\\Parkinson\\NIHAF261TBMPV\\12 Month\\NIHAF261TBMPV Month 12 OFF pt 2.MP4\n",
      "FPS:"
     ]
    },
    {
     "name": "stderr",
     "output_type": "stream",
     "text": [
      "17it [00:03,  4.98it/s]"
     ]
    },
    {
     "name": "stdout",
     "output_type": "stream",
     "text": [
      " 29 C:\\Users\\jingy\\Parkinson\\NIHAF261TBMPV\\12 Month\\NIHAF261TBMPV Month 12 OFF pt 2.MP4\n",
      "FPS: 29 C:\\Users\\jingy\\Parkinson\\NIHAF261TBMPV\\12 Month\\NIHAF261TBMPV Month 12 OFF pt 2.MP4\n"
     ]
    },
    {
     "name": "stderr",
     "output_type": "stream",
     "text": [
      "18it [00:03,  4.94it/s]"
     ]
    },
    {
     "name": "stdout",
     "output_type": "stream",
     "text": [
      "FPS: 29 C:\\Users\\jingy\\Parkinson\\NIHAF261TBMPV\\12 Month\\NIHAF261TBMPV Month 12 OFF pt 2.MP4\n",
      "FPS: 29 C:\\Users\\jingy\\Parkinson\\NIHAF261TBMPV\\12 Month\\NIHAF261TBMPV Month 12 OFF pt 2.MP4\n",
      "FPS: 29 C:\\Users\\jingy\\Parkinson\\NIHAF261TBMPV\\Month 24\\TUG & 10m OFF.MP4\n"
     ]
    },
    {
     "name": "stderr",
     "output_type": "stream",
     "text": [
      "20it [00:03,  5.67it/s]"
     ]
    },
    {
     "name": "stdout",
     "output_type": "stream",
     "text": [
      "FPS: 29 C:\\Users\\jingy\\Parkinson\\NIHAF261TBMPV\\Month 24\\TUG & 10m OFF.MP4\n",
      "FPS: 29 C:\\Users\\jingy\\Parkinson\\NIHAF261TBMPV\\Month 24\\TUG & 10m OFF.MP4\n",
      "FPS:"
     ]
    },
    {
     "name": "stderr",
     "output_type": "stream",
     "text": [
      "21it [00:03,  5.53it/s]"
     ]
    },
    {
     "name": "stdout",
     "output_type": "stream",
     "text": [
      " 29 C:\\Users\\jingy\\Parkinson\\NIHAF261TBMPV\\Month 24\\TUG & 10m OFF.MP4\n",
      "FPS: 29 C:\\Users\\jingy\\Parkinson\\NIHAF261TBMPV\\Month 24\\TUG & 10m OFF.MP4\n",
      "FPS: 29 C:\\Users\\jingy\\Parkinson\\NIHAV871KZCVE\\Baseline\\OFF Gait.MP4\n"
     ]
    },
    {
     "name": "stderr",
     "output_type": "stream",
     "text": [
      "23it [00:04,  6.04it/s]"
     ]
    },
    {
     "name": "stdout",
     "output_type": "stream",
     "text": [
      "FPS: 29 C:\\Users\\jingy\\Parkinson\\NIHAV871KZCVE\\Baseline\\OFF Gait.MP4\n",
      "FPS: 29 C:\\Users\\jingy\\Parkinson\\NIHAV871KZCVE\\Baseline\\OFF Gait.MP4\n",
      "FPS:"
     ]
    },
    {
     "name": "stderr",
     "output_type": "stream",
     "text": [
      "25it [00:04,  5.73it/s]"
     ]
    },
    {
     "name": "stdout",
     "output_type": "stream",
     "text": [
      " 29 C:\\Users\\jingy\\Parkinson\\NIHAV871KZCVE\\Baseline\\OFF Gait.MP4\n",
      "FPS: 29 C:\\Users\\jingy\\Parkinson\\NIHAV871KZCVE\\Baseline\\OFF Gait.MP4\n",
      "FPS: 29 C:\\Users\\jingy\\Parkinson\\NIHAV871KZCVE\\Baseline\\OFF Gait.MP4\n"
     ]
    },
    {
     "name": "stderr",
     "output_type": "stream",
     "text": [
      "26it [00:04,  5.70it/s]"
     ]
    },
    {
     "name": "stdout",
     "output_type": "stream",
     "text": [
      "FPS: 29 C:\\Users\\jingy\\Parkinson\\NIHAV871KZCVE\\Baseline\\OFF Gait.MP4\n",
      "FPS: 29 C:\\Users\\jingy\\Parkinson\\NIHAV871KZCVE\\Baseline\\OFF Gait.MP4\n",
      "FPS: 29 C:\\Users\\jingy\\Parkinson\\NIHAV871KZCVE\\Baseline\\ON Gait.MP4\n"
     ]
    },
    {
     "name": "stderr",
     "output_type": "stream",
     "text": [
      "28it [00:04,  6.16it/s]"
     ]
    },
    {
     "name": "stdout",
     "output_type": "stream",
     "text": [
      "FPS: 29 C:\\Users\\jingy\\Parkinson\\NIHAV871KZCVE\\Baseline\\ON Gait.MP4\n",
      "FPS: 29 C:\\Users\\jingy\\Parkinson\\NIHAV871KZCVE\\Baseline\\ON Gait.MP4\n",
      "FPS: 29 C:\\Users\\jingy\\Parkinson\\NIHAV871KZCVE\\Baseline\\ON Gait.MP4\n"
     ]
    },
    {
     "name": "stderr",
     "output_type": "stream",
     "text": [
      "29it [00:05,  5.87it/s]"
     ]
    },
    {
     "name": "stdout",
     "output_type": "stream",
     "text": [
      "FPS: 29 C:\\Users\\jingy\\Parkinson\\NIHAV871KZCVE\\Baseline\\ON Gait.MP4\n",
      "FPS: 29 C:\\Users\\jingy\\Parkinson\\NIHAV871KZCVE\\Baseline\\ON Gait.MP4\n",
      "FPS:"
     ]
    },
    {
     "name": "stderr",
     "output_type": "stream",
     "text": [
      "30it [00:05,  5.64it/s]"
     ]
    },
    {
     "name": "stdout",
     "output_type": "stream",
     "text": [
      " 29 C:\\Users\\jingy\\Parkinson\\NIHAV871KZCVE\\Baseline\\ON Gait.MP4\n",
      "FPS: 29 C:\\Users\\jingy\\Parkinson\\NIHAV871KZCVE\\Month 12\\12 month off 3.MP4\n",
      "FPS:"
     ]
    },
    {
     "name": "stderr",
     "output_type": "stream",
     "text": [
      "31it [00:05,  5.55it/s]"
     ]
    },
    {
     "name": "stdout",
     "output_type": "stream",
     "text": [
      " 29 C:\\Users\\jingy\\Parkinson\\NIHAV871KZCVE\\Month 12\\12 month off 3.MP4\n",
      "FPS: 29 C:\\Users\\jingy\\Parkinson\\NIHAV871KZCVE\\Month 12\\12 month off 3.MP4\n",
      "FPS:"
     ]
    },
    {
     "name": "stderr",
     "output_type": "stream",
     "text": [
      "33it [00:05,  5.63it/s]"
     ]
    },
    {
     "name": "stdout",
     "output_type": "stream",
     "text": [
      " 29 C:\\Users\\jingy\\Parkinson\\NIHAV871KZCVE\\Month 12\\12 month off 3.MP4\n",
      "FPS: 29 C:\\Users\\jingy\\Parkinson\\NIHAV871KZCVE\\Month 12\\12 month on 2.MP4\n",
      "FPS: 29 C:\\Users\\jingy\\Parkinson\\NIHAV871KZCVE\\Month 12\\12 month on 2.MP4\n"
     ]
    },
    {
     "name": "stderr",
     "output_type": "stream",
     "text": [
      "34it [00:06,  5.45it/s]"
     ]
    },
    {
     "name": "stdout",
     "output_type": "stream",
     "text": [
      "FPS: 29 C:\\Users\\jingy\\Parkinson\\NIHAV871KZCVE\\Month 12\\12 month on 2.MP4\n",
      "FPS: 29 C:\\Users\\jingy\\Parkinson\\NIHAV871KZCVE\\Month 12\\12 month on 2.MP4\n",
      "FPS:"
     ]
    },
    {
     "name": "stderr",
     "output_type": "stream",
     "text": [
      "35it [00:06,  5.41it/s]"
     ]
    },
    {
     "name": "stdout",
     "output_type": "stream",
     "text": [
      " 29 C:\\Users\\jingy\\Parkinson\\NIHAV871KZCVE\\Month 12\\12 month on 2.MP4\n",
      "FPS: 29 C:\\Users\\jingy\\Parkinson\\NIHAV871KZCVE\\Month 12\\12 month on 2.MP4\n",
      "FPS: 29 C:\\Users\\jingy\\Parkinson\\NIHAV871KZCVE\\Month 12\\12 month on 2.MP4\n",
      "FPS: 29 C:\\Users\\jingy\\Parkinson\\NIHAV871KZCVE\\Month 24\\OFF\\GAIT .MP4\n"
     ]
    },
    {
     "name": "stderr",
     "output_type": "stream",
     "text": [
      "37it [00:06,  6.05it/s]"
     ]
    },
    {
     "name": "stdout",
     "output_type": "stream",
     "text": [
      "FPS: 29 C:\\Users\\jingy\\Parkinson\\NIHAV871KZCVE\\Month 24\\OFF\\GAIT .MP4\n",
      "FPS: 29 C:\\Users\\jingy\\Parkinson\\NIHAV871KZCVE\\Month 24\\OFF\\GAIT .MP4\n",
      "FPS:"
     ]
    },
    {
     "name": "stderr",
     "output_type": "stream",
     "text": [
      "38it [00:06,  5.79it/s]"
     ]
    },
    {
     "name": "stdout",
     "output_type": "stream",
     "text": [
      " 29 C:\\Users\\jingy\\Parkinson\\NIHAV871KZCVE\\Month 24\\OFF\\GAIT .MP4\n",
      "FPS: 29 C:\\Users\\jingy\\Parkinson\\NIHAV871KZCVE\\Month 24\\OFF\\GAIT .MP4\n",
      "FPS:"
     ]
    },
    {
     "name": "stderr",
     "output_type": "stream",
     "text": [
      "39it [00:06,  5.62it/s]"
     ]
    },
    {
     "name": "stdout",
     "output_type": "stream",
     "text": [
      " 29 C:\\Users\\jingy\\Parkinson\\NIHAV871KZCVE\\Month 24\\OFF\\GAIT .MP4\n",
      "FPS: 29 C:\\Users\\jingy\\Parkinson\\NIHAV871KZCVE\\Month 24\\OFF\\GAIT .MP4\n",
      "FPS: 29 C:\\Users\\jingy\\Parkinson\\NIHAV871KZCVE\\Month 24\\ON\\GAIT.MP4\n"
     ]
    },
    {
     "name": "stderr",
     "output_type": "stream",
     "text": [
      "41it [00:07,  6.13it/s]"
     ]
    },
    {
     "name": "stdout",
     "output_type": "stream",
     "text": [
      "FPS: 29 C:\\Users\\jingy\\Parkinson\\NIHAV871KZCVE\\Month 24\\ON\\GAIT.MP4\n",
      "FPS: 29 C:\\Users\\jingy\\Parkinson\\NIHAV871KZCVE\\Month 24\\ON\\GAIT.MP4\n",
      "FPS: 29 "
     ]
    },
    {
     "name": "stderr",
     "output_type": "stream",
     "text": [
      "43it [00:07,  5.83it/s]"
     ]
    },
    {
     "name": "stdout",
     "output_type": "stream",
     "text": [
      "C:\\Users\\jingy\\Parkinson\\NIHAV871KZCVE\\Month 24\\ON\\GAIT.MP4\n",
      "FPS: 29 C:\\Users\\jingy\\Parkinson\\NIHAV871KZCVE\\Month 24\\ON\\GAIT.MP4\n",
      "FPS: 29 C:\\Users\\jingy\\Parkinson\\NIHAV871KZCVE\\Month 24\\ON\\GAIT.MP4\n"
     ]
    },
    {
     "name": "stderr",
     "output_type": "stream",
     "text": [
      "44it [00:07,  6.45it/s]"
     ]
    },
    {
     "name": "stdout",
     "output_type": "stream",
     "text": [
      "FPS: 29 C:\\Users\\jingy\\Parkinson\\NIHAV871KZCVE\\Month 24\\ON\\GAIT.MP4\n",
      "FPS: 29 C:\\Users\\jingy\\Parkinson\\NIHAX846DBNJ2\\Baseline\\Control Gait.MP4\n"
     ]
    },
    {
     "name": "stderr",
     "output_type": "stream",
     "text": [
      "45it [00:07,  6.26it/s]"
     ]
    },
    {
     "name": "stdout",
     "output_type": "stream",
     "text": [
      "FPS: 29 C:\\Users\\jingy\\Parkinson\\NIHAX846DBNJ2\\Baseline\\Control Gait.MP4\n",
      "FPS: 29 C:\\Users\\jingy\\Parkinson\\NIHAX846DBNJ2\\Baseline\\Control Gait.MP4\n",
      "FPS:"
     ]
    },
    {
     "name": "stderr",
     "output_type": "stream",
     "text": [
      "47it [00:08,  6.60it/s]"
     ]
    },
    {
     "name": "stdout",
     "output_type": "stream",
     "text": [
      " 29 C:\\Users\\jingy\\Parkinson\\NIHAX846DBNJ2\\Baseline\\Control Gait.MP4\n",
      "FPS: 29 C:\\Users\\jingy\\Parkinson\\NIHAX846DBNJ2\\Baseline\\Control Gait.MP4\n",
      "FPS: 29 C:\\Users\\jingy\\Parkinson\\NIHAX846DBNJ2\\12 Month\\NIHAX846DBNJ2 12 Month pt 2.MP4\n"
     ]
    },
    {
     "name": "stderr",
     "output_type": "stream",
     "text": [
      "49it [00:08,  6.69it/s]"
     ]
    },
    {
     "name": "stdout",
     "output_type": "stream",
     "text": [
      "FPS: 29 C:\\Users\\jingy\\Parkinson\\NIHAX846DBNJ2\\12 Month\\NIHAX846DBNJ2 12 Month pt 2.MP4\n",
      "FPS: 29 C:\\Users\\jingy\\Parkinson\\NIHAX846DBNJ2\\12 Month\\NIHAX846DBNJ2 12 Month pt 2.MP4\n",
      "FPS: 29 C:\\Users\\jingy\\Parkinson\\NIHAX846DBNJ2\\Month 24\\gait.MP4\n"
     ]
    },
    {
     "name": "stderr",
     "output_type": "stream",
     "text": [
      "51it [00:08,  6.80it/s]"
     ]
    },
    {
     "name": "stdout",
     "output_type": "stream",
     "text": [
      "FPS: 29 C:\\Users\\jingy\\Parkinson\\NIHAX846DBNJ2\\Month 24\\gait.MP4\n",
      "FPS: 29 C:\\Users\\jingy\\Parkinson\\NIHAX846DBNJ2\\Month 24\\gait.MP4\n",
      "FPS: 29 C:\\Users\\jingy\\Parkinson\\NIHBV117HUCTC\\Baseline\\Control Gait.MP4\n"
     ]
    },
    {
     "name": "stderr",
     "output_type": "stream",
     "text": [
      "53it [00:09,  5.96it/s]"
     ]
    },
    {
     "name": "stdout",
     "output_type": "stream",
     "text": [
      "FPS: 29 C:\\Users\\jingy\\Parkinson\\NIHBV117HUCTC\\Baseline\\Control Gait.MP4\n",
      "FPS: 29 C:\\Users\\jingy\\Parkinson\\NIHBV117HUCTC\\Baseline\\Control Gait.MP4\n",
      "FPS: 29 C:\\Users\\jingy\\Parkinson\\NIHBV117HUCTC\\Baseline\\Control Gait.MP4\n"
     ]
    },
    {
     "name": "stderr",
     "output_type": "stream",
     "text": [
      "54it [00:09,  5.64it/s]"
     ]
    },
    {
     "name": "stdout",
     "output_type": "stream",
     "text": [
      "FPS: 29 C:\\Users\\jingy\\Parkinson\\NIHBV117HUCTC\\Baseline\\Control Gait.MP4\n",
      "FPS: 29 C:\\Users\\jingy\\Parkinson\\NIHBV117HUCTC\\Baseline\\Control Gait.MP4\n",
      "FPS: 29 C:\\Users\\jingy\\Parkinson\\NIHBV117HUCTC\\Baseline\\Control Gait.MP4\n",
      "FPS: 29 C:\\Users\\jingy\\Parkinson\\NIHCD945KARA4\\Baseline\\ON_MVI_1284.MP4\n"
     ]
    },
    {
     "name": "stderr",
     "output_type": "stream",
     "text": [
      "57it [00:09,  5.84it/s]"
     ]
    },
    {
     "name": "stdout",
     "output_type": "stream",
     "text": [
      "FPS: 29 C:\\Users\\jingy\\Parkinson\\NIHCD945KARA4\\Baseline\\ON_MVI_1284.MP4\n",
      "FPS: 29 C:\\Users\\jingy\\Parkinson\\NIHCD945KARA4\\Baseline\\ON_MVI_1284.MP4\n",
      "FPS: 29 C:\\Users\\jingy\\Parkinson\\NIHCD945KARA4\\Baseline\\ON_MVI_1284.MP4\n",
      "FPS: 29 C:\\Users\\jingy\\Parkinson\\NIHCD945KARA4\\Baseline\\ON_MVI_1284.MP4\n",
      "FPS: 29 C:\\Users\\jingy\\Parkinson\\NIHCD945KARA4\\Month 12\\NIHCD945KARA4 OFF gait.MP4\n"
     ]
    },
    {
     "name": "stderr",
     "output_type": "stream",
     "text": [
      "59it [00:10,  6.17it/s]"
     ]
    },
    {
     "name": "stdout",
     "output_type": "stream",
     "text": [
      "FPS: 29 C:\\Users\\jingy\\Parkinson\\NIHCD945KARA4\\Month 12\\NIHCD945KARA4 OFF gait.MP4\n",
      "FPS: 29 C:\\Users\\jingy\\Parkinson\\NIHCD945KARA4\\Month 12\\NIHCD945KARA4 OFF gait.MP4\n"
     ]
    },
    {
     "name": "stderr",
     "output_type": "stream",
     "text": [
      "61it [00:10,  6.29it/s]"
     ]
    },
    {
     "name": "stdout",
     "output_type": "stream",
     "text": [
      "FPS: 29 C:\\Users\\jingy\\Parkinson\\NIHCD945KARA4\\Month 12\\NIHCD945KARA4 OFF gait.MP4\n",
      "FPS: 29 C:\\Users\\jingy\\Parkinson\\NIHCD945KARA4\\Month 12\\NIHCD945KARA4 OFF gait.MP4\n",
      "FPS: 29 C:\\Users\\jingy\\Parkinson\\NIHCD945KARA4\\Month 12\\NIHCD945KARA4 ON gait.MP4\n"
     ]
    },
    {
     "name": "stderr",
     "output_type": "stream",
     "text": [
      "62it [00:10,  5.82it/s]"
     ]
    },
    {
     "name": "stdout",
     "output_type": "stream",
     "text": [
      "FPS: 29 C:\\Users\\jingy\\Parkinson\\NIHCD945KARA4\\Month 12\\NIHCD945KARA4 ON gait.MP4\n",
      "FPS: 29 C:\\Users\\jingy\\Parkinson\\NIHCD945KARA4\\Month 12\\NIHCD945KARA4 ON gait.MP4\n",
      "FPS:"
     ]
    },
    {
     "name": "stderr",
     "output_type": "stream",
     "text": [
      "63it [00:10,  5.64it/s]"
     ]
    },
    {
     "name": "stdout",
     "output_type": "stream",
     "text": [
      " 29 C:\\Users\\jingy\\Parkinson\\NIHCD945KARA4\\Month 12\\NIHCD945KARA4 ON gait.MP4\n",
      "FPS: 29 C:\\Users\\jingy\\Parkinson\\NIHCD945KARA4\\Month 12\\NIHCD945KARA4 ON gait.MP4\n",
      "FPS: 29 C:\\Users\\jingy\\Parkinson\\NIHCM088YZYYM\\Baseline\\OFF Gait.MP4\n"
     ]
    },
    {
     "name": "stderr",
     "output_type": "stream",
     "text": [
      "65it [00:11,  6.26it/s]"
     ]
    },
    {
     "name": "stdout",
     "output_type": "stream",
     "text": [
      "FPS: 29 C:\\Users\\jingy\\Parkinson\\NIHCM088YZYYM\\Baseline\\OFF Gait.MP4\n",
      "FPS: 29 C:\\Users\\jingy\\Parkinson\\NIHCM088YZYYM\\Baseline\\OFF Gait.MP4\n",
      "FPS:"
     ]
    },
    {
     "name": "stderr",
     "output_type": "stream",
     "text": [
      "67it [00:11,  6.55it/s]"
     ]
    },
    {
     "name": "stdout",
     "output_type": "stream",
     "text": [
      " 29 C:\\Users\\jingy\\Parkinson\\NIHCM088YZYYM\\Baseline\\OFF Gait.MP4\n",
      "FPS: 29 C:\\Users\\jingy\\Parkinson\\NIHCM088YZYYM\\Baseline\\OFF Gait.MP4\n",
      "FPS: 29 C:\\Users\\jingy\\Parkinson\\NIHCM088YZYYM\\Baseline\\ON Gait.MP4\n"
     ]
    },
    {
     "name": "stderr",
     "output_type": "stream",
     "text": [
      "68it [00:11,  6.09it/s]"
     ]
    },
    {
     "name": "stdout",
     "output_type": "stream",
     "text": [
      "FPS: 29 C:\\Users\\jingy\\Parkinson\\NIHCM088YZYYM\\Baseline\\ON Gait.MP4\n",
      "FPS: 29 C:\\Users\\jingy\\Parkinson\\NIHCM088YZYYM\\Baseline\\ON Gait.MP4\n",
      "FPS:"
     ]
    },
    {
     "name": "stderr",
     "output_type": "stream",
     "text": [
      "70it [00:11,  6.46it/s]"
     ]
    },
    {
     "name": "stdout",
     "output_type": "stream",
     "text": [
      " 29 C:\\Users\\jingy\\Parkinson\\NIHCM088YZYYM\\Baseline\\ON Gait.MP4\n",
      "FPS: 29 C:\\Users\\jingy\\Parkinson\\NIHCM088YZYYM\\Baseline\\ON Gait.MP4\n",
      "FPS: 29 C:\\Users\\jingy\\Parkinson\\NIHCM088YZYYM\\Month 12\\Month 12 OFF pt 2.MP4\n"
     ]
    },
    {
     "name": "stderr",
     "output_type": "stream",
     "text": [
      "71it [00:12,  6.02it/s]"
     ]
    },
    {
     "name": "stdout",
     "output_type": "stream",
     "text": [
      "FPS: 29 C:\\Users\\jingy\\Parkinson\\NIHCM088YZYYM\\Month 12\\Month 12 OFF pt 2.MP4\n",
      "FPS: 29 C:\\Users\\jingy\\Parkinson\\NIHCM088YZYYM\\Month 12\\Month 12 OFF pt 2.MP4\n",
      "FPS: 29 C:\\Users\\jingy\\Parkinson\\NIHCM088YZYYM\\Month 12\\Month 12 ON pt 2.MP4\n"
     ]
    },
    {
     "name": "stderr",
     "output_type": "stream",
     "text": [
      "73it [00:12,  6.38it/s]"
     ]
    },
    {
     "name": "stdout",
     "output_type": "stream",
     "text": [
      "FPS: 29 C:\\Users\\jingy\\Parkinson\\NIHCM088YZYYM\\Month 12\\Month 12 ON pt 2.MP4\n",
      "FPS: 29 C:\\Users\\jingy\\Parkinson\\NIHCM088YZYYM\\Month 12\\Month 12 ON pt 2.MP4\n",
      "FPS: 29 C:\\Users\\jingy\\Parkinson\\NIHCM088YZYYM\\Month 24\\ON\\NIHCM088YZYYM gait on.MP4\n"
     ]
    },
    {
     "name": "stderr",
     "output_type": "stream",
     "text": [
      "76it [00:12,  6.85it/s]"
     ]
    },
    {
     "name": "stdout",
     "output_type": "stream",
     "text": [
      "FPS: 29 C:\\Users\\jingy\\Parkinson\\NIHCM675EUKU4\\Baseline\\MVI_1263.MP4\n",
      "FPS: 29 C:\\Users\\jingy\\Parkinson\\NIHCM675EUKU4\\Baseline\\MVI_1263.MP4\n",
      "FPS:"
     ]
    },
    {
     "name": "stderr",
     "output_type": "stream",
     "text": [
      "77it [00:13,  6.44it/s]"
     ]
    },
    {
     "name": "stdout",
     "output_type": "stream",
     "text": [
      " 29 C:\\Users\\jingy\\Parkinson\\NIHCM675EUKU4\\Baseline\\MVI_1263.MP4\n",
      "FPS: 29 C:\\Users\\jingy\\Parkinson\\NIHCM675EUKU4\\Baseline\\MVI_1263.MP4\n",
      "FPS:"
     ]
    },
    {
     "name": "stderr",
     "output_type": "stream",
     "text": [
      "78it [00:13,  7.08it/s]"
     ]
    },
    {
     "name": "stdout",
     "output_type": "stream",
     "text": [
      " 29 C:\\Users\\jingy\\Parkinson\\NIHCM675EUKU4\\Baseline\\MVI_1263.MP4\n",
      "FPS: 29 C:\\Users\\jingy\\Parkinson\\NIHCM675EUKU4\\Month 12\\NIHCM675EUKU4 Month 12 gait.MP4\n"
     ]
    },
    {
     "name": "stderr",
     "output_type": "stream",
     "text": [
      "79it [00:13,  6.40it/s]"
     ]
    },
    {
     "name": "stdout",
     "output_type": "stream",
     "text": [
      "FPS: 29 C:\\Users\\jingy\\Parkinson\\NIHCM675EUKU4\\Month 12\\NIHCM675EUKU4 Month 12 gait.MP4\n",
      "FPS: 29 C:\\Users\\jingy\\Parkinson\\NIHCM675EUKU4\\Month 12\\NIHCM675EUKU4 Month 12 gait.MP4\n",
      "FPS: 29 "
     ]
    },
    {
     "name": "stderr",
     "output_type": "stream",
     "text": [
      "81it [00:13,  6.70it/s]"
     ]
    },
    {
     "name": "stdout",
     "output_type": "stream",
     "text": [
      "C:\\Users\\jingy\\Parkinson\\NIHCM675EUKU4\\Month 12\\NIHCM675EUKU4 Month 12 gait.MP4\n",
      "FPS: 29 C:\\Users\\jingy\\Parkinson\\NIHCM675EUKU4\\Month 12\\NIHCM675EUKU4 Month 12 gait.MP4\n",
      "FPS: 29 C:\\Users\\jingy\\Parkinson\\NIHDB604WURZN\\Baseline\\Control Gait.MP4\n"
     ]
    },
    {
     "name": "stderr",
     "output_type": "stream",
     "text": [
      "82it [00:13,  6.11it/s]"
     ]
    },
    {
     "name": "stdout",
     "output_type": "stream",
     "text": [
      "FPS: 29 C:\\Users\\jingy\\Parkinson\\NIHDB604WURZN\\Baseline\\Control Gait.MP4\n",
      "FPS: 29 C:\\Users\\jingy\\Parkinson\\NIHDB604WURZN\\Baseline\\Control Gait.MP4\n"
     ]
    },
    {
     "name": "stderr",
     "output_type": "stream",
     "text": [
      "84it [00:14,  6.38it/s]"
     ]
    },
    {
     "name": "stdout",
     "output_type": "stream",
     "text": [
      "FPS: 29 C:\\Users\\jingy\\Parkinson\\NIHDB604WURZN\\Baseline\\Control Gait.MP4\n",
      "FPS: 29 C:\\Users\\jingy\\Parkinson\\NIHDB604WURZN\\Baseline\\Control Gait.MP4\n",
      "FPS: 29 C:\\Users\\jingy\\Parkinson\\NIHDB604WURZN\\Month 6\\Control Gait.MP4\n"
     ]
    },
    {
     "name": "stderr",
     "output_type": "stream",
     "text": [
      "85it [00:14,  5.84it/s]"
     ]
    },
    {
     "name": "stdout",
     "output_type": "stream",
     "text": [
      "FPS: 29 C:\\Users\\jingy\\Parkinson\\NIHDB604WURZN\\Month 6\\Control Gait.MP4\n",
      "FPS: 29 C:\\Users\\jingy\\Parkinson\\NIHDB604WURZN\\Month 6\\Control Gait.MP4\n"
     ]
    },
    {
     "name": "stderr",
     "output_type": "stream",
     "text": [
      "87it [00:14,  6.17it/s]"
     ]
    },
    {
     "name": "stdout",
     "output_type": "stream",
     "text": [
      "FPS: 29 C:\\Users\\jingy\\Parkinson\\NIHDB604WURZN\\Month 6\\Control Gait.MP4\n",
      "FPS: 29 C:\\Users\\jingy\\Parkinson\\NIHDB604WURZN\\Month 6\\Control Gait.MP4\n",
      "FPS:"
     ]
    },
    {
     "name": "stderr",
     "output_type": "stream",
     "text": [
      "88it [00:14,  6.00it/s]"
     ]
    },
    {
     "name": "stdout",
     "output_type": "stream",
     "text": [
      " 29 C:\\Users\\jingy\\Parkinson\\NIHDB604WURZN\\Month 12\\Gait.MTS\n",
      "FPS: 29 C:\\Users\\jingy\\Parkinson\\NIHDB604WURZN\\Month 12\\Gait.MTS\n",
      "FPS: 29 C:\\Users\\jingy\\Parkinson\\NIHDB604WURZN\\Month 12\\Gait.MTS\n"
     ]
    },
    {
     "name": "stderr",
     "output_type": "stream",
     "text": [
      "90it [00:15,  6.23it/s]"
     ]
    },
    {
     "name": "stdout",
     "output_type": "stream",
     "text": [
      "FPS: 29 C:\\Users\\jingy\\Parkinson\\NIHEM475DJFA7\\Baseline\\Control Gait.MP4\n",
      "FPS: 29 C:\\Users\\jingy\\Parkinson\\NIHEM475DJFA7\\Baseline\\Control Gait.MP4\n"
     ]
    },
    {
     "name": "stderr",
     "output_type": "stream",
     "text": [
      "92it [00:15,  7.32it/s]"
     ]
    },
    {
     "name": "stdout",
     "output_type": "stream",
     "text": [
      "FPS: 29 C:\\Users\\jingy\\Parkinson\\NIHEM475DJFA7\\Baseline\\Control Gait.MP4\n",
      "FPS: 29 C:\\Users\\jingy\\Parkinson\\NIHEP519MZAEZ\\Baseline\\OFF Gait.MP4\n",
      "FPS:"
     ]
    },
    {
     "name": "stderr",
     "output_type": "stream",
     "text": [
      "93it [00:15,  6.41it/s]"
     ]
    },
    {
     "name": "stdout",
     "output_type": "stream",
     "text": [
      " 29 C:\\Users\\jingy\\Parkinson\\NIHEP519MZAEZ\\Baseline\\OFF Gait.MP4\n",
      "FPS: 29 C:\\Users\\jingy\\Parkinson\\NIHEP519MZAEZ\\Baseline\\OFF Gait.MP4\n"
     ]
    },
    {
     "name": "stderr",
     "output_type": "stream",
     "text": [
      "94it [00:15,  7.00it/s]"
     ]
    },
    {
     "name": "stdout",
     "output_type": "stream",
     "text": [
      "FPS: 29 C:\\Users\\jingy\\Parkinson\\NIHEP519MZAEZ\\Baseline\\OFF Gait.MP4\n",
      "FPS: 29 C:\\Users\\jingy\\Parkinson\\NIHEP519MZAEZ\\Baseline\\ON Gait.MP4\n"
     ]
    },
    {
     "name": "stderr",
     "output_type": "stream",
     "text": [
      "95it [00:15,  6.02it/s]"
     ]
    },
    {
     "name": "stdout",
     "output_type": "stream",
     "text": [
      "FPS: 29 C:\\Users\\jingy\\Parkinson\\NIHEP519MZAEZ\\Baseline\\ON Gait.MP4\n",
      "FPS: 29 C:\\Users\\jingy\\Parkinson\\NIHEP519MZAEZ\\Baseline\\ON Gait.MP4\n"
     ]
    },
    {
     "name": "stderr",
     "output_type": "stream",
     "text": [
      "97it [00:16,  6.09it/s]"
     ]
    },
    {
     "name": "stdout",
     "output_type": "stream",
     "text": [
      "FPS: 29 C:\\Users\\jingy\\Parkinson\\NIHEP519MZAEZ\\Baseline\\ON Gait.MP4\n",
      "FPS: 29 C:\\Users\\jingy\\Parkinson\\NIHEP519MZAEZ\\Baseline\\ON Gait.MP4\n",
      "FPS: 29 C:\\Users\\jingy\\Parkinson\\NIHEP519MZAEZ\\Month 24\\OFF\\Gait-off.MP4\n"
     ]
    },
    {
     "name": "stderr",
     "output_type": "stream",
     "text": [
      "99it [00:16,  6.06it/s]"
     ]
    },
    {
     "name": "stdout",
     "output_type": "stream",
     "text": [
      "FPS: 29 C:\\Users\\jingy\\Parkinson\\NIHEP519MZAEZ\\Month 24\\OFF\\Gait-off.MP4\n",
      "FPS: 29 C:\\Users\\jingy\\Parkinson\\NIHEP519MZAEZ\\Month 24\\OFF\\Gait-off.MP4\n",
      "FPS: 29 C:\\Users\\jingy\\Parkinson\\NIHEP519MZAEZ\\Month 24\\ON\\Gait-on.MP4\n"
     ]
    },
    {
     "name": "stderr",
     "output_type": "stream",
     "text": [
      "100it [00:16,  5.51it/s]"
     ]
    },
    {
     "name": "stdout",
     "output_type": "stream",
     "text": [
      "FPS: 29 C:\\Users\\jingy\\Parkinson\\NIHEP519MZAEZ\\Month 24\\ON\\Gait-on.MP4\n",
      "FPS: 29 C:\\Users\\jingy\\Parkinson\\NIHEP519MZAEZ\\Month 24\\ON\\Gait-on.MP4\n"
     ]
    },
    {
     "name": "stderr",
     "output_type": "stream",
     "text": [
      "102it [00:17,  5.77it/s]"
     ]
    },
    {
     "name": "stdout",
     "output_type": "stream",
     "text": [
      "FPS: 29 C:\\Users\\jingy\\Parkinson\\NIHET354BPVAV\\Baseline\\OFF Gait.MP4\n",
      "FPS: 29 C:\\Users\\jingy\\Parkinson\\NIHET354BPVAV\\Baseline\\OFF Gait.MP4\n",
      "FPS:"
     ]
    },
    {
     "name": "stderr",
     "output_type": "stream",
     "text": [
      "103it [00:17,  5.52it/s]"
     ]
    },
    {
     "name": "stdout",
     "output_type": "stream",
     "text": [
      " 29 C:\\Users\\jingy\\Parkinson\\NIHET354BPVAV\\Baseline\\OFF Gait.MP4\n",
      "FPS: 29 C:\\Users\\jingy\\Parkinson\\NIHET354BPVAV\\Baseline\\OFF Gait.MP4\n",
      "FPS: 29 C:\\Users\\jingy\\Parkinson\\NIHET354BPVAV\\Baseline\\OFF Gait.MP4\n",
      "FPS: 29 C:\\Users\\jingy\\Parkinson\\NIHET354BPVAV\\Baseline\\ON Gait.MP4\n"
     ]
    },
    {
     "name": "stderr",
     "output_type": "stream",
     "text": [
      "105it [00:17,  5.99it/s]"
     ]
    },
    {
     "name": "stdout",
     "output_type": "stream",
     "text": [
      "FPS: 29 C:\\Users\\jingy\\Parkinson\\NIHET354BPVAV\\Baseline\\ON Gait.MP4\n",
      "FPS: 29 C:\\Users\\jingy\\Parkinson\\NIHET354BPVAV\\Baseline\\ON Gait.MP4\n"
     ]
    },
    {
     "name": "stderr",
     "output_type": "stream",
     "text": [
      "107it [00:17,  6.10it/s]"
     ]
    },
    {
     "name": "stdout",
     "output_type": "stream",
     "text": [
      "FPS: 29 C:\\Users\\jingy\\Parkinson\\NIHET354BPVAV\\Baseline\\ON Gait.MP4\n",
      "FPS: 29 C:\\Users\\jingy\\Parkinson\\NIHET354BPVAV\\Baseline\\ON Gait.MP4\n",
      "FPS: 29 C:\\Users\\jingy\\Parkinson\\NIHET354BPVAV\\Month 24\\MVI_0128_TUG_10meter_off.MP4\n"
     ]
    },
    {
     "name": "stderr",
     "output_type": "stream",
     "text": [
      "108it [00:18,  5.51it/s]"
     ]
    },
    {
     "name": "stdout",
     "output_type": "stream",
     "text": [
      "FPS: 29 C:\\Users\\jingy\\Parkinson\\NIHET354BPVAV\\Month 24\\MVI_0128_TUG_10meter_off.MP4\n",
      "FPS: 29 C:\\Users\\jingy\\Parkinson\\NIHET354BPVAV\\Month 24\\MVI_0128_TUG_10meter_off.MP4\n"
     ]
    },
    {
     "name": "stderr",
     "output_type": "stream",
     "text": [
      "110it [00:18,  5.82it/s]"
     ]
    },
    {
     "name": "stdout",
     "output_type": "stream",
     "text": [
      "FPS: 29 C:\\Users\\jingy\\Parkinson\\NIHET354BPVAV\\Month 24\\MVI_0128_TUG_10meter_off.MP4\n",
      "FPS: 29 C:\\Users\\jingy\\Parkinson\\NIHET354BPVAV\\Month 24\\MVI_0128_TUG_10meter_off.MP4\n",
      "FPS: 29 C:\\Users\\jingy\\Parkinson\\NIHET354BPVAV\\Month 24\\MVI_0133_TUG_10meter_on.MP4\n"
     ]
    },
    {
     "name": "stderr",
     "output_type": "stream",
     "text": [
      "111it [00:18,  5.34it/s]"
     ]
    },
    {
     "name": "stdout",
     "output_type": "stream",
     "text": [
      "FPS: 29 C:\\Users\\jingy\\Parkinson\\NIHET354BPVAV\\Month 24\\MVI_0133_TUG_10meter_on.MP4\n",
      "FPS: 29 C:\\Users\\jingy\\Parkinson\\NIHET354BPVAV\\Month 24\\MVI_0133_TUG_10meter_on.MP4\n"
     ]
    },
    {
     "name": "stderr",
     "output_type": "stream",
     "text": [
      "113it [00:19,  5.24it/s]"
     ]
    },
    {
     "name": "stdout",
     "output_type": "stream",
     "text": [
      "FPS: 29 C:\\Users\\jingy\\Parkinson\\NIHET354BPVAV\\Month 24\\MVI_0133_TUG_10meter_on.MP4\n",
      "FPS: 29 C:\\Users\\jingy\\Parkinson\\NIHET354BPVAV\\Month 24\\MVI_0133_TUG_10meter_on.MP4\n",
      "FPS: 29 C:\\Users\\jingy\\Parkinson\\NIHEX043WFAEF\\Baseline\\OFF Gait.MP4\n"
     ]
    },
    {
     "name": "stderr",
     "output_type": "stream",
     "text": [
      "114it [00:19,  4.95it/s]"
     ]
    },
    {
     "name": "stdout",
     "output_type": "stream",
     "text": [
      "FPS: 29 C:\\Users\\jingy\\Parkinson\\NIHEX043WFAEF\\Baseline\\OFF Gait.MP4\n",
      "FPS: 29 C:\\Users\\jingy\\Parkinson\\NIHEX043WFAEF\\Baseline\\OFF Gait.MP4\n"
     ]
    },
    {
     "name": "stderr",
     "output_type": "stream",
     "text": [
      "115it [00:19,  4.82it/s]"
     ]
    },
    {
     "name": "stdout",
     "output_type": "stream",
     "text": [
      "FPS: 29 C:\\Users\\jingy\\Parkinson\\NIHEX043WFAEF\\Baseline\\OFF Gait.MP4\n",
      "FPS: 29 C:\\Users\\jingy\\Parkinson\\NIHEX043WFAEF\\Baseline\\OFF Gait.MP4\n"
     ]
    },
    {
     "name": "stderr",
     "output_type": "stream",
     "text": [
      "117it [00:19,  5.64it/s]"
     ]
    },
    {
     "name": "stdout",
     "output_type": "stream",
     "text": [
      "FPS: 29 C:\\Users\\jingy\\Parkinson\\NIHEX043WFAEF\\Baseline\\OFF Gait.MP4\n",
      "FPS: 29 C:\\Users\\jingy\\Parkinson\\NIHEX043WFAEF\\Baseline\\OFF Gait.MP4\n",
      "FPS: 29 C:\\Users\\jingy\\Parkinson\\NIHEX043WFAEF\\Baseline\\ON Gait.MP4\n"
     ]
    },
    {
     "name": "stderr",
     "output_type": "stream",
     "text": [
      "118it [00:20,  5.38it/s]"
     ]
    },
    {
     "name": "stdout",
     "output_type": "stream",
     "text": [
      "FPS: 29 C:\\Users\\jingy\\Parkinson\\NIHEX043WFAEF\\Baseline\\ON Gait.MP4\n",
      "FPS: 29 C:\\Users\\jingy\\Parkinson\\NIHEX043WFAEF\\Baseline\\ON Gait.MP4\n"
     ]
    },
    {
     "name": "stderr",
     "output_type": "stream",
     "text": [
      "119it [00:20,  5.14it/s]"
     ]
    },
    {
     "name": "stdout",
     "output_type": "stream",
     "text": [
      "FPS: 29 C:\\Users\\jingy\\Parkinson\\NIHEX043WFAEF\\Baseline\\ON Gait.MP4\n",
      "FPS: 29 C:\\Users\\jingy\\Parkinson\\NIHEX043WFAEF\\Baseline\\ON Gait.MP4\n"
     ]
    },
    {
     "name": "stderr",
     "output_type": "stream",
     "text": [
      "121it [00:20,  5.20it/s]"
     ]
    },
    {
     "name": "stdout",
     "output_type": "stream",
     "text": [
      "FPS: 29 C:\\Users\\jingy\\Parkinson\\NIHEX043WFAEF\\Baseline\\ON Gait.MP4\n",
      "FPS: 29 C:\\Users\\jingy\\Parkinson\\NIHEX043WFAEF\\Baseline\\ON Gait.MP4\n"
     ]
    },
    {
     "name": "stderr",
     "output_type": "stream",
     "text": [
      "122it [00:20,  5.58it/s]"
     ]
    },
    {
     "name": "stdout",
     "output_type": "stream",
     "text": [
      "FPS: 29 C:\\Users\\jingy\\Parkinson\\NIHEX043WFAEF\\Month 12\\NIHEX043WFAEF OFF pt2.MP4\n",
      "FPS: 29 C:\\Users\\jingy\\Parkinson\\NIHEX043WFAEF\\Month 12\\NIHEX043WFAEF OFF pt2.MP4\n"
     ]
    },
    {
     "name": "stderr",
     "output_type": "stream",
     "text": [
      "123it [00:21,  4.36it/s]"
     ]
    },
    {
     "name": "stdout",
     "output_type": "stream",
     "text": [
      "FPS: 29 C:\\Users\\jingy\\Parkinson\\NIHEX043WFAEF\\Month 12\\NIHEX043WFAEF OFF pt2.MP4\n",
      "FPS: 29 C:\\Users\\jingy\\Parkinson\\NIHEX043WFAEF\\Month 12\\NIHEX043WFAEF OFF pt2.MP4\n"
     ]
    },
    {
     "name": "stderr",
     "output_type": "stream",
     "text": [
      "125it [00:21,  4.62it/s]"
     ]
    },
    {
     "name": "stdout",
     "output_type": "stream",
     "text": [
      "FPS: 29 C:\\Users\\jingy\\Parkinson\\NIHEX043WFAEF\\Month 12\\NIHEX043WFAEF OFF pt2.MP4\n",
      "FPS: 29 C:\\Users\\jingy\\Parkinson\\NIHEX043WFAEF\\Month 12\\NIHEX043WFAEF OFF pt2.MP4\n",
      "FPS: 29 C:\\Users\\jingy\\Parkinson\\NIHEX043WFAEF\\Month 12\\NIHEX043WFAEF ON pt2.MP4\n"
     ]
    },
    {
     "name": "stderr",
     "output_type": "stream",
     "text": [
      "126it [00:21,  4.70it/s]"
     ]
    },
    {
     "name": "stdout",
     "output_type": "stream",
     "text": [
      "FPS: 29 C:\\Users\\jingy\\Parkinson\\NIHEX043WFAEF\\Month 12\\NIHEX043WFAEF ON pt2.MP4\n",
      "FPS: 29 C:\\Users\\jingy\\Parkinson\\NIHEX043WFAEF\\Month 12\\NIHEX043WFAEF ON pt2.MP4\n",
      "FPS:"
     ]
    },
    {
     "name": "stderr",
     "output_type": "stream",
     "text": [
      "128it [00:22,  5.63it/s]"
     ]
    },
    {
     "name": "stdout",
     "output_type": "stream",
     "text": [
      " 29 C:\\Users\\jingy\\Parkinson\\NIHEX043WFAEF\\Month 12\\NIHEX043WFAEF ON pt2.MP4\n",
      "FPS: 29 C:\\Users\\jingy\\Parkinson\\NIHEX043WFAEF\\Month 12\\NIHEX043WFAEF ON pt2.MP4\n",
      "FPS: 29 C:\\Users\\jingy\\Parkinson\\NIHFU903DYEWL\\Baseline\\Control Gait.MP4\n"
     ]
    },
    {
     "name": "stderr",
     "output_type": "stream",
     "text": [
      "129it [00:22,  5.48it/s]"
     ]
    },
    {
     "name": "stdout",
     "output_type": "stream",
     "text": [
      "FPS: 29 C:\\Users\\jingy\\Parkinson\\NIHFU903DYEWL\\Baseline\\Control Gait.MP4\n",
      "FPS: 29 C:\\Users\\jingy\\Parkinson\\NIHFU903DYEWL\\Baseline\\Control Gait.MP4\n",
      "FPS: 29 C:\\Users\\jingy\\Parkinson\\NIHFU903DYEWL\\Baseline\\Control Gait.MP4\n"
     ]
    },
    {
     "name": "stderr",
     "output_type": "stream",
     "text": [
      "131it [00:22,  5.34it/s]"
     ]
    },
    {
     "name": "stdout",
     "output_type": "stream",
     "text": [
      "FPS: 29 C:\\Users\\jingy\\Parkinson\\NIHFU903DYEWL\\Baseline\\Control Gait.MP4\n",
      "FPS: 29 C:\\Users\\jingy\\Parkinson\\NIHFU903DYEWL\\Baseline\\Control Gait.MP4\n",
      "FPS:"
     ]
    },
    {
     "name": "stderr",
     "output_type": "stream",
     "text": [
      "132it [00:22,  5.24it/s]"
     ]
    },
    {
     "name": "stdout",
     "output_type": "stream",
     "text": [
      " 29 C:\\Users\\jingy\\Parkinson\\NIHFU903DYEWL\\Baseline\\Control Gait.MP4\n",
      "FPS: 29 C:\\Users\\jingy\\Parkinson\\NIHFU903DYEWL\\Baseline\\Control Gait.MP4\n",
      "FPS:"
     ]
    },
    {
     "name": "stderr",
     "output_type": "stream",
     "text": [
      "133it [00:23,  5.17it/s]"
     ]
    },
    {
     "name": "stdout",
     "output_type": "stream",
     "text": [
      " 29 C:\\Users\\jingy\\Parkinson\\NIHFU903DYEWL\\Baseline\\Control Gait.MP4\n",
      "FPS: 29 C:\\Users\\jingy\\Parkinson\\NIHFU903DYEWL\\Baseline\\Control Gait.MP4\n",
      "FPS:"
     ]
    },
    {
     "name": "stderr",
     "output_type": "stream",
     "text": [
      "134it [00:23,  5.05it/s]"
     ]
    },
    {
     "name": "stdout",
     "output_type": "stream",
     "text": [
      " 29 C:\\Users\\jingy\\Parkinson\\NIHFU903DYEWL\\Month 12\\12 Month_2.MP4\n",
      "FPS: 29 C:\\Users\\jingy\\Parkinson\\NIHFU903DYEWL\\Month 12\\12 Month_2.MP4\n",
      "FPS:"
     ]
    },
    {
     "name": "stderr",
     "output_type": "stream",
     "text": [
      "135it [00:23,  5.05it/s]"
     ]
    },
    {
     "name": "stdout",
     "output_type": "stream",
     "text": [
      " 29 C:\\Users\\jingy\\Parkinson\\NIHFU903DYEWL\\Month 12\\12 Month_2.MP4\n",
      "FPS: 29 C:\\Users\\jingy\\Parkinson\\NIHFU903DYEWL\\Month 12\\12 Month_2.MP4\n",
      "FPS: 29 C:\\Users\\jingy\\Parkinson\\NIHFU903DYEWL\\Month 12\\12 Month_2.MP4\n"
     ]
    },
    {
     "name": "stderr",
     "output_type": "stream",
     "text": [
      "137it [00:23,  6.72it/s]"
     ]
    },
    {
     "name": "stdout",
     "output_type": "stream",
     "text": [
      "FPS: 29 C:\\Users\\jingy\\Parkinson\\NIHFU903DYEWL\\Month 12\\12 Month_2.MP4\n",
      "FPS: 29 C:\\Users\\jingy\\Parkinson\\NIHFU903DYEWL\\Month 24\\Control GAIT.MP4\n"
     ]
    },
    {
     "name": "stderr",
     "output_type": "stream",
     "text": [
      "138it [00:23,  6.09it/s]"
     ]
    },
    {
     "name": "stdout",
     "output_type": "stream",
     "text": [
      "FPS: 29 C:\\Users\\jingy\\Parkinson\\NIHFU903DYEWL\\Month 24\\Control GAIT.MP4\n",
      "FPS: 29 C:\\Users\\jingy\\Parkinson\\NIHFU903DYEWL\\Month 24\\Control GAIT.MP4\n",
      "FPS:"
     ]
    },
    {
     "name": "stderr",
     "output_type": "stream",
     "text": [
      "140it [00:24,  5.49it/s]"
     ]
    },
    {
     "name": "stdout",
     "output_type": "stream",
     "text": [
      " 29 C:\\Users\\jingy\\Parkinson\\NIHFU903DYEWL\\Month 24\\Control GAIT.MP4\n",
      "FPS: 29 C:\\Users\\jingy\\Parkinson\\NIHFU903DYEWL\\Month 24\\Control GAIT.MP4\n",
      "FPS: 29 C:\\Users\\jingy\\Parkinson\\NIHFU903DYEWL\\Month 24\\Control GAIT.MP4\n"
     ]
    },
    {
     "name": "stderr",
     "output_type": "stream",
     "text": [
      "141it [00:24,  5.40it/s]"
     ]
    },
    {
     "name": "stdout",
     "output_type": "stream",
     "text": [
      "FPS: 29 C:\\Users\\jingy\\Parkinson\\NIHFU903DYEWL\\Month 24\\Control GAIT.MP4\n",
      "FPS: 29 C:\\Users\\jingy\\Parkinson\\NIHFU903DYEWL\\Month 24\\Control GAIT.MP4\n",
      "FPS: "
     ]
    },
    {
     "name": "stderr",
     "output_type": "stream",
     "text": [
      "142it [00:24,  5.26it/s]"
     ]
    },
    {
     "name": "stdout",
     "output_type": "stream",
     "text": [
      "29 C:\\Users\\jingy\\Parkinson\\NIHGA312KVEC2\\Baseline\\OFF Gait.MP4\n",
      "FPS: 29 C:\\Users\\jingy\\Parkinson\\NIHGA312KVEC2\\Baseline\\OFF Gait.MP4\n",
      "FPS:"
     ]
    },
    {
     "name": "stderr",
     "output_type": "stream",
     "text": [
      "143it [00:24,  5.23it/s]"
     ]
    },
    {
     "name": "stdout",
     "output_type": "stream",
     "text": [
      " 29 C:\\Users\\jingy\\Parkinson\\NIHGA312KVEC2\\Baseline\\OFF Gait.MP4\n",
      "FPS: 29 C:\\Users\\jingy\\Parkinson\\NIHGA312KVEC2\\Baseline\\OFF Gait.MP4\n",
      "FPS: 29 C:\\Users\\jingy\\Parkinson\\NIHGA312KVEC2\\Baseline\\OFF Gait.MP4\n"
     ]
    },
    {
     "name": "stderr",
     "output_type": "stream",
     "text": [
      "144it [00:25,  5.20it/s]"
     ]
    },
    {
     "name": "stdout",
     "output_type": "stream",
     "text": [
      "FPS: 29 C:\\Users\\jingy\\Parkinson\\NIHGA312KVEC2\\Baseline\\OFF Gait.MP4\n",
      "FPS: 29 C:\\Users\\jingy\\Parkinson\\NIHGA312KVEC2\\Baseline\\OFF Gait.MP4\n",
      "FPS: 29 C:\\Users\\jingy\\Parkinson\\NIHGA312KVEC2\\Baseline\\ON Gait.MP4\n"
     ]
    },
    {
     "name": "stderr",
     "output_type": "stream",
     "text": [
      "146it [00:25,  5.67it/s]"
     ]
    },
    {
     "name": "stdout",
     "output_type": "stream",
     "text": [
      "FPS: 29 C:\\Users\\jingy\\Parkinson\\NIHGA312KVEC2\\Baseline\\ON Gait.MP4\n",
      "FPS: 29 C:\\Users\\jingy\\Parkinson\\NIHGA312KVEC2\\Baseline\\ON Gait.MP4\n"
     ]
    },
    {
     "name": "stderr",
     "output_type": "stream",
     "text": [
      "147it [00:25,  5.11it/s]"
     ]
    },
    {
     "name": "stdout",
     "output_type": "stream",
     "text": [
      "FPS: 29 C:\\Users\\jingy\\Parkinson\\NIHGA312KVEC2\\Baseline\\ON Gait.MP4\n",
      "FPS: 29 C:\\Users\\jingy\\Parkinson\\NIHGA312KVEC2\\Baseline\\ON Gait.MP4\n"
     ]
    },
    {
     "name": "stderr",
     "output_type": "stream",
     "text": [
      "148it [00:26,  4.75it/s]"
     ]
    },
    {
     "name": "stdout",
     "output_type": "stream",
     "text": [
      "FPS: 29 C:\\Users\\jingy\\Parkinson\\NIHGA312KVEC2\\Baseline\\ON Gait.MP4\n",
      "FPS: 29 C:\\Users\\jingy\\Parkinson\\NIHGA312KVEC2\\Baseline\\ON Gait.MP4\n"
     ]
    },
    {
     "name": "stderr",
     "output_type": "stream",
     "text": [
      "150it [00:26,  4.71it/s]"
     ]
    },
    {
     "name": "stdout",
     "output_type": "stream",
     "text": [
      "FPS: 29 C:\\Users\\jingy\\Parkinson\\NIHGA312KVEC2\\Baseline\\ON Gait.MP4\n",
      "FPS: 29 C:\\Users\\jingy\\Parkinson\\NIHGA312KVEC2\\Month 6\\OFF Gait.MP4\n",
      "FPS: 29 C:\\Users\\jingy\\Parkinson\\NIHGA312KVEC2\\Month 6\\OFF Gait.MP4\n"
     ]
    },
    {
     "name": "stderr",
     "output_type": "stream",
     "text": [
      "151it [00:26,  4.90it/s]"
     ]
    },
    {
     "name": "stdout",
     "output_type": "stream",
     "text": [
      "FPS: 29 C:\\Users\\jingy\\Parkinson\\NIHGA312KVEC2\\Month 6\\OFF Gait.MP4\n",
      "FPS: 29 C:\\Users\\jingy\\Parkinson\\NIHGA312KVEC2\\Month 6\\OFF Gait.MP4\n",
      "FPS:"
     ]
    },
    {
     "name": "stderr",
     "output_type": "stream",
     "text": [
      "152it [00:26,  4.88it/s]"
     ]
    },
    {
     "name": "stdout",
     "output_type": "stream",
     "text": [
      " 29 C:\\Users\\jingy\\Parkinson\\NIHGA312KVEC2\\Month 6\\OFF Gait.MP4\n",
      "FPS: 29 C:\\Users\\jingy\\Parkinson\\NIHGA312KVEC2\\Month 6\\OFF Gait.MP4\n",
      "FPS: 29 C:\\Users\\jingy\\Parkinson\\NIHGA312KVEC2\\Month 6\\OFF Gait.MP4\n"
     ]
    },
    {
     "name": "stderr",
     "output_type": "stream",
     "text": [
      "154it [00:27,  5.68it/s]"
     ]
    },
    {
     "name": "stdout",
     "output_type": "stream",
     "text": [
      "FPS: 29 C:\\Users\\jingy\\Parkinson\\NIHGA312KVEC2\\Month 6\\ON Gait.MP4\n",
      "FPS: 29 C:\\Users\\jingy\\Parkinson\\NIHGA312KVEC2\\Month 6\\ON Gait.MP4\n",
      "FPS:"
     ]
    },
    {
     "name": "stderr",
     "output_type": "stream",
     "text": [
      "155it [00:27,  5.48it/s]"
     ]
    },
    {
     "name": "stdout",
     "output_type": "stream",
     "text": [
      " 29 C:\\Users\\jingy\\Parkinson\\NIHGA312KVEC2\\Month 6\\ON Gait.MP4\n",
      "FPS: 29 C:\\Users\\jingy\\Parkinson\\NIHGA312KVEC2\\Month 6\\ON Gait.MP4\n",
      "FPS:"
     ]
    },
    {
     "name": "stderr",
     "output_type": "stream",
     "text": [
      "156it [00:27,  5.26it/s]"
     ]
    },
    {
     "name": "stdout",
     "output_type": "stream",
     "text": [
      " 29 C:\\Users\\jingy\\Parkinson\\NIHGA312KVEC2\\Month 6\\ON Gait.MP4\n",
      "FPS: 29 C:\\Users\\jingy\\Parkinson\\NIHGA312KVEC2\\Month 6\\ON Gait.MP4\n",
      "FPS: 29 C:\\Users\\jingy\\Parkinson\\NIHGA312KVEC2\\Month 6\\ON Gait.MP4\n",
      "FPS: 29 C:\\Users\\jingy\\Parkinson\\NIHGA312KVEC2\\Month 12\\Gait - ON OFF unknown.MP4\n"
     ]
    },
    {
     "name": "stderr",
     "output_type": "stream",
     "text": [
      "159it [00:27,  5.76it/s]"
     ]
    },
    {
     "name": "stdout",
     "output_type": "stream",
     "text": [
      "FPS: 29 C:\\Users\\jingy\\Parkinson\\NIHGA312KVEC2\\Month 12\\Gait - ON OFF unknown.MP4\n",
      "FPS: 29 C:\\Users\\jingy\\Parkinson\\NIHGA312KVEC2\\Month 12\\Gait - ON OFF unknown.MP4\n",
      "FPS: 29 C:\\Users\\jingy\\Parkinson\\NIHGA312KVEC2\\Month 12\\Gait - ON OFF unknown.MP4\n"
     ]
    },
    {
     "name": "stderr",
     "output_type": "stream",
     "text": [
      "160it [00:28,  5.68it/s]"
     ]
    },
    {
     "name": "stdout",
     "output_type": "stream",
     "text": [
      "FPS: 29 C:\\Users\\jingy\\Parkinson\\NIHGA312KVEC2\\Month 12\\Gait - ON OFF unknown.MP4\n",
      "FPS: 29 C:\\Users\\jingy\\Parkinson\\NIHGA312KVEC2\\Month 12\\Gait - ON OFF unknown.MP4\n",
      "FPS:"
     ]
    },
    {
     "name": "stderr",
     "output_type": "stream",
     "text": [
      "161it [00:28,  5.43it/s]"
     ]
    },
    {
     "name": "stdout",
     "output_type": "stream",
     "text": [
      " 29 C:\\Users\\jingy\\Parkinson\\NIHGA312KVEC2\\Month 12\\Gait - ON OFF unknown.MP4\n",
      "FPS: 29 C:\\Users\\jingy\\Parkinson\\NIHGA312KVEC2\\Month 12\\Gait - ON OFF unknown.MP4\n",
      "FPS:"
     ]
    },
    {
     "name": "stderr",
     "output_type": "stream",
     "text": [
      "162it [00:28,  5.51it/s]"
     ]
    },
    {
     "name": "stdout",
     "output_type": "stream",
     "text": [
      " 29 C:\\Users\\jingy\\Parkinson\\NIHGA312KVEC2\\Month 12\\Gait - ON OFF unknown.MP4\n",
      "FPS: 29 C:\\Users\\jingy\\Parkinson\\NIHGA312KVEC2\\Month 12\\Gait - ON OFF unknown.MP4\n",
      "FPS:"
     ]
    },
    {
     "name": "stderr",
     "output_type": "stream",
     "text": [
      "163it [00:28,  6.31it/s]"
     ]
    },
    {
     "name": "stdout",
     "output_type": "stream",
     "text": [
      " 29 C:\\Users\\jingy\\Parkinson\\NIHGA312KVEC2\\Month 12\\Gait - ON OFF unknown.MP4\n",
      "FPS: 29 C:\\Users\\jingy\\Parkinson\\NIHGA312KVEC2\\Month 24\\OFF gait.MP4\n"
     ]
    },
    {
     "name": "stderr",
     "output_type": "stream",
     "text": [
      "165it [00:29,  6.02it/s]"
     ]
    },
    {
     "name": "stdout",
     "output_type": "stream",
     "text": [
      "FPS: 29 C:\\Users\\jingy\\Parkinson\\NIHGA312KVEC2\\Month 24\\OFF gait.MP4\n",
      "FPS: 29 C:\\Users\\jingy\\Parkinson\\NIHGA312KVEC2\\Month 24\\OFF gait.MP4\n",
      "FPS: 29 C:\\Users\\jingy\\Parkinson\\NIHGA312KVEC2\\Month 24\\ON gait.MP4\n",
      "FPS: 29 C:\\Users\\jingy\\Parkinson\\NIHGA312KVEC2\\Month 24\\ON gait.MP4\n"
     ]
    },
    {
     "name": "stderr",
     "output_type": "stream",
     "text": [
      "167it [00:29,  5.29it/s]"
     ]
    },
    {
     "name": "stdout",
     "output_type": "stream",
     "text": [
      "FPS: 29 C:\\Users\\jingy\\Parkinson\\NIHGA312KVEC2\\Month 24\\ON gait.MP4\n",
      "FPS: 29 C:\\Users\\jingy\\Parkinson\\NIHGK082MCNZA\\Baseline\\Control Gait.MP4\n"
     ]
    },
    {
     "name": "stderr",
     "output_type": "stream",
     "text": [
      "168it [00:29,  4.30it/s]"
     ]
    },
    {
     "name": "stdout",
     "output_type": "stream",
     "text": [
      "FPS: 29 C:\\Users\\jingy\\Parkinson\\NIHGK082MCNZA\\Baseline\\Control Gait.MP4\n",
      "FPS: 29 C:\\Users\\jingy\\Parkinson\\NIHGK082MCNZA\\Baseline\\Control Gait.MP4\n"
     ]
    },
    {
     "name": "stderr",
     "output_type": "stream",
     "text": [
      "170it [00:30,  4.67it/s]"
     ]
    },
    {
     "name": "stdout",
     "output_type": "stream",
     "text": [
      "FPS: 29 C:\\Users\\jingy\\Parkinson\\NIHGK082MCNZA\\Baseline\\Control Gait.MP4\n",
      "FPS: 29 C:\\Users\\jingy\\Parkinson\\NIHGK082MCNZA\\Baseline\\Control Gait.MP4\n",
      "FPS: 29 C:\\Users\\jingy\\Parkinson\\NIHHD991PGRJC\\Baseline\\OFF Gait (1) - UPDRS.MP4\n",
      "FPS:"
     ]
    },
    {
     "name": "stderr",
     "output_type": "stream",
     "text": [
      "171it [00:30,  4.40it/s]"
     ]
    },
    {
     "name": "stdout",
     "output_type": "stream",
     "text": [
      " 29 C:\\Users\\jingy\\Parkinson\\NIHHD991PGRJC\\Baseline\\OFF Gait (1) - UPDRS.MP4\n",
      "FPS: 29 C:\\Users\\jingy\\Parkinson\\NIHHD991PGRJC\\Baseline\\OFF Gait (2) - TUG and 10m Walk.MP4\n"
     ]
    },
    {
     "name": "stderr",
     "output_type": "stream",
     "text": [
      "172it [00:30,  4.33it/s]"
     ]
    },
    {
     "name": "stdout",
     "output_type": "stream",
     "text": [
      "FPS: 29 C:\\Users\\jingy\\Parkinson\\NIHHD991PGRJC\\Baseline\\OFF Gait (2) - TUG and 10m Walk.MP4\n",
      "FPS: 29 C:\\Users\\jingy\\Parkinson\\NIHHD991PGRJC\\Baseline\\OFF Gait (2) - TUG and 10m Walk.MP4\n"
     ]
    },
    {
     "name": "stderr",
     "output_type": "stream",
     "text": [
      "174it [00:31,  5.23it/s]"
     ]
    },
    {
     "name": "stdout",
     "output_type": "stream",
     "text": [
      "FPS: 29 C:\\Users\\jingy\\Parkinson\\NIHHD991PGRJC\\Baseline\\OFF Gait (2) - TUG and 10m Walk.MP4\n",
      "FPS: 29 C:\\Users\\jingy\\Parkinson\\NIHHD991PGRJC\\Baseline\\OFF Gait (2) - TUG and 10m Walk.MP4\n",
      "FPS: 29 C:\\Users\\jingy\\Parkinson\\NIHHD991PGRJC\\Baseline\\ON Gait (1) - UPDRS.MP4\n"
     ]
    },
    {
     "name": "stderr",
     "output_type": "stream",
     "text": [
      "175it [00:31,  5.20it/s]"
     ]
    },
    {
     "name": "stdout",
     "output_type": "stream",
     "text": [
      "FPS: 29 C:\\Users\\jingy\\Parkinson\\NIHHD991PGRJC\\Baseline\\ON Gait (1) - UPDRS.MP4\n",
      "FPS: 29 C:\\Users\\jingy\\Parkinson\\NIHHD991PGRJC\\Baseline\\ON Gait (3) - 10m Walk.MP4\n",
      "FPS:"
     ]
    },
    {
     "name": "stderr",
     "output_type": "stream",
     "text": [
      "176it [00:31,  5.13it/s]"
     ]
    },
    {
     "name": "stdout",
     "output_type": "stream",
     "text": [
      " 29 C:\\Users\\jingy\\Parkinson\\NIHHD991PGRJC\\Baseline\\ON Gait (3) - 10m Walk.MP4\n",
      "FPS: 29 C:\\Users\\jingy\\Parkinson\\NIHHD991PGRJC\\Baseline\\ON Gait (3) - 10m Walk.MP4\n",
      "FPS: 29 C:\\Users\\jingy\\Parkinson\\NIHHD991PGRJC\\Baseline\\ON Gait (3) - 10m Walk.MP4\n"
     ]
    },
    {
     "name": "stderr",
     "output_type": "stream",
     "text": [
      "178it [00:31,  5.04it/s]"
     ]
    },
    {
     "name": "stdout",
     "output_type": "stream",
     "text": [
      "FPS: 29 C:\\Users\\jingy\\Parkinson\\NIHHD991PGRJC\\Baseline\\ON Gait (3) - 10m Walk.MP4\n",
      "FPS: 29 C:\\Users\\jingy\\Parkinson\\NIHHD991PGRJC\\Baseline\\ON Gait (3) - 10m Walk.MP4\n",
      "FPS:"
     ]
    },
    {
     "name": "stderr",
     "output_type": "stream",
     "text": [
      "179it [00:32,  5.07it/s]"
     ]
    },
    {
     "name": "stdout",
     "output_type": "stream",
     "text": [
      " 29 C:\\Users\\jingy\\Parkinson\\NIHHD991PGRJC\\Baseline\\ON Gait (3) - 10m Walk.MP4\n",
      "FPS: 29 C:\\Users\\jingy\\Parkinson\\NIHHD991PGRJC\\Baseline\\ON Gait (3) - 10m Walk.MP4\n",
      "FPS:"
     ]
    },
    {
     "name": "stderr",
     "output_type": "stream",
     "text": [
      "180it [00:32,  5.15it/s]"
     ]
    },
    {
     "name": "stdout",
     "output_type": "stream",
     "text": [
      " 29 C:\\Users\\jingy\\Parkinson\\NIHHD991PGRJC\\Month 6\\OFF Gait.MP4\n",
      "FPS: 29 C:\\Users\\jingy\\Parkinson\\NIHHD991PGRJC\\Month 6\\OFF Gait.MP4\n",
      "FPS:"
     ]
    },
    {
     "name": "stderr",
     "output_type": "stream",
     "text": [
      "181it [00:32,  5.19it/s]"
     ]
    },
    {
     "name": "stdout",
     "output_type": "stream",
     "text": [
      " 29 C:\\Users\\jingy\\Parkinson\\NIHHD991PGRJC\\Month 6\\OFF Gait.MP4\n",
      "FPS: 29 C:\\Users\\jingy\\Parkinson\\NIHHD991PGRJC\\Month 6\\OFF Gait.MP4\n",
      "FPS:"
     ]
    },
    {
     "name": "stderr",
     "output_type": "stream",
     "text": [
      "182it [00:32,  5.20it/s]"
     ]
    },
    {
     "name": "stdout",
     "output_type": "stream",
     "text": [
      " 29 C:\\Users\\jingy\\Parkinson\\NIHHD991PGRJC\\Month 6\\OFF Gait.MP4\n",
      "FPS: 29 C:\\Users\\jingy\\Parkinson\\NIHHD991PGRJC\\Month 6\\OFF Gait.MP4\n",
      "FPS: 29 C:\\Users\\jingy\\Parkinson\\NIHHD991PGRJC\\Month 6\\OFF Gait.MP4\n",
      "FPS: 29 C:\\Users\\jingy\\Parkinson\\NIHHD991PGRJC\\Month 6\\ON Gait.MP4\n"
     ]
    },
    {
     "name": "stderr",
     "output_type": "stream",
     "text": [
      "184it [00:32,  5.77it/s]"
     ]
    },
    {
     "name": "stdout",
     "output_type": "stream",
     "text": [
      "FPS: 29 C:\\Users\\jingy\\Parkinson\\NIHHD991PGRJC\\Month 6\\ON Gait.MP4\n",
      "FPS: 29 C:\\Users\\jingy\\Parkinson\\NIHHD991PGRJC\\Month 6\\ON Gait.MP4\n"
     ]
    },
    {
     "name": "stderr",
     "output_type": "stream",
     "text": [
      "185it [00:33,  5.31it/s]"
     ]
    },
    {
     "name": "stdout",
     "output_type": "stream",
     "text": [
      "FPS: 29 C:\\Users\\jingy\\Parkinson\\NIHHD991PGRJC\\Month 6\\ON Gait.MP4\n",
      "FPS: 29 C:\\Users\\jingy\\Parkinson\\NIHHD991PGRJC\\Month 6\\ON Gait.MP4\n"
     ]
    },
    {
     "name": "stderr",
     "output_type": "stream",
     "text": [
      "187it [00:33,  5.31it/s]"
     ]
    },
    {
     "name": "stdout",
     "output_type": "stream",
     "text": [
      "FPS: 29 C:\\Users\\jingy\\Parkinson\\NIHHD991PGRJC\\Month 6\\ON Gait.MP4\n",
      "FPS: 29 C:\\Users\\jingy\\Parkinson\\NIHHD991PGRJC\\Month 6\\ON Gait.MP4\n",
      "FPS: 29 C:\\Users\\jingy\\Parkinson\\NIHHD991PGRJC\\Month 12\\OFF_MVI_1274.MP4\n",
      "FPS:"
     ]
    },
    {
     "name": "stderr",
     "output_type": "stream",
     "text": [
      "188it [00:33,  4.73it/s]"
     ]
    },
    {
     "name": "stdout",
     "output_type": "stream",
     "text": [
      " 29 C:\\Users\\jingy\\Parkinson\\NIHHD991PGRJC\\Month 12\\OFF_MVI_1274.MP4\n",
      "FPS: 29 C:\\Users\\jingy\\Parkinson\\NIHHD991PGRJC\\Month 12\\OFF_MVI_1274.MP4\n"
     ]
    },
    {
     "name": "stderr",
     "output_type": "stream",
     "text": [
      "190it [00:34,  5.13it/s]"
     ]
    },
    {
     "name": "stdout",
     "output_type": "stream",
     "text": [
      "FPS: 29 C:\\Users\\jingy\\Parkinson\\NIHHD991PGRJC\\Month 12\\OFF_MVI_1274.MP4\n",
      "FPS: 29 C:\\Users\\jingy\\Parkinson\\NIHHD991PGRJC\\Month 12\\OFF_MVI_1274.MP4\n",
      "FPS: 29 C:\\Users\\jingy\\Parkinson\\NIHHD991PGRJC\\Month 12\\ON_MVI_1276.MP4\n"
     ]
    },
    {
     "name": "stderr",
     "output_type": "stream",
     "text": [
      "191it [00:34,  5.04it/s]"
     ]
    },
    {
     "name": "stdout",
     "output_type": "stream",
     "text": [
      "FPS: 29 C:\\Users\\jingy\\Parkinson\\NIHHD991PGRJC\\Month 12\\ON_MVI_1276.MP4\n",
      "FPS: 29 C:\\Users\\jingy\\Parkinson\\NIHHD991PGRJC\\Month 12\\ON_MVI_1276.MP4\n",
      "FPS:"
     ]
    },
    {
     "name": "stderr",
     "output_type": "stream",
     "text": [
      "192it [00:34,  5.13it/s]"
     ]
    },
    {
     "name": "stdout",
     "output_type": "stream",
     "text": [
      " 29 C:\\Users\\jingy\\Parkinson\\NIHHD991PGRJC\\Month 12\\ON_MVI_1276.MP4\n",
      "FPS: 29 C:\\Users\\jingy\\Parkinson\\NIHHD991PGRJC\\Month 12\\ON_MVI_1276.MP4\n",
      "FPS: 29 C:\\Users\\jingy\\Parkinson\\NIHHD991PGRJC\\Month 24\\OFF pt 2 (no sensors).MP4\n"
     ]
    },
    {
     "name": "stderr",
     "output_type": "stream",
     "text": [
      "195it [00:34,  6.23it/s]"
     ]
    },
    {
     "name": "stdout",
     "output_type": "stream",
     "text": [
      "FPS: 29 C:\\Users\\jingy\\Parkinson\\NIHHD991PGRJC\\Month 24\\OFF pt 2 (no sensors).MP4\n",
      "FPS: 29 C:\\Users\\jingy\\Parkinson\\NIHHD991PGRJC\\Month 24\\OFF pt 2 (no sensors).MP4\n",
      "FPS:"
     ]
    },
    {
     "name": "stderr",
     "output_type": "stream",
     "text": [
      "196it [00:35,  5.87it/s]"
     ]
    },
    {
     "name": "stdout",
     "output_type": "stream",
     "text": [
      " 29 C:\\Users\\jingy\\Parkinson\\NIHHD991PGRJC\\Month 24\\OFF pt 2 (no sensors).MP4\n",
      "FPS: 29 C:\\Users\\jingy\\Parkinson\\NIHHD991PGRJC\\Month 24\\OFF pt 2 (no sensors).MP4\n"
     ]
    },
    {
     "name": "stderr",
     "output_type": "stream",
     "text": [
      "197it [00:35,  5.54it/s]"
     ]
    },
    {
     "name": "stdout",
     "output_type": "stream",
     "text": [
      "FPS: 29 C:\\Users\\jingy\\Parkinson\\NIHHD991PGRJC\\Month 24\\OFF pt 2 (no sensors).MP4\n",
      "FPS: 29 C:\\Users\\jingy\\Parkinson\\NIHHD991PGRJC\\Month 24\\OFF pt 2 (no sensors).MP4\n",
      "FPS:"
     ]
    },
    {
     "name": "stderr",
     "output_type": "stream",
     "text": [
      "198it [00:35,  6.30it/s]"
     ]
    },
    {
     "name": "stdout",
     "output_type": "stream",
     "text": [
      " 29 C:\\Users\\jingy\\Parkinson\\NIHHD991PGRJC\\Month 24\\OFF pt 2 (no sensors).MP4\n",
      "FPS: 29 C:\\Users\\jingy\\Parkinson\\NIHHD991PGRJC\\Month 24\\ON pt 2 (sensors).MP4\n",
      "FPS: 29 C:\\Users\\jingy\\Parkinson\\NIHHD991PGRJC\\Month 24\\ON pt 2 (sensors).MP4\n"
     ]
    },
    {
     "name": "stderr",
     "output_type": "stream",
     "text": [
      "200it [00:35,  6.66it/s]"
     ]
    },
    {
     "name": "stdout",
     "output_type": "stream",
     "text": [
      "FPS: 29 C:\\Users\\jingy\\Parkinson\\NIHHD991PGRJC\\Month 24\\ON pt 2 (sensors).MP4\n",
      "FPS: 29 C:\\Users\\jingy\\Parkinson\\NIHHD991PGRJC\\Month 24\\ON pt 2 (sensors).MP4\n",
      "FPS:"
     ]
    },
    {
     "name": "stderr",
     "output_type": "stream",
     "text": [
      "202it [00:36,  6.10it/s]"
     ]
    },
    {
     "name": "stdout",
     "output_type": "stream",
     "text": [
      " 29 C:\\Users\\jingy\\Parkinson\\NIHHD991PGRJC\\Month 24\\ON pt 2 (sensors).MP4\n",
      "FPS: 29 C:\\Users\\jingy\\Parkinson\\NIHHD991PGRJC\\Month 24\\ON pt 2 (sensors).MP4\n",
      "FPS: 29 C:\\Users\\jingy\\Parkinson\\NIHHD991PGRJC\\Month 24\\ON pt 2 (sensors).MP4\n"
     ]
    },
    {
     "name": "stderr",
     "output_type": "stream",
     "text": [
      "203it [00:36,  6.75it/s]"
     ]
    },
    {
     "name": "stdout",
     "output_type": "stream",
     "text": [
      "FPS: 29 C:\\Users\\jingy\\Parkinson\\NIHHD991PGRJC\\Month 24\\ON pt 2 (sensors).MP4\n",
      "FPS: 29 C:\\Users\\jingy\\Parkinson\\NIHHG558EJJMM\\Baseline\\Baseline\\Control Gait.MP4\n"
     ]
    },
    {
     "name": "stderr",
     "output_type": "stream",
     "text": [
      "205it [00:36,  6.05it/s]"
     ]
    },
    {
     "name": "stdout",
     "output_type": "stream",
     "text": [
      "FPS: 29 C:\\Users\\jingy\\Parkinson\\NIHHG558EJJMM\\Baseline\\Baseline\\Control Gait.MP4\n",
      "FPS: 29 C:\\Users\\jingy\\Parkinson\\NIHHG558EJJMM\\Baseline\\Baseline\\Control Gait.MP4\n",
      "FPS: 29 C:\\Users\\jingy\\Parkinson\\NIHHG558EJJMM\\Baseline\\Baseline\\Control Gait.MP4\n"
     ]
    },
    {
     "name": "stderr",
     "output_type": "stream",
     "text": [
      "206it [00:36,  5.82it/s]"
     ]
    },
    {
     "name": "stdout",
     "output_type": "stream",
     "text": [
      "FPS: 29 C:\\Users\\jingy\\Parkinson\\NIHHG558EJJMM\\Baseline\\Baseline\\Control Gait.MP4\n",
      "FPS: 29 C:\\Users\\jingy\\Parkinson\\NIHHG558EJJMM\\Baseline\\Baseline\\Control Gait.MP4\n",
      "FPS:"
     ]
    },
    {
     "name": "stderr",
     "output_type": "stream",
     "text": [
      "208it [00:36,  7.22it/s]"
     ]
    },
    {
     "name": "stdout",
     "output_type": "stream",
     "text": [
      " 29 C:\\Users\\jingy\\Parkinson\\NIHHG558EJJMM\\Baseline\\Baseline\\Control Gait.MP4\n",
      "FPS: 29 C:\\Users\\jingy\\Parkinson\\NIHHG558EJJMM\\Month 12\\NIHHG558EJJMM pt 2.MP4\n",
      "FPS:"
     ]
    },
    {
     "name": "stderr",
     "output_type": "stream",
     "text": [
      "209it [00:37,  6.56it/s]"
     ]
    },
    {
     "name": "stdout",
     "output_type": "stream",
     "text": [
      " 29 C:\\Users\\jingy\\Parkinson\\NIHHG558EJJMM\\Month 12\\NIHHG558EJJMM pt 2.MP4\n",
      "FPS: 29 C:\\Users\\jingy\\Parkinson\\NIHHG558EJJMM\\Month 12\\NIHHG558EJJMM pt 2.MP4\n",
      "FPS:"
     ]
    },
    {
     "name": "stderr",
     "output_type": "stream",
     "text": [
      "210it [00:37,  6.17it/s]"
     ]
    },
    {
     "name": "stdout",
     "output_type": "stream",
     "text": [
      " 29 C:\\Users\\jingy\\Parkinson\\NIHHG558EJJMM\\Month 12\\NIHHG558EJJMM pt 2.MP4\n",
      "FPS: 29 C:\\Users\\jingy\\Parkinson\\NIHHG558EJJMM\\Month 12\\NIHHG558EJJMM pt 2.MP4\n",
      "FPS: 29 C:\\Users\\jingy\\Parkinson\\NIHHG558EJJMM\\Month 12\\NIHHG558EJJMM pt 2.MP4\n",
      "FPS: 29 C:\\Users\\jingy\\Parkinson\\NIHHZ774ENCA5\\Baseline\\Control Gait.MP4\n"
     ]
    },
    {
     "name": "stderr",
     "output_type": "stream",
     "text": [
      "212it [00:37,  6.53it/s]"
     ]
    },
    {
     "name": "stdout",
     "output_type": "stream",
     "text": [
      "FPS: 29 C:\\Users\\jingy\\Parkinson\\NIHHZ774ENCA5\\Baseline\\Control Gait.MP4\n",
      "FPS: 29 C:\\Users\\jingy\\Parkinson\\NIHHZ774ENCA5\\Baseline\\Control Gait.MP4\n"
     ]
    },
    {
     "name": "stderr",
     "output_type": "stream",
     "text": [
      "213it [00:37,  6.17it/s]"
     ]
    },
    {
     "name": "stdout",
     "output_type": "stream",
     "text": [
      "FPS: 29 C:\\Users\\jingy\\Parkinson\\NIHHZ774ENCA5\\Baseline\\Control Gait.MP4\n",
      "FPS: 29 C:\\Users\\jingy\\Parkinson\\NIHHZ774ENCA5\\Baseline\\Control Gait.MP4\n"
     ]
    },
    {
     "name": "stderr",
     "output_type": "stream",
     "text": [
      "215it [00:38,  6.26it/s]"
     ]
    },
    {
     "name": "stdout",
     "output_type": "stream",
     "text": [
      "FPS: 29 C:\\Users\\jingy\\Parkinson\\NIHHZ774ENCA5\\Baseline\\Control Gait.MP4\n",
      "FPS: 29 C:\\Users\\jingy\\Parkinson\\NIHHZ774ENCA5\\Baseline\\Control Gait.MP4\n",
      "FPS: 29 C:\\Users\\jingy\\Parkinson\\NIHHZ774ENCA5\\Month 12\\NIHHZ774ENCA5 control gait.MP4\n"
     ]
    },
    {
     "name": "stderr",
     "output_type": "stream",
     "text": [
      "216it [00:38,  5.75it/s]"
     ]
    },
    {
     "name": "stdout",
     "output_type": "stream",
     "text": [
      "FPS: 29 C:\\Users\\jingy\\Parkinson\\NIHHZ774ENCA5\\Month 12\\NIHHZ774ENCA5 control gait.MP4\n",
      "FPS: 29 C:\\Users\\jingy\\Parkinson\\NIHHZ774ENCA5\\Month 12\\NIHHZ774ENCA5 control gait.MP4\n"
     ]
    },
    {
     "name": "stderr",
     "output_type": "stream",
     "text": [
      "217it [00:38,  5.36it/s]"
     ]
    },
    {
     "name": "stdout",
     "output_type": "stream",
     "text": [
      "FPS: 29 C:\\Users\\jingy\\Parkinson\\NIHHZ774ENCA5\\Month 12\\NIHHZ774ENCA5 control gait.MP4\n",
      "FPS: 29 C:\\Users\\jingy\\Parkinson\\NIHHZ774ENCA5\\Month 12\\NIHHZ774ENCA5 control gait.MP4\n"
     ]
    },
    {
     "name": "stderr",
     "output_type": "stream",
     "text": [
      "218it [00:38,  5.14it/s]"
     ]
    },
    {
     "name": "stdout",
     "output_type": "stream",
     "text": [
      "FPS: 29 C:\\Users\\jingy\\Parkinson\\NIHHZ774ENCA5\\Month 12\\NIHHZ774ENCA5 control gait.MP4\n",
      "FPS: 29 C:\\Users\\jingy\\Parkinson\\NIHKH638RXUVN\\Baseline\\Baseline\\Control Gait.MP4\n"
     ]
    },
    {
     "name": "stderr",
     "output_type": "stream",
     "text": [
      "219it [00:39,  4.90it/s]"
     ]
    },
    {
     "name": "stdout",
     "output_type": "stream",
     "text": [
      "FPS: 29 C:\\Users\\jingy\\Parkinson\\NIHKH638RXUVN\\Baseline\\Baseline\\Control Gait.MP4\n",
      "FPS: 29 C:\\Users\\jingy\\Parkinson\\NIHKH638RXUVN\\Baseline\\Baseline\\Control Gait.MP4\n"
     ]
    },
    {
     "name": "stderr",
     "output_type": "stream",
     "text": [
      "220it [00:39,  4.48it/s]"
     ]
    },
    {
     "name": "stdout",
     "output_type": "stream",
     "text": [
      "FPS: 29 C:\\Users\\jingy\\Parkinson\\NIHKH638RXUVN\\Baseline\\Baseline\\Control Gait.MP4\n",
      "FPS: 29 C:\\Users\\jingy\\Parkinson\\NIHKH638RXUVN\\Baseline\\Baseline\\Control Gait.MP4\n"
     ]
    },
    {
     "name": "stderr",
     "output_type": "stream",
     "text": [
      "222it [00:39,  5.01it/s]"
     ]
    },
    {
     "name": "stdout",
     "output_type": "stream",
     "text": [
      "FPS: 29 C:\\Users\\jingy\\Parkinson\\NIHKH638RXUVN\\Baseline\\Baseline\\Control Gait.MP4\n",
      "FPS: 29 C:\\Users\\jingy\\Parkinson\\NIHKH638RXUVN\\Baseline\\Baseline\\Control Gait.MP4\n",
      "FPS: 29 C:\\Users\\jingy\\Parkinson\\NIHKH638RXUVN\\Month 12\\NIHKH638RXUVN gait.MP4\n"
     ]
    },
    {
     "name": "stderr",
     "output_type": "stream",
     "text": [
      "223it [00:39,  4.94it/s]"
     ]
    },
    {
     "name": "stdout",
     "output_type": "stream",
     "text": [
      "FPS: 29 C:\\Users\\jingy\\Parkinson\\NIHKH638RXUVN\\Month 12\\NIHKH638RXUVN gait.MP4\n",
      "FPS: 29 C:\\Users\\jingy\\Parkinson\\NIHKH638RXUVN\\Month 12\\NIHKH638RXUVN gait.MP4\n",
      "FPS: 29 C:\\Users\\jingy\\Parkinson\\NIHLP696LBHDB\\Baseline\\OFF Gait.MP4\n"
     ]
    },
    {
     "name": "stderr",
     "output_type": "stream",
     "text": [
      "225it [00:40,  5.42it/s]"
     ]
    },
    {
     "name": "stdout",
     "output_type": "stream",
     "text": [
      "FPS: 29 C:\\Users\\jingy\\Parkinson\\NIHLP696LBHDB\\Baseline\\OFF Gait.MP4\n",
      "FPS: 29 C:\\Users\\jingy\\Parkinson\\NIHLP696LBHDB\\Baseline\\OFF Gait.MP4\n",
      "FPS: "
     ]
    },
    {
     "name": "stderr",
     "output_type": "stream",
     "text": [
      "226it [00:40,  5.31it/s]"
     ]
    },
    {
     "name": "stdout",
     "output_type": "stream",
     "text": [
      "29 C:\\Users\\jingy\\Parkinson\\NIHLP696LBHDB\\Baseline\\OFF Gait.MP4\n",
      "FPS: 29 C:\\Users\\jingy\\Parkinson\\NIHLP696LBHDB\\Baseline\\OFF Gait.MP4\n",
      "FPS:"
     ]
    },
    {
     "name": "stderr",
     "output_type": "stream",
     "text": [
      "227it [00:40,  5.23it/s]"
     ]
    },
    {
     "name": "stdout",
     "output_type": "stream",
     "text": [
      " 29 C:\\Users\\jingy\\Parkinson\\NIHLP696LBHDB\\Baseline\\OFF Gait.MP4\n",
      "FPS: 29 C:\\Users\\jingy\\Parkinson\\NIHLP696LBHDB\\Baseline\\OFF Gait.MP4\n",
      "FPS: 29 C:\\Users\\jingy\\Parkinson\\NIHLP696LBHDB\\Baseline\\ON Gait.MP4\n"
     ]
    },
    {
     "name": "stderr",
     "output_type": "stream",
     "text": [
      "231it [00:41,  7.10it/s]"
     ]
    },
    {
     "name": "stdout",
     "output_type": "stream",
     "text": [
      "FPS: 29 C:\\Users\\jingy\\Parkinson\\NIHLP696LBHDB\\Baseline\\ON Gait.MP4\n",
      "FPS: 29 C:\\Users\\jingy\\Parkinson\\NIHLP696LBHDB\\Baseline\\ON Gait.MP4\n",
      "FPS: 29 C:\\Users\\jingy\\Parkinson\\NIHLP696LBHDB\\Baseline\\ON Gait (cont.).MP4\n"
     ]
    },
    {
     "name": "stderr",
     "output_type": "stream",
     "text": [
      "232it [00:41,  6.55it/s]"
     ]
    },
    {
     "name": "stdout",
     "output_type": "stream",
     "text": [
      "FPS: 29 C:\\Users\\jingy\\Parkinson\\NIHLP696LBHDB\\Baseline\\ON Gait (cont.).MP4\n",
      "FPS: 29 C:\\Users\\jingy\\Parkinson\\NIHLP696LBHDB\\Baseline\\ON Gait (cont.).MP4\n",
      "FPS:"
     ]
    },
    {
     "name": "stderr",
     "output_type": "stream",
     "text": [
      "233it [00:41,  6.10it/s]"
     ]
    },
    {
     "name": "stdout",
     "output_type": "stream",
     "text": [
      " 29 C:\\Users\\jingy\\Parkinson\\NIHLP696LBHDB\\Baseline\\ON Gait (cont.).MP4\n",
      "FPS: 29 C:\\Users\\jingy\\Parkinson\\NIHLP696LBHDB\\Baseline\\ON Gait (cont.).MP4\n",
      "FPS:"
     ]
    },
    {
     "name": "stderr",
     "output_type": "stream",
     "text": [
      "234it [00:41,  5.93it/s]"
     ]
    },
    {
     "name": "stdout",
     "output_type": "stream",
     "text": [
      " 29 C:\\Users\\jingy\\Parkinson\\NIHLW568LJGVV\\Baseline\\Control Gait.MP4\n",
      "FPS: 29 C:\\Users\\jingy\\Parkinson\\NIHLW568LJGVV\\Baseline\\Control Gait.MP4\n",
      "FPS: 29 C:\\Users\\jingy\\Parkinson\\NIHLW568LJGVV\\Baseline\\Control Gait.MP4\n"
     ]
    },
    {
     "name": "stderr",
     "output_type": "stream",
     "text": [
      "236it [00:42,  5.67it/s]"
     ]
    },
    {
     "name": "stdout",
     "output_type": "stream",
     "text": [
      "FPS: 29 C:\\Users\\jingy\\Parkinson\\NIHLW568LJGVV\\Baseline\\Control Gait.MP4\n",
      "FPS: 29 C:\\Users\\jingy\\Parkinson\\NIHLW568LJGVV\\Baseline\\Control Gait.MP4\n",
      "FPS: 29 C:\\Users\\jingy\\Parkinson\\NIHLW568LJGVV\\Baseline\\Control Gait.MP4\n"
     ]
    },
    {
     "name": "stderr",
     "output_type": "stream",
     "text": [
      "237it [00:42,  6.29it/s]"
     ]
    },
    {
     "name": "stdout",
     "output_type": "stream",
     "text": [
      "FPS: 29 C:\\Users\\jingy\\Parkinson\\NIHLW568LJGVV\\Baseline\\Control Gait.MP4\n",
      "FPS: 29 C:\\Users\\jingy\\Parkinson\\NIHLW568LJGVV\\Month 12\\NIHLW568LJGVV pt1.MP4\n"
     ]
    },
    {
     "name": "stderr",
     "output_type": "stream",
     "text": [
      "238it [00:42,  5.54it/s]"
     ]
    },
    {
     "name": "stdout",
     "output_type": "stream",
     "text": [
      "FPS: 29 C:\\Users\\jingy\\Parkinson\\NIHLW568LJGVV\\Month 12\\NIHLW568LJGVV pt1.MP4\n",
      "FPS: 29 C:\\Users\\jingy\\Parkinson\\NIHLW568LJGVV\\Month 12\\NIHLW568LJGVV pt1.MP4\n"
     ]
    },
    {
     "name": "stderr",
     "output_type": "stream",
     "text": [
      "239it [00:42,  5.13it/s]"
     ]
    },
    {
     "name": "stdout",
     "output_type": "stream",
     "text": [
      "FPS: 29 C:\\Users\\jingy\\Parkinson\\NIHLW568LJGVV\\Month 12\\NIHLW568LJGVV pt1.MP4\n",
      "FPS: 29 C:\\Users\\jingy\\Parkinson\\NIHME200JKXX8\\Baseline\\OFF Gait.MP4\n"
     ]
    },
    {
     "name": "stderr",
     "output_type": "stream",
     "text": [
      "240it [00:42,  4.69it/s]"
     ]
    },
    {
     "name": "stdout",
     "output_type": "stream",
     "text": [
      "FPS: 29 C:\\Users\\jingy\\Parkinson\\NIHME200JKXX8\\Baseline\\OFF Gait.MP4\n",
      "FPS: 29 C:\\Users\\jingy\\Parkinson\\NIHME200JKXX8\\Baseline\\OFF Gait.MP4\n"
     ]
    },
    {
     "name": "stderr",
     "output_type": "stream",
     "text": [
      "242it [00:43,  5.27it/s]"
     ]
    },
    {
     "name": "stdout",
     "output_type": "stream",
     "text": [
      "FPS: 29 C:\\Users\\jingy\\Parkinson\\NIHME200JKXX8\\Baseline\\OFF Gait.MP4\n",
      "FPS: 29 C:\\Users\\jingy\\Parkinson\\NIHME200JKXX8\\Baseline\\OFF Gait.MP4\n",
      "FPS: 29 C:\\Users\\jingy\\Parkinson\\NIHME200JKXX8\\Baseline\\ON Gait.MP4\n"
     ]
    },
    {
     "name": "stderr",
     "output_type": "stream",
     "text": [
      "243it [00:43,  5.07it/s]"
     ]
    },
    {
     "name": "stdout",
     "output_type": "stream",
     "text": [
      "FPS: 29 C:\\Users\\jingy\\Parkinson\\NIHME200JKXX8\\Baseline\\ON Gait.MP4\n",
      "FPS: 29 C:\\Users\\jingy\\Parkinson\\NIHME200JKXX8\\Baseline\\ON Gait.MP4\n"
     ]
    },
    {
     "name": "stderr",
     "output_type": "stream",
     "text": [
      "245it [00:43,  5.78it/s]"
     ]
    },
    {
     "name": "stdout",
     "output_type": "stream",
     "text": [
      "FPS: 29 C:\\Users\\jingy\\Parkinson\\NIHME200JKXX8\\Baseline\\ON Gait.MP4\n",
      "FPS: 29 C:\\Users\\jingy\\Parkinson\\NIHME200JKXX8\\Baseline\\ON Gait.MP4\n",
      "FPS: 29 C:\\Users\\jingy\\Parkinson\\NIHME200JKXX8\\Month 12\\NIHME200JKXX8 12 Month OFF pt 2.MP4\n"
     ]
    },
    {
     "name": "stderr",
     "output_type": "stream",
     "text": [
      "247it [00:44,  6.12it/s]"
     ]
    },
    {
     "name": "stdout",
     "output_type": "stream",
     "text": [
      "FPS: 29 C:\\Users\\jingy\\Parkinson\\NIHME200JKXX8\\Month 12\\NIHME200JKXX8 12 Month OFF pt 2.MP4\n",
      "FPS: 29 C:\\Users\\jingy\\Parkinson\\NIHME200JKXX8\\Month 12\\NIHME200JKXX8 12 Month OFF pt 2.MP4\n",
      "FPS: 29 C:\\Users\\jingy\\Parkinson\\NIHME200JKXX8\\Month 12\\NIHME200JKXX8 12 Month ON pt 2.MP4\n"
     ]
    },
    {
     "name": "stderr",
     "output_type": "stream",
     "text": [
      "248it [00:44,  5.71it/s]"
     ]
    },
    {
     "name": "stdout",
     "output_type": "stream",
     "text": [
      "FPS: 29 C:\\Users\\jingy\\Parkinson\\NIHME200JKXX8\\Month 12\\NIHME200JKXX8 12 Month ON pt 2.MP4\n",
      "FPS: 29 C:\\Users\\jingy\\Parkinson\\NIHME200JKXX8\\Month 12\\NIHME200JKXX8 12 Month ON pt 2.MP4\n",
      "FPS: 29 C:\\Users\\jingy\\Parkinson\\NIHME200JKXX8\\Month 24\\OFF gait.MP4\n"
     ]
    },
    {
     "name": "stderr",
     "output_type": "stream",
     "text": [
      "251it [00:44,  6.72it/s]"
     ]
    },
    {
     "name": "stdout",
     "output_type": "stream",
     "text": [
      "FPS: 29 C:\\Users\\jingy\\Parkinson\\NIHME200JKXX8\\Month 24\\OFF gait.MP4\n",
      "FPS: 29 C:\\Users\\jingy\\Parkinson\\NIHME200JKXX8\\Month 24\\OFF gait.MP4\n",
      "FPS: 29 C:\\Users\\jingy\\Parkinson\\NIHME200JKXX8\\Month 24\\ON gait.MP4\n"
     ]
    },
    {
     "name": "stderr",
     "output_type": "stream",
     "text": [
      "252it [00:44,  6.06it/s]"
     ]
    },
    {
     "name": "stdout",
     "output_type": "stream",
     "text": [
      "FPS: 29 C:\\Users\\jingy\\Parkinson\\NIHME200JKXX8\\Month 24\\ON gait.MP4\n",
      "FPS: 29 C:\\Users\\jingy\\Parkinson\\NIHME200JKXX8\\Month 24\\ON gait.MP4\n",
      "FPS: 29 C:\\Users\\jingy\\Parkinson\\NIHMU160YERL0\\Baseline\\NIHMU160YERL0 OFF pt2.MP4\n"
     ]
    },
    {
     "name": "stderr",
     "output_type": "stream",
     "text": [
      "255it [00:45,  5.93it/s]"
     ]
    },
    {
     "name": "stdout",
     "output_type": "stream",
     "text": [
      "FPS: 29 C:\\Users\\jingy\\Parkinson\\NIHMU160YERL0\\Baseline\\NIHMU160YERL0 OFF pt2.MP4\n",
      "FPS: 29 C:\\Users\\jingy\\Parkinson\\NIHMU160YERL0\\Baseline\\NIHMU160YERL0 OFF pt2.MP4\n",
      "FPS: 29 C:\\Users\\jingy\\Parkinson\\NIHMU160YERL0\\Baseline\\NIHMU160YERL0 OFF pt2.MP4\n"
     ]
    },
    {
     "name": "stderr",
     "output_type": "stream",
     "text": [
      "256it [00:45,  5.66it/s]"
     ]
    },
    {
     "name": "stdout",
     "output_type": "stream",
     "text": [
      "FPS: 29 C:\\Users\\jingy\\Parkinson\\NIHMU160YERL0\\Baseline\\NIHMU160YERL0 ON pt2.MP4\n",
      "FPS: 29 C:\\Users\\jingy\\Parkinson\\NIHMU160YERL0\\Baseline\\NIHMU160YERL0 ON pt2.MP4\n",
      "FPS: 29 C:\\Users\\jingy\\Parkinson\\NIHMU160YERL0\\Baseline\\NIHMU160YERL0 ON pt2.MP4\n",
      "FPS:"
     ]
    },
    {
     "name": "stderr",
     "output_type": "stream",
     "text": [
      "257it [00:45,  5.17it/s]"
     ]
    },
    {
     "name": "stdout",
     "output_type": "stream",
     "text": [
      " 29 C:\\Users\\jingy\\Parkinson\\NIHMU160YERL0\\Baseline\\NIHMU160YERL0 ON pt2.MP4\n",
      "FPS: 29 C:\\Users\\jingy\\Parkinson\\NIHMU160YERL0\\Month 12\\ON\\NIHDW178UFZHB timed up and go + 10 meter walk ON .MP4\n"
     ]
    },
    {
     "name": "stderr",
     "output_type": "stream",
     "text": [
      "259it [00:46,  5.44it/s]"
     ]
    },
    {
     "name": "stdout",
     "output_type": "stream",
     "text": [
      "FPS: 29 C:\\Users\\jingy\\Parkinson\\NIHMU160YERL0\\Month 12\\ON\\NIHDW178UFZHB timed up and go + 10 meter walk ON .MP4\n",
      "FPS: 29 C:\\Users\\jingy\\Parkinson\\NIHMU160YERL0\\Month 12\\ON\\NIHDW178UFZHB timed up and go + 10 meter walk ON .MP4\n",
      "FPS: 29 C:\\Users\\jingy\\Parkinson\\NIHNJ141FAUK0\\Baseline\\Control Gait.MP4\n"
     ]
    },
    {
     "name": "stderr",
     "output_type": "stream",
     "text": [
      "260it [00:46,  4.65it/s]"
     ]
    },
    {
     "name": "stdout",
     "output_type": "stream",
     "text": [
      "FPS: 29 C:\\Users\\jingy\\Parkinson\\NIHNJ141FAUK0\\Baseline\\Control Gait.MP4\n",
      "FPS: 29 C:\\Users\\jingy\\Parkinson\\NIHNJ141FAUK0\\Baseline\\Control Gait.MP4\n"
     ]
    },
    {
     "name": "stderr",
     "output_type": "stream",
     "text": [
      "261it [00:46,  4.32it/s]"
     ]
    },
    {
     "name": "stdout",
     "output_type": "stream",
     "text": [
      "FPS: 29 C:\\Users\\jingy\\Parkinson\\NIHNJ141FAUK0\\Baseline\\Control Gait.MP4\n",
      "FPS: 29 C:\\Users\\jingy\\Parkinson\\NIHNJ141FAUK0\\Baseline\\Control Gait.MP4\n"
     ]
    },
    {
     "name": "stderr",
     "output_type": "stream",
     "text": [
      "263it [00:47,  4.54it/s]"
     ]
    },
    {
     "name": "stdout",
     "output_type": "stream",
     "text": [
      "FPS: 29 C:\\Users\\jingy\\Parkinson\\NIHNJ141FAUK0\\Baseline\\Control Gait.MP4\n",
      "FPS: 29 C:\\Users\\jingy\\Parkinson\\NIHNJ141FAUK0\\Baseline\\Control Gait.MP4\n",
      "FPS: 29 C:\\Users\\jingy\\Parkinson\\NIHNJ141FAUK0\\Month 12\\12 month control Gait.MP4\n"
     ]
    },
    {
     "name": "stderr",
     "output_type": "stream",
     "text": [
      "264it [00:47,  4.17it/s]"
     ]
    },
    {
     "name": "stdout",
     "output_type": "stream",
     "text": [
      "FPS: 29 C:\\Users\\jingy\\Parkinson\\NIHNJ141FAUK0\\Month 12\\12 month control Gait.MP4\n",
      "FPS: 29 C:\\Users\\jingy\\Parkinson\\NIHNJ141FAUK0\\Month 12\\12 month control Gait.MP4\n"
     ]
    },
    {
     "name": "stderr",
     "output_type": "stream",
     "text": [
      "265it [00:47,  3.92it/s]"
     ]
    },
    {
     "name": "stdout",
     "output_type": "stream",
     "text": [
      "FPS: 29 C:\\Users\\jingy\\Parkinson\\NIHNJ141FAUK0\\Month 12\\12 month control Gait.MP4\n",
      "FPS: 29 C:\\Users\\jingy\\Parkinson\\NIHNJ141FAUK0\\Month 12\\12 month control Gait.MP4\n"
     ]
    },
    {
     "name": "stderr",
     "output_type": "stream",
     "text": [
      "267it [00:48,  4.58it/s]"
     ]
    },
    {
     "name": "stdout",
     "output_type": "stream",
     "text": [
      "FPS: 29 C:\\Users\\jingy\\Parkinson\\NIHNJ141FAUK0\\Month 12\\12 month control Gait.MP4\n",
      "FPS: 29 C:\\Users\\jingy\\Parkinson\\NIHNJ141FAUK0\\Month 12\\12 month control Gait.MP4\n",
      "FPS: 29 C:\\Users\\jingy\\Parkinson\\NIHNJ141FAUK0\\Month 24\\Control GAIT.MP4\n"
     ]
    },
    {
     "name": "stderr",
     "output_type": "stream",
     "text": [
      "268it [00:48,  4.43it/s]"
     ]
    },
    {
     "name": "stdout",
     "output_type": "stream",
     "text": [
      "FPS: 29 C:\\Users\\jingy\\Parkinson\\NIHNJ141FAUK0\\Month 24\\Control GAIT.MP4\n",
      "FPS: 29 C:\\Users\\jingy\\Parkinson\\NIHNJ141FAUK0\\Month 24\\Control GAIT.MP4\n"
     ]
    },
    {
     "name": "stderr",
     "output_type": "stream",
     "text": [
      "269it [00:48,  4.18it/s]"
     ]
    },
    {
     "name": "stdout",
     "output_type": "stream",
     "text": [
      "FPS: 29 C:\\Users\\jingy\\Parkinson\\NIHNJ141FAUK0\\Month 24\\Control GAIT.MP4\n",
      "FPS: 29 C:\\Users\\jingy\\Parkinson\\NIHNJ141FAUK0\\Month 24\\Control GAIT.MP4\n"
     ]
    },
    {
     "name": "stderr",
     "output_type": "stream",
     "text": [
      "271it [00:49,  4.58it/s]"
     ]
    },
    {
     "name": "stdout",
     "output_type": "stream",
     "text": [
      "FPS: 29 C:\\Users\\jingy\\Parkinson\\NIHNJ141FAUK0\\Month 24\\Control GAIT.MP4\n",
      "FPS: 29 C:\\Users\\jingy\\Parkinson\\NIHNJ141FAUK0\\Month 24\\Control GAIT.MP4\n",
      "FPS: 29 C:\\Users\\jingy\\Parkinson\\NIHNX715KUVY8\\NIHNX715KUVY8\\Baseline Visit\\NIHNX715KUVY8_OFF_2.MP4\n"
     ]
    },
    {
     "name": "stderr",
     "output_type": "stream",
     "text": [
      "272it [00:49,  4.06it/s]"
     ]
    },
    {
     "name": "stdout",
     "output_type": "stream",
     "text": [
      "FPS: 29 C:\\Users\\jingy\\Parkinson\\NIHNX715KUVY8\\NIHNX715KUVY8\\Baseline Visit\\NIHNX715KUVY8_OFF_2.MP4\n",
      "FPS: 29 C:\\Users\\jingy\\Parkinson\\NIHNX715KUVY8\\NIHNX715KUVY8\\Baseline Visit\\NIHNX715KUVY8_OFF_2.MP4\n"
     ]
    },
    {
     "name": "stderr",
     "output_type": "stream",
     "text": [
      "274it [00:49,  4.62it/s]"
     ]
    },
    {
     "name": "stdout",
     "output_type": "stream",
     "text": [
      "FPS: 29 C:\\Users\\jingy\\Parkinson\\NIHNX715KUVY8\\NIHNX715KUVY8\\Baseline Visit\\NIHNX715KUVY8_OFF_2.MP4\n",
      "FPS: 29 C:\\Users\\jingy\\Parkinson\\NIHNX715KUVY8\\NIHNX715KUVY8\\Baseline Visit\\NIHNX715KUVY8_OFF_2.MP4\n",
      "FPS:"
     ]
    },
    {
     "name": "stderr",
     "output_type": "stream",
     "text": [
      "275it [00:50,  4.44it/s]"
     ]
    },
    {
     "name": "stdout",
     "output_type": "stream",
     "text": [
      " 29 C:\\Users\\jingy\\Parkinson\\NIHNX715KUVY8\\NIHNX715KUVY8\\Baseline Visit\\NIHNX715KUVY8_ON_2.MP4\n",
      "FPS: 29 C:\\Users\\jingy\\Parkinson\\NIHNX715KUVY8\\NIHNX715KUVY8\\Baseline Visit\\NIHNX715KUVY8_ON_2.MP4\n"
     ]
    },
    {
     "name": "stderr",
     "output_type": "stream",
     "text": [
      "276it [00:50,  5.13it/s]"
     ]
    },
    {
     "name": "stdout",
     "output_type": "stream",
     "text": [
      "FPS: 29 C:\\Users\\jingy\\Parkinson\\NIHNX715KUVY8\\NIHNX715KUVY8\\Baseline Visit\\NIHNX715KUVY8_ON_2.MP4\n",
      "FPS: 29 C:\\Users\\jingy\\Parkinson\\NIHNX715KUVY8\\NIHNX715KUVY8\\Month 12\\OFF\\NIHNX715KUVY8_M12_GAIT_OFF.MP4\n"
     ]
    },
    {
     "name": "stderr",
     "output_type": "stream",
     "text": [
      "277it [00:50,  4.84it/s]"
     ]
    },
    {
     "name": "stdout",
     "output_type": "stream",
     "text": [
      "FPS: 29 C:\\Users\\jingy\\Parkinson\\NIHNX715KUVY8\\NIHNX715KUVY8\\Month 12\\OFF\\NIHNX715KUVY8_M12_GAIT_OFF.MP4\n",
      "FPS: 29 C:\\Users\\jingy\\Parkinson\\NIHNX715KUVY8\\NIHNX715KUVY8\\Month 12\\OFF\\NIHNX715KUVY8_M12_GAIT_OFF.MP4\n"
     ]
    },
    {
     "name": "stderr",
     "output_type": "stream",
     "text": [
      "279it [00:50,  5.30it/s]"
     ]
    },
    {
     "name": "stdout",
     "output_type": "stream",
     "text": [
      "FPS: 29 C:\\Users\\jingy\\Parkinson\\NIHNX715KUVY8\\NIHNX715KUVY8\\Month 12\\OFF\\NIHNX715KUVY8_M12_GAIT_OFF.MP4\n",
      "FPS: 29 C:\\Users\\jingy\\Parkinson\\NIHNX715KUVY8\\NIHNX715KUVY8\\Month 12\\OFF\\NIHNX715KUVY8_M12_GAIT_OFF.MP4\n",
      "FPS: 29 C:\\Users\\jingy\\Parkinson\\NIHNX715KUVY8\\NIHNX715KUVY8\\Month 12\\ON\\NIHNX715KUVY8_M12_GAIT_ON.MP4\n"
     ]
    },
    {
     "name": "stderr",
     "output_type": "stream",
     "text": [
      "281it [00:51,  5.75it/s]"
     ]
    },
    {
     "name": "stdout",
     "output_type": "stream",
     "text": [
      "FPS: 29 C:\\Users\\jingy\\Parkinson\\NIHNX715KUVY8\\NIHNX715KUVY8\\Month 12\\ON\\NIHNX715KUVY8_M12_GAIT_ON.MP4\n",
      "FPS: 29 C:\\Users\\jingy\\Parkinson\\NIHNX715KUVY8\\NIHNX715KUVY8\\Month 12\\ON\\NIHNX715KUVY8_M12_GAIT_ON.MP4\n",
      "FPS: 29 C:\\Users\\jingy\\Parkinson\\NIHPT334YGJLK\\Baseline\\NIHPT334YGJLK BL off pt 2.MP4\n"
     ]
    },
    {
     "name": "stderr",
     "output_type": "stream",
     "text": [
      "282it [00:51,  5.44it/s]"
     ]
    },
    {
     "name": "stdout",
     "output_type": "stream",
     "text": [
      "FPS: 29 C:\\Users\\jingy\\Parkinson\\NIHPT334YGJLK\\Baseline\\NIHPT334YGJLK BL off pt 2.MP4\n",
      "FPS: 29 C:\\Users\\jingy\\Parkinson\\NIHPT334YGJLK\\Baseline\\NIHPT334YGJLK BL off pt 2.MP4\n",
      "FPS: 29"
     ]
    },
    {
     "name": "stderr",
     "output_type": "stream",
     "text": [
      "284it [00:51,  6.15it/s]"
     ]
    },
    {
     "name": "stdout",
     "output_type": "stream",
     "text": [
      " C:\\Users\\jingy\\Parkinson\\NIHPT334YGJLK\\Baseline\\NIHPT334YGJLK BL off pt 2.MP4\n",
      "FPS: 29 C:\\Users\\jingy\\Parkinson\\NIHPT334YGJLK\\Baseline\\NIHPT334YGJLK BL off pt 2.MP4\n",
      "FPS: 29 C:\\Users\\jingy\\Parkinson\\NIHPT334YGJLK\\Baseline\\NIHPT334YGJLK BL on pt 2.MP4\n"
     ]
    },
    {
     "name": "stderr",
     "output_type": "stream",
     "text": [
      "285it [00:51,  5.60it/s]"
     ]
    },
    {
     "name": "stdout",
     "output_type": "stream",
     "text": [
      "FPS: 29 C:\\Users\\jingy\\Parkinson\\NIHPT334YGJLK\\Baseline\\NIHPT334YGJLK BL on pt 2.MP4\n",
      "FPS: 29 C:\\Users\\jingy\\Parkinson\\NIHPT334YGJLK\\Baseline\\NIHPT334YGJLK BL on pt 2.MP4\n"
     ]
    },
    {
     "name": "stderr",
     "output_type": "stream",
     "text": [
      "287it [00:52,  5.97it/s]"
     ]
    },
    {
     "name": "stdout",
     "output_type": "stream",
     "text": [
      "FPS: 29 C:\\Users\\jingy\\Parkinson\\NIHPT334YGJLK\\Baseline\\NIHPT334YGJLK BL on pt 2.MP4\n",
      "FPS: 29 C:\\Users\\jingy\\Parkinson\\NIHPT334YGJLK\\Baseline\\NIHPT334YGJLK BL on pt 2.MP4\n",
      "FPS: 29 C:\\Users\\jingy\\Parkinson\\NIHPT334YGJLK\\Month 12\\TUG & 10m OFF (11.17.21).MP4\n"
     ]
    },
    {
     "name": "stderr",
     "output_type": "stream",
     "text": [
      "288it [00:52,  5.30it/s]"
     ]
    },
    {
     "name": "stdout",
     "output_type": "stream",
     "text": [
      "FPS: 29 C:\\Users\\jingy\\Parkinson\\NIHPT334YGJLK\\Month 12\\TUG & 10m OFF (11.17.21).MP4\n",
      "FPS: 29 C:\\Users\\jingy\\Parkinson\\NIHPT334YGJLK\\Month 12\\TUG & 10m OFF (11.17.21).MP4\n"
     ]
    },
    {
     "name": "stderr",
     "output_type": "stream",
     "text": [
      "290it [00:52,  5.73it/s]"
     ]
    },
    {
     "name": "stdout",
     "output_type": "stream",
     "text": [
      "FPS: 29 C:\\Users\\jingy\\Parkinson\\NIHPT334YGJLK\\Month 12\\TUG & 10m OFF (11.17.21).MP4\n",
      "FPS: 29 C:\\Users\\jingy\\Parkinson\\NIHPT334YGJLK\\Month 12\\TUG & 10m OFF (11.17.21).MP4\n",
      "FPS: 29 C:\\Users\\jingy\\Parkinson\\NIHPV063ETJTZ\\Baseline\\Control Gait.MP4\n"
     ]
    },
    {
     "name": "stderr",
     "output_type": "stream",
     "text": [
      "291it [00:52,  5.61it/s]"
     ]
    },
    {
     "name": "stdout",
     "output_type": "stream",
     "text": [
      "FPS: 29 C:\\Users\\jingy\\Parkinson\\NIHPV063ETJTZ\\Baseline\\Control Gait.MP4\n",
      "FPS: 29 C:\\Users\\jingy\\Parkinson\\NIHPV063ETJTZ\\Baseline\\Control Gait.MP4\n"
     ]
    },
    {
     "name": "stderr",
     "output_type": "stream",
     "text": [
      "293it [00:53,  6.11it/s]"
     ]
    },
    {
     "name": "stdout",
     "output_type": "stream",
     "text": [
      "FPS: 29 C:\\Users\\jingy\\Parkinson\\NIHPV063ETJTZ\\Baseline\\Control Gait.MP4\n",
      "FPS: 29 C:\\Users\\jingy\\Parkinson\\NIHPV063ETJTZ\\Baseline\\Control Gait.MP4\n",
      "FPS: 29 C:\\Users\\jingy\\Parkinson\\NIHPV063ETJTZ\\Month 6\\Control Gait.MP4\n"
     ]
    },
    {
     "name": "stderr",
     "output_type": "stream",
     "text": [
      "294it [00:53,  5.68it/s]"
     ]
    },
    {
     "name": "stdout",
     "output_type": "stream",
     "text": [
      "FPS: 29 C:\\Users\\jingy\\Parkinson\\NIHPV063ETJTZ\\Month 6\\Control Gait.MP4\n",
      "FPS: 29 C:\\Users\\jingy\\Parkinson\\NIHPV063ETJTZ\\Month 6\\Control Gait.MP4\n"
     ]
    },
    {
     "name": "stderr",
     "output_type": "stream",
     "text": [
      "296it [00:53,  5.94it/s]"
     ]
    },
    {
     "name": "stdout",
     "output_type": "stream",
     "text": [
      "FPS: 29 C:\\Users\\jingy\\Parkinson\\NIHPV063ETJTZ\\Month 6\\Control Gait.MP4\n",
      "FPS: 29 C:\\Users\\jingy\\Parkinson\\NIHPV063ETJTZ\\Month 6\\Control Gait.MP4\n"
     ]
    },
    {
     "name": "stderr",
     "output_type": "stream",
     "text": [
      "298it [00:54,  6.34it/s]"
     ]
    },
    {
     "name": "stdout",
     "output_type": "stream",
     "text": [
      "FPS: 29 C:\\Users\\jingy\\Parkinson\\NIHPV063ETJTZ\\Month 12\\GAIT control.MTS\n",
      "FPS: 29 C:\\Users\\jingy\\Parkinson\\NIHPV063ETJTZ\\Month 12\\GAIT control.MTS\n",
      "FPS: 29 C:\\Users\\jingy\\Parkinson\\NIHPV063ETJTZ\\Month 12\\GAIT control.MTS\n"
     ]
    },
    {
     "name": "stderr",
     "output_type": "stream",
     "text": [
      "299it [00:54,  5.70it/s]"
     ]
    },
    {
     "name": "stdout",
     "output_type": "stream",
     "text": [
      "FPS: 29 C:\\Users\\jingy\\Parkinson\\NIHPW909HGTRQ\\Month 6\\MVI_1279.MP4\n",
      "FPS: 29 C:\\Users\\jingy\\Parkinson\\NIHPW909HGTRQ\\Month 6\\MVI_1279.MP4\n"
     ]
    },
    {
     "name": "stderr",
     "output_type": "stream",
     "text": [
      "300it [00:54,  5.32it/s]"
     ]
    },
    {
     "name": "stdout",
     "output_type": "stream",
     "text": [
      "FPS: 29 C:\\Users\\jingy\\Parkinson\\NIHPW909HGTRQ\\Month 6\\MVI_1279.MP4\n",
      "FPS: 29 C:\\Users\\jingy\\Parkinson\\NIHPW909HGTRQ\\Month 6\\MVI_1279.MP4\n"
     ]
    },
    {
     "name": "stderr",
     "output_type": "stream",
     "text": [
      "301it [00:54,  5.04it/s]"
     ]
    },
    {
     "name": "stdout",
     "output_type": "stream",
     "text": [
      "FPS: 29 C:\\Users\\jingy\\Parkinson\\NIHPW909HGTRQ\\Month 6\\MVI_1279.MP4\n",
      "FPS: 29 C:\\Users\\jingy\\Parkinson\\NIHPW909HGTRQ\\Month 6\\MVI_1279.MP4\n"
     ]
    },
    {
     "name": "stderr",
     "output_type": "stream",
     "text": [
      "302it [00:54,  5.89it/s]"
     ]
    },
    {
     "name": "stdout",
     "output_type": "stream",
     "text": [
      "FPS: 29 C:\\Users\\jingy\\Parkinson\\NIHPW909HGTRQ\\Month 6\\MVI_1279.MP4\n",
      "FPS: 29 C:\\Users\\jingy\\Parkinson\\NIHPW909HGTRQ\\Month 6\\MVI_1281.MP4\n"
     ]
    },
    {
     "name": "stderr",
     "output_type": "stream",
     "text": [
      "304it [00:55,  5.37it/s]"
     ]
    },
    {
     "name": "stdout",
     "output_type": "stream",
     "text": [
      "FPS: 29 C:\\Users\\jingy\\Parkinson\\NIHPW909HGTRQ\\Month 6\\MVI_1281.MP4\n",
      "FPS: 29 C:\\Users\\jingy\\Parkinson\\NIHPW909HGTRQ\\Month 6\\MVI_1281.MP4\n",
      "FPS: 29 C:\\Users\\jingy\\Parkinson\\NIHPW909HGTRQ\\Month 6\\MVI_1281.MP4\n"
     ]
    },
    {
     "name": "stderr",
     "output_type": "stream",
     "text": [
      "305it [00:55,  6.19it/s]"
     ]
    },
    {
     "name": "stdout",
     "output_type": "stream",
     "text": [
      "FPS: 29 C:\\Users\\jingy\\Parkinson\\NIHPW909HGTRQ\\Month 6\\MVI_1281.MP4\n",
      "FPS: 29 C:\\Users\\jingy\\Parkinson\\NIHPW909HGTRQ\\Month 12\\month 12 off 2.MP4\n"
     ]
    },
    {
     "name": "stderr",
     "output_type": "stream",
     "text": [
      "306it [00:55,  5.70it/s]"
     ]
    },
    {
     "name": "stdout",
     "output_type": "stream",
     "text": [
      "FPS: 29 C:\\Users\\jingy\\Parkinson\\NIHPW909HGTRQ\\Month 12\\month 12 off 2.MP4\n",
      "FPS: 29 C:\\Users\\jingy\\Parkinson\\NIHPW909HGTRQ\\Month 12\\month 12 off 2.MP4\n"
     ]
    },
    {
     "name": "stderr",
     "output_type": "stream",
     "text": [
      "307it [00:55,  5.42it/s]"
     ]
    },
    {
     "name": "stdout",
     "output_type": "stream",
     "text": [
      "FPS: 29 C:\\Users\\jingy\\Parkinson\\NIHPW909HGTRQ\\Month 12\\month 12 off 2.MP4\n",
      "FPS: 29 C:\\Users\\jingy\\Parkinson\\NIHPW909HGTRQ\\Month 12\\month 12 off 2.MP4\n"
     ]
    },
    {
     "name": "stderr",
     "output_type": "stream",
     "text": [
      "309it [00:56,  6.16it/s]"
     ]
    },
    {
     "name": "stdout",
     "output_type": "stream",
     "text": [
      "FPS: 29 C:\\Users\\jingy\\Parkinson\\NIHPW909HGTRQ\\Month 12\\month 12 off 2.MP4\n",
      "FPS: 29 C:\\Users\\jingy\\Parkinson\\NIHPW909HGTRQ\\Month 12\\month 12 off 2.MP4\n",
      "FPS: 29 C:\\Users\\jingy\\Parkinson\\NIHPW909HGTRQ\\Month 12\\month 12 on 2.MP4\n"
     ]
    },
    {
     "name": "stderr",
     "output_type": "stream",
     "text": [
      "310it [00:56,  5.66it/s]"
     ]
    },
    {
     "name": "stdout",
     "output_type": "stream",
     "text": [
      "FPS: 29 C:\\Users\\jingy\\Parkinson\\NIHPW909HGTRQ\\Month 12\\month 12 on 2.MP4\n",
      "FPS: 29 C:\\Users\\jingy\\Parkinson\\NIHPW909HGTRQ\\Month 12\\month 12 on 2.MP4\n",
      "FPS: 29"
     ]
    },
    {
     "name": "stderr",
     "output_type": "stream",
     "text": [
      "311it [00:56,  5.44it/s]"
     ]
    },
    {
     "name": "stdout",
     "output_type": "stream",
     "text": [
      " C:\\Users\\jingy\\Parkinson\\NIHPW909HGTRQ\\Month 12\\month 12 on 2.MP4\n",
      "FPS: 29 C:\\Users\\jingy\\Parkinson\\NIHPW909HGTRQ\\Month 12\\month 12 on 2.MP4\n",
      "FPS: 29 C:\\Users\\jingy\\Parkinson\\NIHPW909HGTRQ\\Month 24\\TUG & 10m OFF.MP4\n"
     ]
    },
    {
     "name": "stderr",
     "output_type": "stream",
     "text": [
      "313it [00:56,  6.06it/s]"
     ]
    },
    {
     "name": "stdout",
     "output_type": "stream",
     "text": [
      "FPS: 29 C:\\Users\\jingy\\Parkinson\\NIHPW909HGTRQ\\Month 24\\TUG & 10m OFF.MP4\n",
      "FPS: 29 C:\\Users\\jingy\\Parkinson\\NIHPW909HGTRQ\\Month 24\\TUG & 10m OFF.MP4\n"
     ]
    },
    {
     "name": "stderr",
     "output_type": "stream",
     "text": [
      "315it [00:57,  6.20it/s]"
     ]
    },
    {
     "name": "stdout",
     "output_type": "stream",
     "text": [
      "FPS: 29 C:\\Users\\jingy\\Parkinson\\NIHPW909HGTRQ\\Month 24\\TUG & 10m OFF.MP4\n",
      "FPS: 29 C:\\Users\\jingy\\Parkinson\\NIHPW909HGTRQ\\Month 24\\TUG & 10m OFF.MP4\n",
      "FPS: 29 C:\\Users\\jingy\\Parkinson\\NIHPW909HGTRQ\\Month 24\\TUG & 10m ON.MP4\n"
     ]
    },
    {
     "name": "stderr",
     "output_type": "stream",
     "text": [
      "316it [00:57,  5.79it/s]"
     ]
    },
    {
     "name": "stdout",
     "output_type": "stream",
     "text": [
      "FPS: 29 C:\\Users\\jingy\\Parkinson\\NIHPW909HGTRQ\\Month 24\\TUG & 10m ON.MP4\n",
      "FPS: 29 C:\\Users\\jingy\\Parkinson\\NIHPW909HGTRQ\\Month 24\\TUG & 10m ON.MP4\n"
     ]
    },
    {
     "name": "stderr",
     "output_type": "stream",
     "text": [
      "318it [00:57,  6.18it/s]"
     ]
    },
    {
     "name": "stdout",
     "output_type": "stream",
     "text": [
      "FPS: 29 C:\\Users\\jingy\\Parkinson\\NIHPW909HGTRQ\\Month 24\\TUG & 10m ON.MP4\n",
      "FPS: 29 C:\\Users\\jingy\\Parkinson\\NIHPW909HGTRQ\\Month 24\\TUG & 10m ON.MP4\n",
      "FPS: 29 C:\\Users\\jingy\\Parkinson\\NIHPX181CAEY6\\Baseline\\Control Gait.MP4\n"
     ]
    },
    {
     "name": "stderr",
     "output_type": "stream",
     "text": [
      "319it [00:57,  5.79it/s]"
     ]
    },
    {
     "name": "stdout",
     "output_type": "stream",
     "text": [
      "FPS: 29 C:\\Users\\jingy\\Parkinson\\NIHPX181CAEY6\\Baseline\\Control Gait.MP4\n",
      "FPS: 29 C:\\Users\\jingy\\Parkinson\\NIHPX181CAEY6\\Baseline\\Control Gait.MP4\n",
      "FPS: 29 C:\\Users\\jingy\\Parkinson\\NIHPX181CAEY6\\Month 6\\Control Gait.MP4\n"
     ]
    },
    {
     "name": "stderr",
     "output_type": "stream",
     "text": [
      "321it [00:58,  6.01it/s]"
     ]
    },
    {
     "name": "stdout",
     "output_type": "stream",
     "text": [
      "FPS: 29 C:\\Users\\jingy\\Parkinson\\NIHPX181CAEY6\\Month 6\\Control Gait.MP4\n",
      "FPS: 29 C:\\Users\\jingy\\Parkinson\\NIHPX181CAEY6\\Month 6\\Control Gait.MP4\n"
     ]
    },
    {
     "name": "stderr",
     "output_type": "stream",
     "text": [
      "323it [00:58,  6.27it/s]"
     ]
    },
    {
     "name": "stdout",
     "output_type": "stream",
     "text": [
      "FPS: 29 C:\\Users\\jingy\\Parkinson\\NIHPX181CAEY6\\Month 6\\Control Gait.MP4\n",
      "FPS: 29 C:\\Users\\jingy\\Parkinson\\NIHPX181CAEY6\\Month 6\\Control Gait.MP4\n",
      "FPS: 29 C:\\Users\\jingy\\Parkinson\\NIHRH896FYACQ\\Baseline\\NIHRH896FYACQ OFF pt2.MP4\n"
     ]
    },
    {
     "name": "stderr",
     "output_type": "stream",
     "text": [
      "324it [00:58,  6.00it/s]"
     ]
    },
    {
     "name": "stdout",
     "output_type": "stream",
     "text": [
      "FPS: 29 C:\\Users\\jingy\\Parkinson\\NIHRH896FYACQ\\Baseline\\NIHRH896FYACQ OFF pt2.MP4\n",
      "FPS: 29 C:\\Users\\jingy\\Parkinson\\NIHRH896FYACQ\\Baseline\\NIHRH896FYACQ OFF pt2.MP4\n"
     ]
    },
    {
     "name": "stderr",
     "output_type": "stream",
     "text": [
      "326it [00:59,  6.26it/s]"
     ]
    },
    {
     "name": "stdout",
     "output_type": "stream",
     "text": [
      "FPS: 29 C:\\Users\\jingy\\Parkinson\\NIHRH896FYACQ\\Baseline\\NIHRH896FYACQ OFF pt2.MP4\n",
      "FPS: 29 C:\\Users\\jingy\\Parkinson\\NIHRH896FYACQ\\Baseline\\NIHRH896FYACQ OFF pt2.MP4\n",
      "FPS: 29 C:\\Users\\jingy\\Parkinson\\NIHRH896FYACQ\\Baseline\\NIHRH896FYACQ ON pt2.MP4\n"
     ]
    },
    {
     "name": "stderr",
     "output_type": "stream",
     "text": [
      "327it [00:59,  5.80it/s]"
     ]
    },
    {
     "name": "stdout",
     "output_type": "stream",
     "text": [
      "FPS: 29 C:\\Users\\jingy\\Parkinson\\NIHRH896FYACQ\\Baseline\\NIHRH896FYACQ ON pt2.MP4\n",
      "FPS: 29 C:\\Users\\jingy\\Parkinson\\NIHRH896FYACQ\\Baseline\\NIHRH896FYACQ ON pt2.MP4\n",
      "FPS: 29 C:\\Users\\jingy\\Parkinson\\NIHRH896FYACQ\\Month 12\\OFF\\NIHRH896FYACQ_M12_GAIT_OFF.MP4\n"
     ]
    },
    {
     "name": "stderr",
     "output_type": "stream",
     "text": [
      "329it [00:59,  6.07it/s]"
     ]
    },
    {
     "name": "stdout",
     "output_type": "stream",
     "text": [
      "FPS: 29 C:\\Users\\jingy\\Parkinson\\NIHRH896FYACQ\\Month 12\\OFF\\NIHRH896FYACQ_M12_GAIT_OFF.MP4\n",
      "FPS: 29 C:\\Users\\jingy\\Parkinson\\NIHRH896FYACQ\\Month 12\\OFF\\NIHRH896FYACQ_M12_GAIT_OFF.MP4\n"
     ]
    },
    {
     "name": "stderr",
     "output_type": "stream",
     "text": [
      "331it [00:59,  6.35it/s]"
     ]
    },
    {
     "name": "stdout",
     "output_type": "stream",
     "text": [
      "FPS: 29 C:\\Users\\jingy\\Parkinson\\NIHRH896FYACQ\\Month 12\\OFF\\NIHRH896FYACQ_M12_GAIT_OFF.MP4\n",
      "FPS: 29 C:\\Users\\jingy\\Parkinson\\NIHRH896FYACQ\\Month 12\\OFF\\NIHRH896FYACQ_M12_GAIT_OFF.MP4\n",
      "FPS: 29 C:\\Users\\jingy\\Parkinson\\NIHRH896FYACQ\\Month 12\\ON\\NIHRH896FYACQ_M12_GAIT_ON.MP4\n"
     ]
    },
    {
     "name": "stderr",
     "output_type": "stream",
     "text": [
      "332it [01:00,  5.85it/s]"
     ]
    },
    {
     "name": "stdout",
     "output_type": "stream",
     "text": [
      "FPS: 29 C:\\Users\\jingy\\Parkinson\\NIHRH896FYACQ\\Month 12\\ON\\NIHRH896FYACQ_M12_GAIT_ON.MP4\n",
      "FPS: 29 C:\\Users\\jingy\\Parkinson\\NIHRH896FYACQ\\Month 12\\ON\\NIHRH896FYACQ_M12_GAIT_ON.MP4\n",
      "FPS:"
     ]
    },
    {
     "name": "stderr",
     "output_type": "stream",
     "text": [
      "333it [01:00,  5.53it/s]"
     ]
    },
    {
     "name": "stdout",
     "output_type": "stream",
     "text": [
      " 29 C:\\Users\\jingy\\Parkinson\\NIHRH896FYACQ\\Month 12\\ON\\NIHRH896FYACQ_M12_GAIT_ON.MP4\n",
      "FPS: 29 C:\\Users\\jingy\\Parkinson\\NIHRH896FYACQ\\Month 12\\ON\\NIHRH896FYACQ_M12_GAIT_ON.MP4\n",
      "FPS: 29 C:\\Users\\jingy\\Parkinson\\NIHRN569XFWML\\Baseline\\OFF Gait.MP4\n"
     ]
    },
    {
     "name": "stderr",
     "output_type": "stream",
     "text": [
      "335it [01:00,  5.95it/s]"
     ]
    },
    {
     "name": "stdout",
     "output_type": "stream",
     "text": [
      "FPS: 29 C:\\Users\\jingy\\Parkinson\\NIHRN569XFWML\\Baseline\\OFF Gait.MP4\n",
      "FPS: 29 C:\\Users\\jingy\\Parkinson\\NIHRN569XFWML\\Baseline\\OFF Gait.MP4\n",
      "FPS:"
     ]
    },
    {
     "name": "stderr",
     "output_type": "stream",
     "text": [
      "337it [01:00,  6.26it/s]"
     ]
    },
    {
     "name": "stdout",
     "output_type": "stream",
     "text": [
      " 29 C:\\Users\\jingy\\Parkinson\\NIHRN569XFWML\\Baseline\\OFF Gait.MP4\n",
      "FPS: 29 C:\\Users\\jingy\\Parkinson\\NIHRN569XFWML\\Baseline\\OFF Gait.MP4\n",
      "FPS: 29 C:\\Users\\jingy\\Parkinson\\NIHRN569XFWML\\Baseline\\ON Gait.MP4\n"
     ]
    },
    {
     "name": "stderr",
     "output_type": "stream",
     "text": [
      "338it [01:01,  5.79it/s]"
     ]
    },
    {
     "name": "stdout",
     "output_type": "stream",
     "text": [
      "FPS: 29 C:\\Users\\jingy\\Parkinson\\NIHRN569XFWML\\Baseline\\ON Gait.MP4\n",
      "FPS: 29 C:\\Users\\jingy\\Parkinson\\NIHRN569XFWML\\Baseline\\ON Gait.MP4\n"
     ]
    },
    {
     "name": "stderr",
     "output_type": "stream",
     "text": [
      "339it [01:01,  5.34it/s]"
     ]
    },
    {
     "name": "stdout",
     "output_type": "stream",
     "text": [
      "FPS: 29 C:\\Users\\jingy\\Parkinson\\NIHRN569XFWML\\Baseline\\ON Gait.MP4\n",
      "FPS: 29 C:\\Users\\jingy\\Parkinson\\NIHRN569XFWML\\Baseline\\ON Gait.MP4\n"
     ]
    },
    {
     "name": "stderr",
     "output_type": "stream",
     "text": [
      "340it [01:01,  5.09it/s]"
     ]
    },
    {
     "name": "stdout",
     "output_type": "stream",
     "text": [
      "FPS: 29 C:\\Users\\jingy\\Parkinson\\NIHRN569XFWML\\Baseline\\ON Gait.MP4\n",
      "FPS: 29 C:\\Users\\jingy\\Parkinson\\NIHTB510LUVAC\\NIHTB510LUVAC\\Baseline\\MVI_0008.MP4\n"
     ]
    },
    {
     "name": "stderr",
     "output_type": "stream",
     "text": [
      "342it [01:01,  5.76it/s]"
     ]
    },
    {
     "name": "stdout",
     "output_type": "stream",
     "text": [
      "FPS: 29 C:\\Users\\jingy\\Parkinson\\NIHTB510LUVAC\\NIHTB510LUVAC\\Baseline\\MVI_0008.MP4\n",
      "FPS: 29 C:\\Users\\jingy\\Parkinson\\NIHTB510LUVAC\\NIHTB510LUVAC\\Baseline\\MVI_0008.MP4\n",
      "FPS: 29 C:\\Users\\jingy\\Parkinson\\NIHTB510LUVAC\\NIHTB510LUVAC\\Baseline\\MVI_0010.MP4\n"
     ]
    },
    {
     "name": "stderr",
     "output_type": "stream",
     "text": [
      "344it [01:02,  5.81it/s]"
     ]
    },
    {
     "name": "stdout",
     "output_type": "stream",
     "text": [
      "FPS: 29 C:\\Users\\jingy\\Parkinson\\NIHTB510LUVAC\\NIHTB510LUVAC\\Baseline\\MVI_0010.MP4\n",
      "FPS: 29 C:\\Users\\jingy\\Parkinson\\NIHTB510LUVAC\\NIHTB510LUVAC\\Baseline\\MVI_0010.MP4\n",
      "FPS: 29 C:\\Users\\jingy\\Parkinson\\NIHTB510LUVAC\\NIHTB510LUVAC\\Month 6\\OFF\\NIHTB510LUVAC_M6_GAIT_OFF.MP4\n"
     ]
    },
    {
     "name": "stderr",
     "output_type": "stream",
     "text": [
      "345it [01:02,  5.46it/s]"
     ]
    },
    {
     "name": "stdout",
     "output_type": "stream",
     "text": [
      "FPS: 29 C:\\Users\\jingy\\Parkinson\\NIHTB510LUVAC\\NIHTB510LUVAC\\Month 6\\OFF\\NIHTB510LUVAC_M6_GAIT_OFF.MP4\n",
      "FPS: 29 C:\\Users\\jingy\\Parkinson\\NIHTB510LUVAC\\NIHTB510LUVAC\\Month 6\\OFF\\NIHTB510LUVAC_M6_GAIT_OFF.MP4\n",
      "FPS: 29 C:\\Users\\jingy\\Parkinson\\NIHTB510LUVAC\\NIHTB510LUVAC\\Month 6\\ON\\NIHTB510LUVAC_M6_GAIT_ON.MP4\n"
     ]
    },
    {
     "name": "stderr",
     "output_type": "stream",
     "text": [
      "348it [01:02,  6.56it/s]"
     ]
    },
    {
     "name": "stdout",
     "output_type": "stream",
     "text": [
      "FPS: 29 C:\\Users\\jingy\\Parkinson\\NIHTB510LUVAC\\NIHTB510LUVAC\\Month 6\\ON\\NIHTB510LUVAC_M6_GAIT_ON.MP4\n",
      "FPS: 29 C:\\Users\\jingy\\Parkinson\\NIHTB510LUVAC\\NIHTB510LUVAC\\Month 6\\ON\\NIHTB510LUVAC_M6_GAIT_ON.MP4\n",
      "FPS: 29 C:\\Users\\jingy\\Parkinson\\NIHTK278VZHYL\\Baseline\\OFF Gait.MP4\n"
     ]
    },
    {
     "name": "stderr",
     "output_type": "stream",
     "text": [
      "349it [01:03,  6.03it/s]"
     ]
    },
    {
     "name": "stdout",
     "output_type": "stream",
     "text": [
      "FPS: 29 C:\\Users\\jingy\\Parkinson\\NIHTK278VZHYL\\Baseline\\OFF Gait.MP4\n",
      "FPS: 29 C:\\Users\\jingy\\Parkinson\\NIHTK278VZHYL\\Baseline\\OFF Gait.MP4\n",
      "FPS:"
     ]
    },
    {
     "name": "stderr",
     "output_type": "stream",
     "text": [
      "351it [01:03,  6.45it/s]"
     ]
    },
    {
     "name": "stdout",
     "output_type": "stream",
     "text": [
      " 29 C:\\Users\\jingy\\Parkinson\\NIHTK278VZHYL\\Baseline\\OFF Gait.MP4\n",
      "FPS: 29 C:\\Users\\jingy\\Parkinson\\NIHTK278VZHYL\\Baseline\\OFF Gait.MP4\n",
      "FPS: 29 C:\\Users\\jingy\\Parkinson\\NIHTK278VZHYL\\Baseline\\ON Gait.MP4\n"
     ]
    },
    {
     "name": "stderr",
     "output_type": "stream",
     "text": [
      "352it [01:03,  6.05it/s]"
     ]
    },
    {
     "name": "stdout",
     "output_type": "stream",
     "text": [
      "FPS: 29 C:\\Users\\jingy\\Parkinson\\NIHTK278VZHYL\\Baseline\\ON Gait.MP4\n",
      "FPS: 29 C:\\Users\\jingy\\Parkinson\\NIHTK278VZHYL\\Baseline\\ON Gait.MP4\n"
     ]
    },
    {
     "name": "stderr",
     "output_type": "stream",
     "text": [
      "353it [01:03,  5.64it/s]"
     ]
    },
    {
     "name": "stdout",
     "output_type": "stream",
     "text": [
      "FPS: 29 C:\\Users\\jingy\\Parkinson\\NIHTK278VZHYL\\Baseline\\ON Gait.MP4\n",
      "FPS: 29 C:\\Users\\jingy\\Parkinson\\NIHTK278VZHYL\\Month 12\\Month 12 OFF pt 2.MP4\n"
     ]
    },
    {
     "name": "stderr",
     "output_type": "stream",
     "text": [
      "354it [01:03,  5.41it/s]"
     ]
    },
    {
     "name": "stdout",
     "output_type": "stream",
     "text": [
      "FPS: 29 C:\\Users\\jingy\\Parkinson\\NIHTK278VZHYL\\Month 12\\Month 12 OFF pt 2.MP4\n",
      "FPS: 29 C:\\Users\\jingy\\Parkinson\\NIHTK278VZHYL\\Month 12\\Month 12 OFF pt 2.MP4\n",
      "FPS: 29 C:\\Users\\jingy\\Parkinson\\NIHTK278VZHYL\\Month 12\\Month 12 ON pt 2.MP4\n"
     ]
    },
    {
     "name": "stderr",
     "output_type": "stream",
     "text": [
      "357it [01:04,  6.58it/s]"
     ]
    },
    {
     "name": "stdout",
     "output_type": "stream",
     "text": [
      "FPS: 29 C:\\Users\\jingy\\Parkinson\\NIHTK278VZHYL\\Month 12\\Month 12 ON pt 2.MP4\n",
      "FPS: 29 C:\\Users\\jingy\\Parkinson\\NIHTK278VZHYL\\Month 12\\Month 12 ON pt 2.MP4\n",
      "FPS: 29 C:\\Users\\jingy\\Parkinson\\NIHTK278VZHYL\\Month 24\\OFF\\NIHTK278VZHYL Gait OFF.MP4\n"
     ]
    },
    {
     "name": "stderr",
     "output_type": "stream",
     "text": [
      "358it [01:04,  6.21it/s]"
     ]
    },
    {
     "name": "stdout",
     "output_type": "stream",
     "text": [
      "FPS: 29 C:\\Users\\jingy\\Parkinson\\NIHTK278VZHYL\\Month 24\\OFF\\NIHTK278VZHYL Gait OFF.MP4\n",
      "FPS: 29 C:\\Users\\jingy\\Parkinson\\NIHTK278VZHYL\\Month 24\\OFF\\NIHTK278VZHYL Gait OFF.MP4\n",
      "FPS: "
     ]
    },
    {
     "name": "stderr",
     "output_type": "stream",
     "text": [
      "360it [01:04,  6.51it/s]"
     ]
    },
    {
     "name": "stdout",
     "output_type": "stream",
     "text": [
      "29 C:\\Users\\jingy\\Parkinson\\NIHTK278VZHYL\\Month 24\\OFF\\NIHTK278VZHYL Gait OFF.MP4\n",
      "FPS: 29 C:\\Users\\jingy\\Parkinson\\NIHTK278VZHYL\\Month 24\\OFF\\NIHTK278VZHYL Gait OFF.MP4\n",
      "FPS: 29 C:\\Users\\jingy\\Parkinson\\NIHTK278VZHYL\\Month 24\\ON\\NIHTK278VZHYL Gait ON .MP4\n"
     ]
    },
    {
     "name": "stderr",
     "output_type": "stream",
     "text": [
      "361it [01:05,  6.07it/s]"
     ]
    },
    {
     "name": "stdout",
     "output_type": "stream",
     "text": [
      "FPS: 29 C:\\Users\\jingy\\Parkinson\\NIHTK278VZHYL\\Month 24\\ON\\NIHTK278VZHYL Gait ON .MP4\n",
      "FPS: 29 C:\\Users\\jingy\\Parkinson\\NIHTK278VZHYL\\Month 24\\ON\\NIHTK278VZHYL Gait ON .MP4\n"
     ]
    },
    {
     "name": "stderr",
     "output_type": "stream",
     "text": [
      "362it [01:05,  5.55it/s]"
     ]
    },
    {
     "name": "stdout",
     "output_type": "stream",
     "text": [
      "FPS: 29 C:\\Users\\jingy\\Parkinson\\NIHTK278VZHYL\\Month 24\\ON\\NIHTK278VZHYL Gait ON .MP4\n",
      "FPS: 29 C:\\Users\\jingy\\Parkinson\\NIHTK278VZHYL\\Month 24\\ON\\NIHTK278VZHYL Gait ON .MP4\n",
      "FPS:"
     ]
    },
    {
     "name": "stderr",
     "output_type": "stream",
     "text": [
      "363it [01:05,  5.40it/s]"
     ]
    },
    {
     "name": "stdout",
     "output_type": "stream",
     "text": [
      " 29 C:\\Users\\jingy\\Parkinson\\NIHTK278VZHYL\\Month 24\\ON\\NIHTK278VZHYL Gait ON .MP4\n",
      "FPS: 29 C:\\Users\\jingy\\Parkinson\\NIHUA375VALXQ\\Baseline\\MVI_1286 OFF.MP4\n"
     ]
    },
    {
     "name": "stderr",
     "output_type": "stream",
     "text": [
      "365it [01:05,  5.10it/s]"
     ]
    },
    {
     "name": "stdout",
     "output_type": "stream",
     "text": [
      "FPS: 29 C:\\Users\\jingy\\Parkinson\\NIHUA375VALXQ\\Baseline\\MVI_1286 OFF.MP4\n",
      "FPS: 29 C:\\Users\\jingy\\Parkinson\\NIHUA375VALXQ\\Baseline\\MVI_1286 OFF.MP4\n",
      "FPS: 29 C:\\Users\\jingy\\Parkinson\\NIHUA375VALXQ\\Baseline\\MVI_1286 OFF.MP4\n"
     ]
    },
    {
     "name": "stderr",
     "output_type": "stream",
     "text": [
      "366it [01:06,  5.04it/s]"
     ]
    },
    {
     "name": "stdout",
     "output_type": "stream",
     "text": [
      "FPS: 29 C:\\Users\\jingy\\Parkinson\\NIHUA375VALXQ\\Baseline\\MVI_1286 OFF.MP4\n",
      "FPS: 29 C:\\Users\\jingy\\Parkinson\\NIHUA375VALXQ\\Baseline\\MVI_1286 OFF.MP4\n",
      "FPS:"
     ]
    },
    {
     "name": "stderr",
     "output_type": "stream",
     "text": [
      "367it [01:06,  5.82it/s]"
     ]
    },
    {
     "name": "stdout",
     "output_type": "stream",
     "text": [
      " 29 C:\\Users\\jingy\\Parkinson\\NIHUA375VALXQ\\Baseline\\MVI_1286 OFF.MP4\n",
      "FPS: 29 C:\\Users\\jingy\\Parkinson\\NIHUA375VALXQ\\Baseline\\MVI_1288 ON.MP4\n"
     ]
    },
    {
     "name": "stderr",
     "output_type": "stream",
     "text": [
      "368it [01:06,  5.47it/s]"
     ]
    },
    {
     "name": "stdout",
     "output_type": "stream",
     "text": [
      "FPS: 29 C:\\Users\\jingy\\Parkinson\\NIHUA375VALXQ\\Baseline\\MVI_1288 ON.MP4\n",
      "FPS: 29 C:\\Users\\jingy\\Parkinson\\NIHUA375VALXQ\\Baseline\\MVI_1288 ON.MP4\n"
     ]
    },
    {
     "name": "stderr",
     "output_type": "stream",
     "text": [
      "369it [01:06,  5.22it/s]"
     ]
    },
    {
     "name": "stdout",
     "output_type": "stream",
     "text": [
      "FPS: 29 C:\\Users\\jingy\\Parkinson\\NIHUA375VALXQ\\Baseline\\MVI_1288 ON.MP4\n",
      "FPS: 29 C:\\Users\\jingy\\Parkinson\\NIHUA375VALXQ\\Baseline\\MVI_1288 ON.MP4\n"
     ]
    },
    {
     "name": "stderr",
     "output_type": "stream",
     "text": [
      "371it [01:06,  5.82it/s]"
     ]
    },
    {
     "name": "stdout",
     "output_type": "stream",
     "text": [
      "FPS: 29 C:\\Users\\jingy\\Parkinson\\NIHUA375VALXQ\\Baseline\\MVI_1288 ON.MP4\n",
      "FPS: 29 C:\\Users\\jingy\\Parkinson\\NIHUA375VALXQ\\Baseline\\MVI_1288 ON.MP4\n",
      "FPS: 29 C:\\Users\\jingy\\Parkinson\\NIHUA375VALXQ\\Month 12\\OFF gait.MP4\n"
     ]
    },
    {
     "name": "stderr",
     "output_type": "stream",
     "text": [
      "372it [01:07,  5.40it/s]"
     ]
    },
    {
     "name": "stdout",
     "output_type": "stream",
     "text": [
      "FPS: 29 C:\\Users\\jingy\\Parkinson\\NIHUA375VALXQ\\Month 12\\OFF gait.MP4\n",
      "FPS: 29 C:\\Users\\jingy\\Parkinson\\NIHUA375VALXQ\\Month 12\\OFF gait.MP4\n"
     ]
    },
    {
     "name": "stderr",
     "output_type": "stream",
     "text": [
      "374it [01:07,  5.90it/s]"
     ]
    },
    {
     "name": "stdout",
     "output_type": "stream",
     "text": [
      "FPS: 29 C:\\Users\\jingy\\Parkinson\\NIHUA375VALXQ\\Month 12\\OFF gait.MP4\n",
      "FPS: 29 C:\\Users\\jingy\\Parkinson\\NIHUA375VALXQ\\Month 12\\OFF gait.MP4\n",
      "FPS: 29 C:\\Users\\jingy\\Parkinson\\NIHUA375VALXQ\\Month 12\\ON updrs.MP4\n"
     ]
    },
    {
     "name": "stderr",
     "output_type": "stream",
     "text": [
      "375it [01:07,  5.49it/s]"
     ]
    },
    {
     "name": "stdout",
     "output_type": "stream",
     "text": [
      "FPS: 29 C:\\Users\\jingy\\Parkinson\\NIHUA375VALXQ\\Month 12\\ON updrs.MP4\n",
      "FPS: 29 C:\\Users\\jingy\\Parkinson\\NIHUA375VALXQ\\Month 12\\ON updrs.MP4\n",
      "FPS: "
     ]
    },
    {
     "name": "stderr",
     "output_type": "stream",
     "text": [
      "377it [01:07,  6.15it/s]"
     ]
    },
    {
     "name": "stdout",
     "output_type": "stream",
     "text": [
      "29 C:\\Users\\jingy\\Parkinson\\NIHUA375VALXQ\\Month 12\\ON updrs.MP4\n",
      "FPS: 29 C:\\Users\\jingy\\Parkinson\\NIHUA375VALXQ\\Month 12\\ON updrs.MP4\n",
      "FPS: 29 C:\\Users\\jingy\\Parkinson\\NIHUC184AEEEC\\Baseline\\OFF Gait.MP4\n"
     ]
    },
    {
     "name": "stderr",
     "output_type": "stream",
     "text": [
      "379it [01:08,  5.70it/s]"
     ]
    },
    {
     "name": "stdout",
     "output_type": "stream",
     "text": [
      "FPS: 29 C:\\Users\\jingy\\Parkinson\\NIHUC184AEEEC\\Baseline\\OFF Gait.MP4\n",
      "FPS: 29 C:\\Users\\jingy\\Parkinson\\NIHUC184AEEEC\\Baseline\\OFF Gait.MP4\n",
      "FPS:"
     ]
    },
    {
     "name": "stderr",
     "output_type": "stream",
     "text": [
      "380it [01:08,  5.08it/s]"
     ]
    },
    {
     "name": "stdout",
     "output_type": "stream",
     "text": [
      " 29 C:\\Users\\jingy\\Parkinson\\NIHUC184AEEEC\\Baseline\\ON Gait.MP4\n",
      "FPS: 29 C:\\Users\\jingy\\Parkinson\\NIHUC184AEEEC\\Baseline\\ON Gait.MP4\n"
     ]
    },
    {
     "name": "stderr",
     "output_type": "stream",
     "text": [
      "381it [01:08,  5.91it/s]"
     ]
    },
    {
     "name": "stdout",
     "output_type": "stream",
     "text": [
      "FPS: 29 C:\\Users\\jingy\\Parkinson\\NIHUC184AEEEC\\Baseline\\ON Gait.MP4\n",
      "FPS: 29 C:\\Users\\jingy\\Parkinson\\NIHUV761CUMML\\Baseline\\OFF pt 2.MP4\n"
     ]
    },
    {
     "name": "stderr",
     "output_type": "stream",
     "text": [
      "382it [01:08,  5.56it/s]"
     ]
    },
    {
     "name": "stdout",
     "output_type": "stream",
     "text": [
      "FPS: 29 C:\\Users\\jingy\\Parkinson\\NIHUV761CUMML\\Baseline\\OFF pt 2.MP4\n",
      "FPS: 29 C:\\Users\\jingy\\Parkinson\\NIHUV761CUMML\\Baseline\\OFF pt 2.MP4\n",
      "FPS: 29 C:\\Users\\jingy\\Parkinson\\NIHUV761CUMML\\Baseline\\ON pt 2.MP4\n"
     ]
    },
    {
     "name": "stderr",
     "output_type": "stream",
     "text": [
      "385it [01:09,  6.58it/s]"
     ]
    },
    {
     "name": "stdout",
     "output_type": "stream",
     "text": [
      "FPS: 29 C:\\Users\\jingy\\Parkinson\\NIHUV761CUMML\\Baseline\\ON pt 2.MP4\n",
      "FPS: 29 C:\\Users\\jingy\\Parkinson\\NIHUV761CUMML\\Baseline\\ON pt 2.MP4\n",
      "FPS: 29 C:\\Users\\jingy\\Parkinson\\NIHVG994RHTE8\\Baseline\\GAIT OFF.MP4\n"
     ]
    },
    {
     "name": "stderr",
     "output_type": "stream",
     "text": [
      "386it [01:09,  5.95it/s]"
     ]
    },
    {
     "name": "stdout",
     "output_type": "stream",
     "text": [
      "FPS: 29 C:\\Users\\jingy\\Parkinson\\NIHVG994RHTE8\\Baseline\\GAIT OFF.MP4\n",
      "FPS: 29 C:\\Users\\jingy\\Parkinson\\NIHVG994RHTE8\\Baseline\\GAIT OFF.MP4\n",
      "FPS:"
     ]
    },
    {
     "name": "stderr",
     "output_type": "stream",
     "text": [
      "388it [01:09,  6.41it/s]"
     ]
    },
    {
     "name": "stdout",
     "output_type": "stream",
     "text": [
      " 29 C:\\Users\\jingy\\Parkinson\\NIHVG994RHTE8\\Baseline\\GAIT OFF.MP4\n",
      "FPS: 29 C:\\Users\\jingy\\Parkinson\\NIHVG994RHTE8\\Baseline\\GAIT OFF.MP4\n",
      "FPS: 29 C:\\Users\\jingy\\Parkinson\\NIHVG994RHTE8\\Baseline\\GAIT ON.MP4\n"
     ]
    },
    {
     "name": "stderr",
     "output_type": "stream",
     "text": [
      "389it [01:10,  5.95it/s]"
     ]
    },
    {
     "name": "stdout",
     "output_type": "stream",
     "text": [
      "FPS: 29 C:\\Users\\jingy\\Parkinson\\NIHVG994RHTE8\\Baseline\\GAIT ON.MP4\n",
      "FPS: 29 C:\\Users\\jingy\\Parkinson\\NIHVG994RHTE8\\Baseline\\GAIT ON.MP4\n"
     ]
    },
    {
     "name": "stderr",
     "output_type": "stream",
     "text": [
      "391it [01:10,  6.19it/s]"
     ]
    },
    {
     "name": "stdout",
     "output_type": "stream",
     "text": [
      "FPS: 29 C:\\Users\\jingy\\Parkinson\\NIHVG994RHTE8\\Baseline\\GAIT ON.MP4\n",
      "FPS: 29 C:\\Users\\jingy\\Parkinson\\NIHVG994RHTE8\\Baseline\\GAIT ON.MP4\n",
      "FPS: 29 C:\\Users\\jingy\\Parkinson\\NIHVJ344PHVFH\\Baseline Visit\\NIHVJ344PHVFH_OFF_2.MP4\n"
     ]
    },
    {
     "name": "stderr",
     "output_type": "stream",
     "text": [
      "393it [01:10,  6.47it/s]"
     ]
    },
    {
     "name": "stdout",
     "output_type": "stream",
     "text": [
      "FPS: 29 C:\\Users\\jingy\\Parkinson\\NIHVJ344PHVFH\\Baseline Visit\\NIHVJ344PHVFH_OFF_2.MP4\n",
      "FPS: 29 C:\\Users\\jingy\\Parkinson\\NIHVJ344PHVFH\\Baseline Visit\\NIHVJ344PHVFH_OFF_2.MP4\n",
      "FPS: 29 C:\\Users\\jingy\\Parkinson\\NIHVJ344PHVFH\\Baseline Visit\\NIHVJ344PHVFH_ON_2.MP4\n"
     ]
    },
    {
     "name": "stderr",
     "output_type": "stream",
     "text": [
      "395it [01:11,  6.61it/s]"
     ]
    },
    {
     "name": "stdout",
     "output_type": "stream",
     "text": [
      "FPS: 29 C:\\Users\\jingy\\Parkinson\\NIHVJ344PHVFH\\Baseline Visit\\NIHVJ344PHVFH_ON_2.MP4\n",
      "FPS: 29 C:\\Users\\jingy\\Parkinson\\NIHVJ344PHVFH\\Baseline Visit\\NIHVJ344PHVFH_ON_2.MP4\n",
      "FPS: 29 C:\\Users\\jingy\\Parkinson\\NIHVX123BYXTQ\\Baseline\\Control Gait.MP4\n"
     ]
    },
    {
     "name": "stderr",
     "output_type": "stream",
     "text": [
      "397it [01:11,  6.71it/s]"
     ]
    },
    {
     "name": "stdout",
     "output_type": "stream",
     "text": [
      "FPS: 29 C:\\Users\\jingy\\Parkinson\\NIHVX123BYXTQ\\Baseline\\Control Gait.MP4\n",
      "FPS: 29 C:\\Users\\jingy\\Parkinson\\NIHVX123BYXTQ\\Baseline\\Control Gait.MP4\n",
      "FPS: 29 C:\\Users\\jingy\\Parkinson\\NIHWG538AYTAK\\Baseline\\OFF pt2.MP4\n"
     ]
    },
    {
     "name": "stderr",
     "output_type": "stream",
     "text": [
      "398it [01:11,  6.03it/s]"
     ]
    },
    {
     "name": "stdout",
     "output_type": "stream",
     "text": [
      "FPS: 29 C:\\Users\\jingy\\Parkinson\\NIHWG538AYTAK\\Baseline\\OFF pt2.MP4\n",
      "FPS: 29 C:\\Users\\jingy\\Parkinson\\NIHWG538AYTAK\\Baseline\\OFF pt2.MP4\n"
     ]
    },
    {
     "name": "stderr",
     "output_type": "stream",
     "text": [
      "400it [01:11,  6.42it/s]"
     ]
    },
    {
     "name": "stdout",
     "output_type": "stream",
     "text": [
      "FPS: 29 C:\\Users\\jingy\\Parkinson\\NIHWG538AYTAK\\Baseline\\OFF pt2.MP4\n",
      "FPS: 29 C:\\Users\\jingy\\Parkinson\\NIHWG538AYTAK\\Baseline\\OFF pt2.MP4\n",
      "FPS: 29 C:\\Users\\jingy\\Parkinson\\NIHWG538AYTAK\\Baseline\\ON pt2.MP4\n"
     ]
    },
    {
     "name": "stderr",
     "output_type": "stream",
     "text": [
      "401it [01:12,  5.85it/s]"
     ]
    },
    {
     "name": "stdout",
     "output_type": "stream",
     "text": [
      "FPS: 29 C:\\Users\\jingy\\Parkinson\\NIHWG538AYTAK\\Baseline\\ON pt2.MP4\n",
      "FPS: 29 C:\\Users\\jingy\\Parkinson\\NIHWG538AYTAK\\Baseline\\ON pt2.MP4\n",
      "FPS:"
     ]
    },
    {
     "name": "stderr",
     "output_type": "stream",
     "text": [
      "404it [01:12,  7.08it/s]"
     ]
    },
    {
     "name": "stdout",
     "output_type": "stream",
     "text": [
      " 29 C:\\Users\\jingy\\Parkinson\\NIHWG538AYTAK\\Baseline\\ON pt2.MP4\n",
      "FPS: 29 C:\\Users\\jingy\\Parkinson\\NIHWG538AYTAK\\Baseline\\ON pt2.MP4\n",
      "FPS: 29 C:\\Users\\jingy\\Parkinson\\NIHWG538AYTAK\\Month 6\\gait.MP4\n"
     ]
    },
    {
     "name": "stderr",
     "output_type": "stream",
     "text": [
      "405it [01:12,  6.32it/s]"
     ]
    },
    {
     "name": "stdout",
     "output_type": "stream",
     "text": [
      "FPS: 29 C:\\Users\\jingy\\Parkinson\\NIHWR605ZHTE7\\Baseline (Time stamp is 1 hour ahead)\\OFF Gait.MP4\n",
      "FPS: 29 C:\\Users\\jingy\\Parkinson\\NIHWR605ZHTE7\\Baseline (Time stamp is 1 hour ahead)\\OFF Gait.MP4\n",
      "FPS: 29 C:\\Users\\jingy\\Parkinson\\NIHWR605ZHTE7\\Baseline (Time stamp is 1 hour ahead)\\OFF Gait.MP4\n"
     ]
    },
    {
     "name": "stderr",
     "output_type": "stream",
     "text": [
      "406it [01:12,  5.84it/s]"
     ]
    },
    {
     "name": "stdout",
     "output_type": "stream",
     "text": [
      "FPS: 29 C:\\Users\\jingy\\Parkinson\\NIHWR605ZHTE7\\Baseline (Time stamp is 1 hour ahead)\\OFF Gait.MP4\n",
      "FPS:"
     ]
    },
    {
     "name": "stderr",
     "output_type": "stream",
     "text": [
      "407it [01:12,  6.66it/s]"
     ]
    },
    {
     "name": "stdout",
     "output_type": "stream",
     "text": [
      " 29 C:\\Users\\jingy\\Parkinson\\NIHWR605ZHTE7\\Baseline (Time stamp is 1 hour ahead)\\OFF Gait.MP4\n",
      "FPS: 29 C:\\Users\\jingy\\Parkinson\\NIHWR605ZHTE7\\Baseline (Time stamp is 1 hour ahead)\\ON Gait.MP4\n"
     ]
    },
    {
     "name": "stderr",
     "output_type": "stream",
     "text": [
      "408it [01:13,  6.02it/s]"
     ]
    },
    {
     "name": "stdout",
     "output_type": "stream",
     "text": [
      "FPS: 29 C:\\Users\\jingy\\Parkinson\\NIHWR605ZHTE7\\Baseline (Time stamp is 1 hour ahead)\\ON Gait.MP4\n",
      "FPS: 29 C:\\Users\\jingy\\Parkinson\\NIHWR605ZHTE7\\Baseline (Time stamp is 1 hour ahead)\\ON Gait.MP4\n"
     ]
    },
    {
     "name": "stderr",
     "output_type": "stream",
     "text": [
      "410it [01:13,  6.20it/s]"
     ]
    },
    {
     "name": "stdout",
     "output_type": "stream",
     "text": [
      "FPS: 29 C:\\Users\\jingy\\Parkinson\\NIHWR605ZHTE7\\Baseline (Time stamp is 1 hour ahead)\\ON Gait.MP4\n",
      "FPS: 29 C:\\Users\\jingy\\Parkinson\\NIHWR605ZHTE7\\Baseline (Time stamp is 1 hour ahead)\\ON Gait.MP4\n",
      "FPS: 29 C:\\Users\\jingy\\Parkinson\\NIHWR605ZHTE7\\12 Month\\OFF gait.MP4\n"
     ]
    },
    {
     "name": "stderr",
     "output_type": "stream",
     "text": [
      "411it [01:13,  5.72it/s]"
     ]
    },
    {
     "name": "stdout",
     "output_type": "stream",
     "text": [
      "FPS: 29 C:\\Users\\jingy\\Parkinson\\NIHWR605ZHTE7\\12 Month\\OFF gait.MP4\n",
      "FPS: 29 C:\\Users\\jingy\\Parkinson\\NIHWR605ZHTE7\\12 Month\\OFF gait.MP4\n",
      "FPS:"
     ]
    },
    {
     "name": "stderr",
     "output_type": "stream",
     "text": [
      "412it [01:13,  5.44it/s]"
     ]
    },
    {
     "name": "stdout",
     "output_type": "stream",
     "text": [
      " 29 C:\\Users\\jingy\\Parkinson\\NIHWR605ZHTE7\\12 Month\\OFF gait.MP4\n",
      "FPS: 29 C:\\Users\\jingy\\Parkinson\\NIHWR605ZHTE7\\12 Month\\OFF gait.MP4\n",
      "FPS:"
     ]
    },
    {
     "name": "stderr",
     "output_type": "stream",
     "text": [
      "414it [01:14,  6.16it/s]"
     ]
    },
    {
     "name": "stdout",
     "output_type": "stream",
     "text": [
      " 29 C:\\Users\\jingy\\Parkinson\\NIHWR605ZHTE7\\12 Month\\OFF gait.MP4\n",
      "FPS: 29 C:\\Users\\jingy\\Parkinson\\NIHWR605ZHTE7\\12 Month\\OFF gait.MP4\n",
      "FPS: 29 C:\\Users\\jingy\\Parkinson\\NIHWR605ZHTE7\\12 Month\\ON gait.MP4\n"
     ]
    },
    {
     "name": "stderr",
     "output_type": "stream",
     "text": [
      "416it [01:14,  6.59it/s]"
     ]
    },
    {
     "name": "stdout",
     "output_type": "stream",
     "text": [
      "FPS: 29 C:\\Users\\jingy\\Parkinson\\NIHWR605ZHTE7\\12 Month\\ON gait.MP4\n",
      "FPS: 29 C:\\Users\\jingy\\Parkinson\\NIHWR605ZHTE7\\12 Month\\ON gait.MP4\n",
      "FPS: 29 C:\\Users\\jingy\\Parkinson\\NIHWR605ZHTE7\\Month 24\\OFF\\TUG & 10m.MP4\n",
      "FPS: 29 C:\\Users\\jingy\\Parkinson\\NIHWR605ZHTE7\\Month 24\\OFF\\TUG & 10m.MP4\n",
      "FPS:"
     ]
    },
    {
     "name": "stderr",
     "output_type": "stream",
     "text": [
      "418it [01:14,  6.68it/s]"
     ]
    },
    {
     "name": "stdout",
     "output_type": "stream",
     "text": [
      " 29 C:\\Users\\jingy\\Parkinson\\NIHWR605ZHTE7\\Month 24\\OFF\\TUG & 10m.MP4\n",
      "FPS: 29 C:\\Users\\jingy\\Parkinson\\NIHWR605ZHTE7\\Month 24\\OFF\\TUG & 10m.MP4\n",
      "FPS: 29 C:\\Users\\jingy\\Parkinson\\NIHWR605ZHTE7\\Month 24\\OFF\\TUG & 10m.MP4\n"
     ]
    },
    {
     "name": "stderr",
     "output_type": "stream",
     "text": [
      "421it [01:15,  7.41it/s]"
     ]
    },
    {
     "name": "stdout",
     "output_type": "stream",
     "text": [
      "FPS: 29 C:\\Users\\jingy\\Parkinson\\NIHWR605ZHTE7\\Month 24\\OFF\\TUG & 10m.MP4\n",
      "FPS: 29 C:\\Users\\jingy\\Parkinson\\NIHWR605ZHTE7\\Month 24\\ON\\TUG & 10m.MP4\n",
      "FPS:"
     ]
    },
    {
     "name": "stderr",
     "output_type": "stream",
     "text": [
      "422it [01:15,  6.44it/s]"
     ]
    },
    {
     "name": "stdout",
     "output_type": "stream",
     "text": [
      " 29 C:\\Users\\jingy\\Parkinson\\NIHWR605ZHTE7\\Month 24\\ON\\TUG & 10m.MP4\n",
      "FPS: 29 C:\\Users\\jingy\\Parkinson\\NIHWR605ZHTE7\\Month 24\\ON\\TUG & 10m.MP4\n",
      "FPS:"
     ]
    },
    {
     "name": "stderr",
     "output_type": "stream",
     "text": [
      "423it [01:15,  5.91it/s]"
     ]
    },
    {
     "name": "stdout",
     "output_type": "stream",
     "text": [
      " 29 C:\\Users\\jingy\\Parkinson\\NIHWR605ZHTE7\\Month 24\\ON\\TUG & 10m.MP4\n",
      "FPS: 29 C:\\Users\\jingy\\Parkinson\\NIHWR605ZHTE7\\Month 24\\ON\\TUG & 10m.MP4\n"
     ]
    },
    {
     "name": "stderr",
     "output_type": "stream",
     "text": [
      "424it [01:15,  6.65it/s]"
     ]
    },
    {
     "name": "stdout",
     "output_type": "stream",
     "text": [
      "FPS: 29 C:\\Users\\jingy\\Parkinson\\NIHWR605ZHTE7\\Month 24\\ON\\TUG & 10m.MP4\n",
      "FPS: 29 C:\\Users\\jingy\\Parkinson\\NIHXN551LBFMK\\Baseline\\OFF Gait.MP4\n"
     ]
    },
    {
     "name": "stderr",
     "output_type": "stream",
     "text": [
      "425it [01:15,  6.06it/s]"
     ]
    },
    {
     "name": "stdout",
     "output_type": "stream",
     "text": [
      "FPS: 29 C:\\Users\\jingy\\Parkinson\\NIHXN551LBFMK\\Baseline\\OFF Gait.MP4\n",
      "FPS: 29 C:\\Users\\jingy\\Parkinson\\NIHXN551LBFMK\\Baseline\\OFF Gait.MP4\n"
     ]
    },
    {
     "name": "stderr",
     "output_type": "stream",
     "text": [
      "427it [01:16,  6.37it/s]"
     ]
    },
    {
     "name": "stdout",
     "output_type": "stream",
     "text": [
      "FPS: 29 C:\\Users\\jingy\\Parkinson\\NIHXN551LBFMK\\Baseline\\OFF Gait.MP4\n",
      "FPS: 29 C:\\Users\\jingy\\Parkinson\\NIHXN551LBFMK\\Baseline\\OFF Gait.MP4\n",
      "FPS: 29 C:\\Users\\jingy\\Parkinson\\NIHXN551LBFMK\\Baseline\\ON Gait.MP4\n"
     ]
    },
    {
     "name": "stderr",
     "output_type": "stream",
     "text": [
      "428it [01:16,  5.95it/s]"
     ]
    },
    {
     "name": "stdout",
     "output_type": "stream",
     "text": [
      "FPS: 29 C:\\Users\\jingy\\Parkinson\\NIHXN551LBFMK\\Baseline\\ON Gait.MP4\n",
      "FPS: 29 C:\\Users\\jingy\\Parkinson\\NIHXN551LBFMK\\Baseline\\ON Gait.MP4\n"
     ]
    },
    {
     "name": "stderr",
     "output_type": "stream",
     "text": [
      "429it [01:16,  5.64it/s]"
     ]
    },
    {
     "name": "stdout",
     "output_type": "stream",
     "text": [
      "FPS: 29 C:\\Users\\jingy\\Parkinson\\NIHXN551LBFMK\\Baseline\\ON Gait.MP4\n",
      "FPS: 29 C:\\Users\\jingy\\Parkinson\\NIHXN551LBFMK\\Baseline\\ON Gait.MP4\n",
      "FPS:"
     ]
    },
    {
     "name": "stderr",
     "output_type": "stream",
     "text": [
      "430it [01:16,  5.56it/s]"
     ]
    },
    {
     "name": "stdout",
     "output_type": "stream",
     "text": [
      " 29 C:\\Users\\jingy\\Parkinson\\NIHXN551LBFMK\\Baseline\\ON Gait.MP4\n",
      "FPS: 29 C:\\Users\\jingy\\Parkinson\\NIHXN551LBFMK\\Month 24\\OFF gait.MP4\n",
      "FPS:"
     ]
    },
    {
     "name": "stderr",
     "output_type": "stream",
     "text": [
      "431it [01:17,  5.27it/s]"
     ]
    },
    {
     "name": "stdout",
     "output_type": "stream",
     "text": [
      " 29 C:\\Users\\jingy\\Parkinson\\NIHXN551LBFMK\\Month 24\\OFF gait.MP4\n",
      "FPS: 29 C:\\Users\\jingy\\Parkinson\\NIHXN551LBFMK\\Month 24\\OFF gait.MP4\n",
      "FPS: 29 C:\\Users\\jingy\\Parkinson\\NIHXN551LBFMK\\Month 24\\ON gait.MP4\n"
     ]
    },
    {
     "name": "stderr",
     "output_type": "stream",
     "text": [
      "434it [01:17,  6.50it/s]"
     ]
    },
    {
     "name": "stdout",
     "output_type": "stream",
     "text": [
      "FPS: 29 C:\\Users\\jingy\\Parkinson\\NIHXN551LBFMK\\Month 24\\ON gait.MP4\n",
      "FPS: 29 C:\\Users\\jingy\\Parkinson\\NIHXN551LBFMK\\Month 24\\ON gait.MP4\n",
      "FPS: 29 C:\\Users\\jingy\\Parkinson\\NIHXN893HPPRD\\Baseline\\Gait.MP4\n"
     ]
    },
    {
     "name": "stderr",
     "output_type": "stream",
     "text": [
      "436it [01:17,  6.69it/s]"
     ]
    },
    {
     "name": "stdout",
     "output_type": "stream",
     "text": [
      "FPS: 29 C:\\Users\\jingy\\Parkinson\\NIHXN893HPPRD\\Baseline\\Gait.MP4\n",
      "FPS: 29 C:\\Users\\jingy\\Parkinson\\NIHXN893HPPRD\\Baseline\\Gait.MP4\n",
      "FPS: 29 C:\\Users\\jingy\\Parkinson\\NIHXU164EVFHK\\Baseline\\OFF Gait.MP4\n"
     ]
    },
    {
     "name": "stderr",
     "output_type": "stream",
     "text": [
      "438it [01:18,  5.72it/s]"
     ]
    },
    {
     "name": "stdout",
     "output_type": "stream",
     "text": [
      "FPS: 29 C:\\Users\\jingy\\Parkinson\\NIHXU164EVFHK\\Baseline\\OFF Gait.MP4\n",
      "FPS: 29 C:\\Users\\jingy\\Parkinson\\NIHXU164EVFHK\\Baseline\\OFF Gait.MP4\n",
      "FPS: 29 C:\\Users\\jingy\\Parkinson\\NIHXU164EVFHK\\Baseline\\OFF Gait.MP4\n",
      "FPS: 29 C:\\Users\\jingy\\Parkinson\\NIHXU164EVFHK\\Baseline\\OFF Gait.MP4\n",
      "FPS: 29 C:\\Users\\jingy\\Parkinson\\NIHXU164EVFHK\\Baseline\\ON Gait.MP4\n"
     ]
    },
    {
     "name": "stderr",
     "output_type": "stream",
     "text": [
      "440it [01:18,  6.17it/s]"
     ]
    },
    {
     "name": "stdout",
     "output_type": "stream",
     "text": [
      "FPS: 29 C:\\Users\\jingy\\Parkinson\\NIHXU164EVFHK\\Baseline\\ON Gait.MP4\n",
      "FPS: 29 C:\\Users\\jingy\\Parkinson\\NIHXU164EVFHK\\Baseline\\ON Gait.MP4\n",
      "FPS: 29 C:\\Users\\jingy\\Parkinson\\NIHXW427TPBWT\\Baseline\\NIHXW427TPBWT OFF pt2.MP4\n"
     ]
    },
    {
     "name": "stderr",
     "output_type": "stream",
     "text": [
      "443it [01:18,  6.93it/s]"
     ]
    },
    {
     "name": "stdout",
     "output_type": "stream",
     "text": [
      "FPS: 29 C:\\Users\\jingy\\Parkinson\\NIHXW427TPBWT\\Baseline\\NIHXW427TPBWT OFF pt2.MP4\n",
      "FPS: 29 C:\\Users\\jingy\\Parkinson\\NIHXW427TPBWT\\Baseline\\NIHXW427TPBWT OFF pt2.MP4\n",
      "FPS: 29 C:\\Users\\jingy\\Parkinson\\NIHXW427TPBWT\\Baseline\\NIHXW427TPBWT ON pt2.MP4\n"
     ]
    },
    {
     "name": "stderr",
     "output_type": "stream",
     "text": [
      "445it [01:19,  6.02it/s]"
     ]
    },
    {
     "name": "stdout",
     "output_type": "stream",
     "text": [
      "FPS: 29 C:\\Users\\jingy\\Parkinson\\NIHXW427TPBWT\\Baseline\\NIHXW427TPBWT ON pt2.MP4\n",
      "FPS: 29 C:\\Users\\jingy\\Parkinson\\NIHXW427TPBWT\\Baseline\\NIHXW427TPBWT ON pt2.MP4\n",
      "FPS: 29 C:\\Users\\jingy\\Parkinson\\NIHXW427TPBWT\\Baseline\\NIHXW427TPBWT ON pt2.MP4\n"
     ]
    },
    {
     "name": "stderr",
     "output_type": "stream",
     "text": [
      "446it [01:19,  6.61it/s]"
     ]
    },
    {
     "name": "stdout",
     "output_type": "stream",
     "text": [
      "FPS: 29 C:\\Users\\jingy\\Parkinson\\NIHXW427TPBWT\\Baseline\\NIHXW427TPBWT ON pt2.MP4\n",
      "FPS: 29 C:\\Users\\jingy\\Parkinson\\NIHYD087LPDV2\\Baseline\\NIHYD087LPDV2 OFF pt2.MP4\n"
     ]
    },
    {
     "name": "stderr",
     "output_type": "stream",
     "text": [
      "447it [01:19,  6.10it/s]"
     ]
    },
    {
     "name": "stdout",
     "output_type": "stream",
     "text": [
      "FPS: 29 C:\\Users\\jingy\\Parkinson\\NIHYD087LPDV2\\Baseline\\NIHYD087LPDV2 OFF pt2.MP4\n",
      "FPS: 29 C:\\Users\\jingy\\Parkinson\\NIHYD087LPDV2\\Baseline\\NIHYD087LPDV2 OFF pt2.MP4\n",
      "FPS: 29 C:\\Users\\jingy\\Parkinson\\NIHYD087LPDV2\\Baseline\\NIHYD087LPDV2 ON pt2.MP4\n"
     ]
    },
    {
     "name": "stderr",
     "output_type": "stream",
     "text": [
      "449it [01:19,  6.32it/s]"
     ]
    },
    {
     "name": "stdout",
     "output_type": "stream",
     "text": [
      "FPS: 29 C:\\Users\\jingy\\Parkinson\\NIHYD087LPDV2\\Baseline\\NIHYD087LPDV2 ON pt2.MP4\n",
      "FPS: 29 C:\\Users\\jingy\\Parkinson\\NIHYD087LPDV2\\Baseline\\NIHYD087LPDV2 ON pt2.MP4\n",
      "FPS: 29 C:\\Users\\jingy\\Parkinson\\NIHYD087LPDV2\\Month 12\\OFF\\NIHYD087LPDV2_M12_GAIT_OFF.MP4\n"
     ]
    },
    {
     "name": "stderr",
     "output_type": "stream",
     "text": [
      "451it [01:20,  6.48it/s]"
     ]
    },
    {
     "name": "stdout",
     "output_type": "stream",
     "text": [
      "FPS: 29 C:\\Users\\jingy\\Parkinson\\NIHYD087LPDV2\\Month 12\\OFF\\NIHYD087LPDV2_M12_GAIT_OFF.MP4\n",
      "FPS: 29 C:\\Users\\jingy\\Parkinson\\NIHYD087LPDV2\\Month 12\\OFF\\NIHYD087LPDV2_M12_GAIT_OFF.MP4\n",
      "FPS: 29 C:\\Users\\jingy\\Parkinson\\NIHYD087LPDV2\\Month 12\\ON\\NIHYD087LPDV2_M12_GAIT_ON.MP4\n"
     ]
    },
    {
     "name": "stderr",
     "output_type": "stream",
     "text": [
      "453it [01:20,  6.50it/s]"
     ]
    },
    {
     "name": "stdout",
     "output_type": "stream",
     "text": [
      "FPS: 29 C:\\Users\\jingy\\Parkinson\\NIHYD087LPDV2\\Month 12\\ON\\NIHYD087LPDV2_M12_GAIT_ON.MP4\n",
      "FPS: 29 C:\\Users\\jingy\\Parkinson\\NIHYD087LPDV2\\Month 12\\ON\\NIHYD087LPDV2_M12_GAIT_ON.MP4\n",
      "FPS: 29 C:\\Users\\jingy\\Parkinson\\NIHYT601GVTH5\\Baseline\\Control Gait.MP4\n"
     ]
    },
    {
     "name": "stderr",
     "output_type": "stream",
     "text": [
      "455it [01:20,  6.60it/s]"
     ]
    },
    {
     "name": "stdout",
     "output_type": "stream",
     "text": [
      "FPS: 29 C:\\Users\\jingy\\Parkinson\\NIHYT601GVTH5\\Baseline\\Control Gait.MP4\n",
      "FPS: 29 C:\\Users\\jingy\\Parkinson\\NIHYT601GVTH5\\Baseline\\Control Gait.MP4\n",
      "FPS:"
     ]
    },
    {
     "name": "stderr",
     "output_type": "stream",
     "text": [
      "456it [01:20,  6.24it/s]"
     ]
    },
    {
     "name": "stdout",
     "output_type": "stream",
     "text": [
      " 29 C:\\Users\\jingy\\Parkinson\\NIHYT601GVTH5\\Baseline\\Control Gait.MP4\n",
      "FPS: 29 C:\\Users\\jingy\\Parkinson\\NIHYT601GVTH5\\Baseline\\Control Gait.MP4\n",
      "FPS: 29 C:\\Users\\jingy\\Parkinson\\NIHYT601GVTH5\\Baseline\\Control Gait.MP4"
     ]
    },
    {
     "name": "stderr",
     "output_type": "stream",
     "text": [
      "457it [01:21,  5.97it/s]"
     ]
    },
    {
     "name": "stdout",
     "output_type": "stream",
     "text": [
      "\n",
      "FPS: 29 C:\\Users\\jingy\\Parkinson\\NIHYT601GVTH5\\Baseline\\Control Gait.MP4\n",
      "FPS: 29 C:\\Users\\jingy\\Parkinson\\NIHYT601GVTH5\\Month 24\\MVI_0131_TUG_10meter.MP4\n"
     ]
    },
    {
     "name": "stderr",
     "output_type": "stream",
     "text": [
      "459it [01:21,  6.30it/s]"
     ]
    },
    {
     "name": "stdout",
     "output_type": "stream",
     "text": [
      "FPS: 29 C:\\Users\\jingy\\Parkinson\\NIHYT601GVTH5\\Month 24\\MVI_0131_TUG_10meter.MP4\n",
      "FPS: 29 C:\\Users\\jingy\\Parkinson\\NIHYT601GVTH5\\Month 24\\MVI_0131_TUG_10meter.MP4\n",
      "FPS:"
     ]
    },
    {
     "name": "stderr",
     "output_type": "stream",
     "text": [
      "461it [01:21,  6.62it/s]"
     ]
    },
    {
     "name": "stdout",
     "output_type": "stream",
     "text": [
      " 29 C:\\Users\\jingy\\Parkinson\\NIHYT601GVTH5\\Month 24\\MVI_0131_TUG_10meter.MP4\n",
      "FPS: 29 C:\\Users\\jingy\\Parkinson\\NIHYT601GVTH5\\Month 24\\MVI_0131_TUG_10meter.MP4\n",
      "FPS: 29 C:\\Users\\jingy\\Parkinson\\NIHYW345FJFDF\\Baseline\\NIHYW345FJFDF OFF pt2.MP4\n"
     ]
    },
    {
     "name": "stderr",
     "output_type": "stream",
     "text": [
      "462it [01:21,  6.25it/s]"
     ]
    },
    {
     "name": "stdout",
     "output_type": "stream",
     "text": [
      "FPS: 29 C:\\Users\\jingy\\Parkinson\\NIHYW345FJFDF\\Baseline\\NIHYW345FJFDF OFF pt2.MP4\n",
      "FPS: 29 C:\\Users\\jingy\\Parkinson\\NIHYW345FJFDF\\Baseline\\NIHYW345FJFDF OFF pt2.MP4\n",
      "FPS: 29 C:\\Users\\jingy\\Parkinson\\NIHYW345FJFDF\\Baseline\\NIHYW345FJFDF ON pt3.MP4\n"
     ]
    },
    {
     "name": "stderr",
     "output_type": "stream",
     "text": [
      "465it [01:22,  6.73it/s]"
     ]
    },
    {
     "name": "stdout",
     "output_type": "stream",
     "text": [
      "FPS: 29 C:\\Users\\jingy\\Parkinson\\NIHYW345FJFDF\\Baseline\\NIHYW345FJFDF ON pt3.MP4\n",
      "FPS: 29 C:\\Users\\jingy\\Parkinson\\NIHYW345FJFDF\\Baseline\\NIHYW345FJFDF ON pt3.MP4\n",
      "FPS: 29 C:\\Users\\jingy\\Parkinson\\NIHZB051YHETP\\Baseline Visit\\NIHZB051YHETP_OFF_Part_2.MP4\n"
     ]
    },
    {
     "name": "stderr",
     "output_type": "stream",
     "text": [
      "467it [01:22,  6.35it/s]"
     ]
    },
    {
     "name": "stdout",
     "output_type": "stream",
     "text": [
      "FPS: 29 C:\\Users\\jingy\\Parkinson\\NIHZB051YHETP\\Baseline Visit\\NIHZB051YHETP_OFF_Part_2.MP4\n",
      "FPS: 29 C:\\Users\\jingy\\Parkinson\\NIHZB051YHETP\\Baseline Visit\\NIHZB051YHETP_OFF_Part_2.MP4\n",
      "FPS: 29 C:\\Users\\jingy\\Parkinson\\NIHZB051YHETP\\Baseline Visit\\NIHZB051YHETP_ON_Part_2.MP4\n"
     ]
    },
    {
     "name": "stderr",
     "output_type": "stream",
     "text": [
      "469it [01:23,  5.65it/s]"
     ]
    },
    {
     "name": "stdout",
     "output_type": "stream",
     "text": [
      "FPS: 29 C:\\Users\\jingy\\Parkinson\\NIHZB051YHETP\\Baseline Visit\\NIHZB051YHETP_ON_Part_2.MP4\n",
      "FPS: 29 C:\\Users\\jingy\\Parkinson\\NIHZB051YHETP\\Baseline Visit\\NIHZB051YHETP_ON_Part_2.MP4\n"
     ]
    },
    {
     "name": "stderr",
     "output_type": "stream",
     "text": [
      "\n"
     ]
    }
   ],
   "source": [
    "def check_ouput_vid(df):\n",
    "    for index, row in tqdm(df.iterrows()):\n",
    "        # make sure column name is corrects(without extra space)\n",
    "        vid_path = row.get(\"Video_Path\")\n",
    "        vid_path = vid_path.replace('\"','')\n",
    "        FW_Start, FW_End = row.get(\"FW_Start\"), row.get(\"FW_End\")\n",
    "        BW_Start, BW_End = row.get(\"BW_Start\"), row.get(\"BW_End\")\n",
    "        # define some output directories and video_name\n",
    "        data_dir = os.path.join(os.getcwd(),\"dataset\")\n",
    "        subject_dir = os.path.join(data_dir,vid_path.split(\"\\\\\")[4])\n",
    "        # make folder\n",
    "        \n",
    "        if not pd.isnull(FW_Start) and not pd.isnull(FW_End):\n",
    "            output_vid = os.path.join(subject_dir, row[\"Time\"]+\"_\"+\"FW_\"+row[\"R1 or R2\"]+\"_\"+str(FW_Start)+\"_.avi\")\n",
    "            cap = cv2.VideoCapture(vid_path)\n",
    "            fps = int(cap.get(cv2.CAP_PROP_FPS))\n",
    "            if fps!=30:\n",
    "                print(\"FPS:\", fps, vid_path)\n",
    "\n",
    "            ret, frame = cap.read()\n",
    "            if ret != True:\n",
    "                print(\"unreadable: \"+vid_path)\n",
    "            if int(fps) == 0:\n",
    "                print(\"fps equals 0: \"+vid_path)\n",
    "        \n",
    "        if not pd.isnull(BW_Start) and not pd.isnull(BW_End):\n",
    "            output_vid = os.path.join(subject_dir, row[\"Time\"]+\"_\"+\"BW_\"+row[\"R1 or R2\"]+\"_\"+str(BW_Start)+\"_.avi\")\n",
    "            cap = cv2.VideoCapture(vid_path)\n",
    "            fps = int(cap.get(cv2.CAP_PROP_FPS))\n",
    "            ret, frame = cap.read()\n",
    "            if fps!=30:\n",
    "                print(\"FPS:\", fps, vid_path)\n",
    "            if ret != True:\n",
    "                print(\"unreadable: \"+vid_path)\n",
    "            if int(fps) == 0:\n",
    "                print(\"fps equals 0: \"+vid_path)\n",
    "check_ouput_vid(df)"
   ]
  },
  {
   "cell_type": "code",
   "execution_count": null,
   "metadata": {},
   "outputs": [],
   "source": []
  }
 ],
 "metadata": {
  "kernelspec": {
   "display_name": "simhrnet",
   "language": "python",
   "name": "python3"
  },
  "language_info": {
   "codemirror_mode": {
    "name": "ipython",
    "version": 3
   },
   "file_extension": ".py",
   "mimetype": "text/x-python",
   "name": "python",
   "nbconvert_exporter": "python",
   "pygments_lexer": "ipython3",
   "version": "3.8.11"
  },
  "orig_nbformat": 4,
  "vscode": {
   "interpreter": {
    "hash": "278c0a692909be935b2722507d6e4b89ee85d70589a1d7d6b9099b75c6b3e353"
   }
  }
 },
 "nbformat": 4,
 "nbformat_minor": 2
}
