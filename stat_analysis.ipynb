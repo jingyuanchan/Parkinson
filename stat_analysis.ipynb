{
 "cells": [
  {
   "cell_type": "code",
   "execution_count": 120,
   "metadata": {},
   "outputs": [],
   "source": [
    "import numpy as np\n",
    "import cv2\n",
    "import pandas as pd\n",
    "import os\n",
    "from tqdm import tqdm\n",
    "trim_csv =r\"C:\\Users\\jingy\\Parkinson\\Codes\\data_trim.csv\"\n",
    "df= pd.read_csv(trim_csv)"
   ]
  },
  {
   "cell_type": "code",
   "execution_count": 121,
   "metadata": {},
   "outputs": [
    {
     "data": {
      "text/html": [
       "<div>\n",
       "<style scoped>\n",
       "    .dataframe tbody tr th:only-of-type {\n",
       "        vertical-align: middle;\n",
       "    }\n",
       "\n",
       "    .dataframe tbody tr th {\n",
       "        vertical-align: top;\n",
       "    }\n",
       "\n",
       "    .dataframe thead th {\n",
       "        text-align: right;\n",
       "    }\n",
       "</style>\n",
       "<table border=\"1\" class=\"dataframe\">\n",
       "  <thead>\n",
       "    <tr style=\"text-align: right;\">\n",
       "      <th></th>\n",
       "      <th>Video_Path</th>\n",
       "      <th>Time</th>\n",
       "      <th>ON or OFF</th>\n",
       "      <th>R1 or R2</th>\n",
       "      <th>Halfway or Wholeway</th>\n",
       "      <th>FW_Start</th>\n",
       "      <th>FW_End</th>\n",
       "      <th>BW_Start</th>\n",
       "      <th>BW_End</th>\n",
       "      <th>Video Condition</th>\n",
       "    </tr>\n",
       "  </thead>\n",
       "  <tbody>\n",
       "    <tr>\n",
       "      <th>0</th>\n",
       "      <td>\"C:\\Users\\jingy\\Parkinson\\NIHFX695VBHFM\\Baseli...</td>\n",
       "      <td>Baseline</td>\n",
       "      <td>OFF</td>\n",
       "      <td>R1</td>\n",
       "      <td>Whole</td>\n",
       "      <td>12.00</td>\n",
       "      <td>18.44</td>\n",
       "      <td>20.68</td>\n",
       "      <td>25.08</td>\n",
       "      <td>NaN</td>\n",
       "    </tr>\n",
       "    <tr>\n",
       "      <th>1</th>\n",
       "      <td>\"C:\\Users\\jingy\\Parkinson\\NIHFX695VBHFM\\Baseli...</td>\n",
       "      <td>Baseline</td>\n",
       "      <td>OFF</td>\n",
       "      <td>R2</td>\n",
       "      <td>Whole</td>\n",
       "      <td>168.64</td>\n",
       "      <td>180.00</td>\n",
       "      <td>189.52</td>\n",
       "      <td>199.08</td>\n",
       "      <td>NaN</td>\n",
       "    </tr>\n",
       "    <tr>\n",
       "      <th>2</th>\n",
       "      <td>\"C:\\Users\\jingy\\Parkinson\\NIHFX695VBHFM\\Month ...</td>\n",
       "      <td>M12</td>\n",
       "      <td>OFF</td>\n",
       "      <td>R1</td>\n",
       "      <td>Half</td>\n",
       "      <td>NaN</td>\n",
       "      <td>NaN</td>\n",
       "      <td>25.92</td>\n",
       "      <td>31.60</td>\n",
       "      <td>NaN</td>\n",
       "    </tr>\n",
       "    <tr>\n",
       "      <th>3</th>\n",
       "      <td>\"C:\\Users\\jingy\\Parkinson\\NIHFX695VBHFM\\Month ...</td>\n",
       "      <td>M12</td>\n",
       "      <td>OFF</td>\n",
       "      <td>R2</td>\n",
       "      <td>Whole</td>\n",
       "      <td>150.52</td>\n",
       "      <td>161.48</td>\n",
       "      <td>174.32</td>\n",
       "      <td>184.72</td>\n",
       "      <td>NaN</td>\n",
       "    </tr>\n",
       "    <tr>\n",
       "      <th>4</th>\n",
       "      <td>\"C:\\Users\\jingy\\Parkinson\\NIHFX695VBHFM\\Month ...</td>\n",
       "      <td>M12</td>\n",
       "      <td>ON</td>\n",
       "      <td>R1</td>\n",
       "      <td>Half</td>\n",
       "      <td>15.96</td>\n",
       "      <td>21.20</td>\n",
       "      <td>23.56</td>\n",
       "      <td>29.04</td>\n",
       "      <td>NaN</td>\n",
       "    </tr>\n",
       "    <tr>\n",
       "      <th>...</th>\n",
       "      <td>...</td>\n",
       "      <td>...</td>\n",
       "      <td>...</td>\n",
       "      <td>...</td>\n",
       "      <td>...</td>\n",
       "      <td>...</td>\n",
       "      <td>...</td>\n",
       "      <td>...</td>\n",
       "      <td>...</td>\n",
       "      <td>...</td>\n",
       "    </tr>\n",
       "    <tr>\n",
       "      <th>464</th>\n",
       "      <td>\"C:\\Users\\jingy\\Parkinson\\NIHYW345FJFDF\\Baseli...</td>\n",
       "      <td>Baseline</td>\n",
       "      <td>ON</td>\n",
       "      <td>R2</td>\n",
       "      <td>Half</td>\n",
       "      <td>90.00</td>\n",
       "      <td>96.00</td>\n",
       "      <td>NaN</td>\n",
       "      <td>NaN</td>\n",
       "      <td>NaN</td>\n",
       "    </tr>\n",
       "    <tr>\n",
       "      <th>465</th>\n",
       "      <td>\"C:\\Users\\jingy\\Parkinson\\NIHZB051YHETP\\Baseli...</td>\n",
       "      <td>Baseline</td>\n",
       "      <td>OFF</td>\n",
       "      <td>R1</td>\n",
       "      <td>Whole</td>\n",
       "      <td>148.00</td>\n",
       "      <td>157.00</td>\n",
       "      <td>172.00</td>\n",
       "      <td>178.50</td>\n",
       "      <td>NaN</td>\n",
       "    </tr>\n",
       "    <tr>\n",
       "      <th>466</th>\n",
       "      <td>\"C:\\Users\\jingy\\Parkinson\\NIHZB051YHETP\\Baseli...</td>\n",
       "      <td>Baseline</td>\n",
       "      <td>OFF</td>\n",
       "      <td>R2</td>\n",
       "      <td>Half</td>\n",
       "      <td>183.00</td>\n",
       "      <td>192.00</td>\n",
       "      <td>NaN</td>\n",
       "      <td>NaN</td>\n",
       "      <td>NaN</td>\n",
       "    </tr>\n",
       "    <tr>\n",
       "      <th>467</th>\n",
       "      <td>\"C:\\Users\\jingy\\Parkinson\\NIHZB051YHETP\\Baseli...</td>\n",
       "      <td>Baseline</td>\n",
       "      <td>ON</td>\n",
       "      <td>R1</td>\n",
       "      <td>Whole</td>\n",
       "      <td>76.00</td>\n",
       "      <td>84.00</td>\n",
       "      <td>99.00</td>\n",
       "      <td>105.50</td>\n",
       "      <td>NaN</td>\n",
       "    </tr>\n",
       "    <tr>\n",
       "      <th>468</th>\n",
       "      <td>\"C:\\Users\\jingy\\Parkinson\\NIHZB051YHETP\\Baseli...</td>\n",
       "      <td>Baseline</td>\n",
       "      <td>ON</td>\n",
       "      <td>R2</td>\n",
       "      <td>Half</td>\n",
       "      <td>110.00</td>\n",
       "      <td>118.50</td>\n",
       "      <td>NaN</td>\n",
       "      <td>NaN</td>\n",
       "      <td>NaN</td>\n",
       "    </tr>\n",
       "  </tbody>\n",
       "</table>\n",
       "<p>469 rows × 10 columns</p>\n",
       "</div>"
      ],
      "text/plain": [
       "                                            Video_Path      Time ON or OFF  \\\n",
       "0    \"C:\\Users\\jingy\\Parkinson\\NIHFX695VBHFM\\Baseli...  Baseline       OFF   \n",
       "1    \"C:\\Users\\jingy\\Parkinson\\NIHFX695VBHFM\\Baseli...  Baseline       OFF   \n",
       "2    \"C:\\Users\\jingy\\Parkinson\\NIHFX695VBHFM\\Month ...       M12       OFF   \n",
       "3    \"C:\\Users\\jingy\\Parkinson\\NIHFX695VBHFM\\Month ...       M12       OFF   \n",
       "4    \"C:\\Users\\jingy\\Parkinson\\NIHFX695VBHFM\\Month ...       M12        ON   \n",
       "..                                                 ...       ...       ...   \n",
       "464  \"C:\\Users\\jingy\\Parkinson\\NIHYW345FJFDF\\Baseli...  Baseline        ON   \n",
       "465  \"C:\\Users\\jingy\\Parkinson\\NIHZB051YHETP\\Baseli...  Baseline       OFF   \n",
       "466  \"C:\\Users\\jingy\\Parkinson\\NIHZB051YHETP\\Baseli...  Baseline       OFF   \n",
       "467  \"C:\\Users\\jingy\\Parkinson\\NIHZB051YHETP\\Baseli...  Baseline        ON   \n",
       "468  \"C:\\Users\\jingy\\Parkinson\\NIHZB051YHETP\\Baseli...  Baseline        ON   \n",
       "\n",
       "    R1 or R2 Halfway or Wholeway  FW_Start  FW_End  BW_Start  BW_End  \\\n",
       "0         R1               Whole     12.00   18.44     20.68   25.08   \n",
       "1         R2               Whole    168.64  180.00    189.52  199.08   \n",
       "2         R1                Half       NaN     NaN     25.92   31.60   \n",
       "3         R2               Whole    150.52  161.48    174.32  184.72   \n",
       "4         R1                Half     15.96   21.20     23.56   29.04   \n",
       "..       ...                 ...       ...     ...       ...     ...   \n",
       "464       R2                Half     90.00   96.00       NaN     NaN   \n",
       "465       R1               Whole    148.00  157.00    172.00  178.50   \n",
       "466       R2                Half    183.00  192.00       NaN     NaN   \n",
       "467       R1               Whole     76.00   84.00     99.00  105.50   \n",
       "468       R2                Half    110.00  118.50       NaN     NaN   \n",
       "\n",
       "    Video Condition  \n",
       "0               NaN  \n",
       "1               NaN  \n",
       "2               NaN  \n",
       "3               NaN  \n",
       "4               NaN  \n",
       "..              ...  \n",
       "464             NaN  \n",
       "465             NaN  \n",
       "466             NaN  \n",
       "467             NaN  \n",
       "468             NaN  \n",
       "\n",
       "[469 rows x 10 columns]"
      ]
     },
     "execution_count": 121,
     "metadata": {},
     "output_type": "execute_result"
    }
   ],
   "source": [
    "df"
   ]
  },
  {
   "cell_type": "code",
   "execution_count": 122,
   "metadata": {},
   "outputs": [],
   "source": [
    "def check_trim_csv(df):\n",
    "    for index, row in df.iterrows():\n",
    "        # make sure column name is corrects(without extra space)\n",
    "        vid_path = row.get(\"Video_Path\")\n",
    "        FW_Start, FW_End = row.get(\"FW_Start\"), row.get(\"FW_End\")\n",
    "        BW_Start, BW_End = row.get(\"BW_Start\"), row.get(\"BW_End\")\n",
    "        vid_path = vid_path.replace('\"','')\n",
    "        #check if video exist\n",
    "        try:\n",
    "            os.path.exists(vid_path)\n",
    "        except:\n",
    "            print(\"File not exists:\", vid_path)\n",
    "        #check if the label is correct\n",
    "        if not pd.isnull(FW_Start) and not pd.isnull(FW_End):\n",
    "            try:\n",
    "                assert FW_Start< FW_End\n",
    "                assert FW_End-FW_Start < 20\n",
    "            except:\n",
    "                print(\"Incorrect Time\", index)\n",
    "                \n",
    "        if not pd.isnull(BW_Start) and not pd.isnull(BW_End):\n",
    "            try:\n",
    "                assert BW_Start< BW_End\n",
    "                assert BW_End-BW_Start < 20\n",
    "            except:\n",
    "                print(\"Incorrect Time\", index)\n",
    "check_trim_csv(df)"
   ]
  },
  {
   "cell_type": "code",
   "execution_count": 135,
   "metadata": {},
   "outputs": [
    {
     "name": "stdout",
     "output_type": "stream",
     "text": [
      "Total Gait Num:786\n",
      "Forward Gait Num:463\n",
      "Backward Gait Num:323\n",
      "Paired Walk NUM:534\n",
      "Clean Paired Walk NUM:488\n",
      "Flawed Paired Walk NUM:46\n",
      "Camera Shaking    23\n",
      "View Shift         8\n",
      "View shift         4\n",
      "Moving Camera      3\n",
      "Name: Video Condition, dtype: int64\n"
     ]
    },
    {
     "data": {
      "image/png": "[encoded data removed]",
      "text/plain": [
       "<Figure size 864x576 with 1 Axes>"
      ]
     },
     "metadata": {
      "needs_background": "light"
     },
     "output_type": "display_data"
    },
    {
     "data": {
      "image/png": "[encoded data removed]",
      "text/plain": [
       "<Figure size 864x576 with 1 Axes>"
      ]
     },
     "metadata": {
      "needs_background": "light"
     },
     "output_type": "display_data"
    },
    {
     "data": {
      "image/png": "[encoded data removed]",
      "text/plain": [
       "<Figure size 864x576 with 1 Axes>"
      ]
     },
     "metadata": {
      "needs_background": "light"
     },
     "output_type": "display_data"
    }
   ],
   "source": [
    "def stat(df):\n",
    "    FW_NUM, BW_NUM, Clean_NUM = 0,0,0\n",
    "    flawed_vid = 0\n",
    "    whole_vid = 0\n",
    "    FW_len_list=[]\n",
    "    BW_len_list=[]\n",
    "    for index, row in df.iterrows():\n",
    "        # make sure column name is corrects(without extra space)\n",
    "        vid_path = row.get(\"Video_Path\")\n",
    "        FW_Start, FW_End = row.get(\"FW_Start\"), row.get(\"FW_End\")\n",
    "        BW_Start, BW_End = row.get(\"BW_Start\"), row.get(\"BW_End\")\n",
    "        vid_path = vid_path.replace('\"','')\n",
    "        video_condition = row.get(\"Video Condition\")\n",
    "        length = row.get(\"Halfway or Wholeway\")\n",
    "\n",
    "        #check if the label is correct\n",
    "        if not pd.isnull(FW_Start) and not pd.isnull(FW_End):\n",
    "            FW_NUM+=1\n",
    "            FW_len_list.append(FW_End-FW_Start)\n",
    "        if not pd.isnull(BW_Start) and not pd.isnull(BW_End):\n",
    "            BW_NUM+=1\n",
    "            BW_len_list.append(BW_End-BW_Start)\n",
    "        if length == \"Whole\" and  pd.isnull(video_condition):\n",
    "            Clean_NUM+=1\n",
    "        if length == \"Whole\":\n",
    "            whole_vid+=1\n",
    "        if not pd.isnull(video_condition) and length == \"Whole\":\n",
    "            flawed_vid+=1\n",
    "\n",
    "    Total_NUM = FW_NUM + BW_NUM\n",
    "    Total_len_list = FW_len_list + BW_len_list\n",
    "    len_df = pd.DataFrame(Total_len_list, columns=['Total_len'])\n",
    "    FW_df = pd.DataFrame(FW_len_list, columns=[\"Forward_len\"])\n",
    "    BW_df = pd.DataFrame(BW_len_list, columns=[\"Backward_len\"])\n",
    "    ax1 = len_df.plot.hist(bins=15,figsize=(12, 8),color='#86bf91',rwidth=0.95)\n",
    "    ax2 = FW_df.plot.hist(bins=15,figsize=(12, 8),color='#86bf91',rwidth=0.95)\n",
    "    ax3 = BW_df.plot.hist(bins=15,figsize=(12, 8),color='#86bf91',rwidth=0.95)\n",
    "\n",
    "    print(\"Total Gait Num:{0}\\nForward Gait Num:{1}\\nBackward Gait Num:{2}\\nPaired Walk NUM:{3}\\nClean Paired Walk NUM:{4}\\nFlawed Paired Walk NUM:{5}\".format(Total_NUM, FW_NUM, BW_NUM, whole_vid*2, Clean_NUM*2, flawed_vid*2))\n",
    "    # print(df[\"Halfway or Wholeway\"].value_counts())\n",
    "    print(df[\"Video Condition\"].value_counts())\n",
    "        \n",
    "\n",
    "stat(df)"
   ]
  },
  {
   "cell_type": "code",
   "execution_count": 124,
   "metadata": {},
   "outputs": [],
   "source": [
    "import seaborn as sns\n",
    "import matplotlib.pyplot as plt\n",
    "# %matplotlib inline\n"
   ]
  },
  {
   "cell_type": "code",
   "execution_count": 125,
   "metadata": {},
   "outputs": [
    {
     "name": "stderr",
     "output_type": "stream",
     "text": [
      "C:\\Users\\jingy\\anaconda3\\envs\\simhrnet\\lib\\site-packages\\seaborn\\_decorators.py:36: FutureWarning: Pass the following variable as a keyword arg: x. From version 0.12, the only valid positional argument will be `data`, and passing other arguments without an explicit keyword will result in an error or misinterpretation.\n",
      "  warnings.warn(\n"
     ]
    },
    {
     "data": {
      "text/plain": [
       "Text(0, 0.5, 'Number')"
      ]
     },
     "execution_count": 125,
     "metadata": {},
     "output_type": "execute_result"
    },
    {
     "data": {
      "image/png": "[encoded data removed]",
      "text/plain": [
       "<Figure size 432x288 with 1 Axes>"
      ]
     },
     "metadata": {
      "needs_background": "light"
     },
     "output_type": "display_data"
    }
   ],
   "source": [
    "count,ax = plt.subplots()\n",
    "ax = sns.countplot('Halfway or Wholeway', data=df)\n",
    "ax.set_title('Gait stat')\n",
    "ax.set_xlabel('Two kinds of Gait')\n",
    "ax.set_ylabel('Number')\n"
   ]
  },
  {
   "cell_type": "code",
   "execution_count": null,
   "metadata": {},
   "outputs": [],
   "source": []
  },
  {
   "cell_type": "code",
   "execution_count": null,
   "metadata": {},
   "outputs": [],
   "source": []
  },
  {
   "cell_type": "markdown",
   "metadata": {},
   "source": []
  }
 ],
 "metadata": {
  "kernelspec": {
   "display_name": "simhrnet",
   "language": "python",
   "name": "python3"
  },
  "language_info": {
   "codemirror_mode": {
    "name": "ipython",
    "version": 3
   },
   "file_extension": ".py",
   "mimetype": "text/x-python",
   "name": "python",
   "nbconvert_exporter": "python",
   "pygments_lexer": "ipython3",
   "version": "3.8.11"
  },
  "orig_nbformat": 4,
  "vscode": {
   "interpreter": {
    "hash": "278c0a692909be935b2722507d6e4b89ee85d70589a1d7d6b9099b75c6b3e353"
   }
  }
 },
 "nbformat": 4,
 "nbformat_minor": 2
}
