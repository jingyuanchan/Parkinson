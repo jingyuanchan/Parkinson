{
 "cells": [
  {
   "cell_type": "code",
   "execution_count": 2,
   "metadata": {},
   "outputs": [
    {
     "name": "stderr",
     "output_type": "stream",
     "text": [
      "C:\\Users\\jingy\\AppData\\Local\\Temp/ipykernel_26540/1191500242.py:12: SettingWithCopyWarning: \n",
      "A value is trying to be set on a copy of a slice from a DataFrame.\n",
      "Try using .loc[row_indexer,col_indexer] = value instead\n",
      "\n",
      "See the caveats in the documentation: https://pandas.pydata.org/pandas-docs/stable/user_guide/indexing.html#returning-a-view-versus-a-copy\n",
      "  df_FW['id'] = np.nan\n",
      "C:\\Users\\jingy\\AppData\\Local\\Temp/ipykernel_26540/1191500242.py:13: SettingWithCopyWarning: \n",
      "A value is trying to be set on a copy of a slice from a DataFrame.\n",
      "Try using .loc[row_indexer,col_indexer] = value instead\n",
      "\n",
      "See the caveats in the documentation: https://pandas.pydata.org/pandas-docs/stable/user_guide/indexing.html#returning-a-view-versus-a-copy\n",
      "  df_FW['condition'] = np.nan\n"
     ]
    }
   ],
   "source": [
    "import pandas as pd\n",
    "import numpy as np\n",
    "import os\n",
    "import cv2\n",
    "\n",
    "Video_dir=r\"C:\\Users\\jingy\\Parkinson\\Codes\\data\\visual_03_19\\FW/\"\n",
    "video_list= os.listdir(Video_dir)\n",
    "\n",
    "csv_gt = r'C:\\Users\\jingy\\Parkinson\\Codes\\csv\\map.csv'\n",
    "df = pd.read_csv(csv_gt)\n",
    "df= df[['video', 'gait_score']]\n",
    "df_FW= df [ df['video'].str.contains('_FW_') ]\n",
    "df_FW['id'] = np.nan\n",
    "df_FW['condition'] = np.nan"
   ]
  },
  {
   "cell_type": "code",
   "execution_count": 6,
   "metadata": {},
   "outputs": [],
   "source": [
    "df_FW.to_csv(r'C:\\Users\\jingy\\Parkinson\\Codes\\csv/FW_gt.csv', index=False)"
   ]
  },
  {
   "cell_type": "code",
   "execution_count": 3,
   "metadata": {},
   "outputs": [],
   "source": [
    "df_FW=pd.read_csv(r'C:\\Users\\jingy\\Parkinson\\Codes\\csv/FW_gt.csv')"
   ]
  },
  {
   "cell_type": "code",
   "execution_count": 11,
   "metadata": {},
   "outputs": [],
   "source": [
    "\n",
    "for index, row in df_FW.iterrows():\n",
    "    if index !=221-2:\n",
    "        continue\n",
    "    video_name= row['video']\n",
    "    file_name = Video_dir+ video_name\n",
    "    # print(os.path.exists(file_name))\n",
    "    cap = cv2.VideoCapture(file_name)\n",
    "    frame_num = int(cap.get(7))\n",
    "    fps = cap.get(cv2.CAP_PROP_FPS)\n",
    "        \n",
    "    for i in range(frame_num):\n",
    "\n",
    "        ret, frame = cap.read()\n",
    "        cv2.namedWindow(str(index+2), cv2.WINDOW_NORMAL)\n",
    "        cv2.resizeWindow(str(index+2), 900, 900)\n",
    "        cv2.imshow(str(index+2),frame)\n",
    "        k=cv2.waitKey(30)\n",
    "        \n",
    "        if k & 0xFF == ord(' '):               \n",
    "            break\n",
    "    cap.release()\n",
    "    cv2.destroyAllWindows()\n",
    "\n"
   ]
  },
  {
   "cell_type": "code",
   "execution_count": null,
   "metadata": {},
   "outputs": [],
   "source": []
  }
 ],
 "metadata": {
  "interpreter": {
   "hash": "76f09807097acee1dd8db45aa6801b10e61a40bc5f730e806f23ebc4b70de0ff"
  },
  "kernelspec": {
   "display_name": "Python 3.8.11 ('simhrnet')",
   "language": "python",
   "name": "python3"
  },
  "language_info": {
   "codemirror_mode": {
    "name": "ipython",
    "version": 3
   },
   "file_extension": ".py",
   "mimetype": "text/x-python",
   "name": "python",
   "nbconvert_exporter": "python",
   "pygments_lexer": "ipython3",
   "version": "3.8.11"
  },
  "orig_nbformat": 4
 },
 "nbformat": 4,
 "nbformat_minor": 2
}
