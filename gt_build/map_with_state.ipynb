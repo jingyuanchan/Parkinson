{
 "cells": [
  {
   "cell_type": "code",
   "execution_count": 12,
   "metadata": {},
   "outputs": [
    {
     "name": "stdout",
     "output_type": "stream",
     "text": [
      "460\n"
     ]
    }
   ],
   "source": [
    "import os \n",
    "import numpy \n",
    "direction = 'FW'\n",
    "with_dir=r'C:\\Users\\jingy\\Parkinson\\Codes\\data\\combined_with_state/'\n",
    "\n",
    "wo_dir = r'C:\\Users\\jingy\\Parkinson\\Codes\\data\\data_03_19/'+direction+'/'\n",
    "split_token = '_'+direction+'_'\n",
    "vid_with_state=os.listdir(with_dir)\n",
    "vid_wo_state = os.listdir(wo_dir)\n",
    "# For Foward videos\n",
    "num =0\n",
    "for vid_wo in vid_wo_state:\n",
    "    before_state=vid_wo.split(split_token)[0]\n",
    "    after_state =vid_wo.split(split_token)[1]\n",
    "    # print(after_state)\n",
    "    for vid_w in vid_with_state:\n",
    "        if before_state in vid_w and after_state in vid_w:\n",
    "            num+=1\n",
    "            os.rename(wo_dir+vid_wo, wo_dir+vid_w)\n",
    "print(num)"
   ]
  },
  {
   "cell_type": "code",
   "execution_count": null,
   "metadata": {},
   "outputs": [],
   "source": []
  }
 ],
 "metadata": {
  "interpreter": {
   "hash": "76f09807097acee1dd8db45aa6801b10e61a40bc5f730e806f23ebc4b70de0ff"
  },
  "kernelspec": {
   "display_name": "Python 3.8.11 ('simhrnet')",
   "language": "python",
   "name": "python3"
  },
  "language_info": {
   "codemirror_mode": {
    "name": "ipython",
    "version": 3
   },
   "file_extension": ".py",
   "mimetype": "text/x-python",
   "name": "python",
   "nbconvert_exporter": "python",
   "pygments_lexer": "ipython3",
   "version": "3.8.11"
  },
  "orig_nbformat": 4
 },
 "nbformat": 4,
 "nbformat_minor": 2
}
